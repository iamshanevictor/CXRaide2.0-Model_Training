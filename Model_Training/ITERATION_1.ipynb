{
  "nbformat": 4,
  "nbformat_minor": 0,
  "metadata": {
    "colab": {
      "provenance": [],
      "authorship_tag": "ABX9TyOKTjyGItPIMzN4e6psSKLj",
      "include_colab_link": true
    },
    "kernelspec": {
      "name": "python3",
      "display_name": "Python 3"
    },
    "language_info": {
      "name": "python"
    }
  },
  "cells": [
    {
      "cell_type": "markdown",
      "metadata": {
        "id": "view-in-github",
        "colab_type": "text"
      },
      "source": [
        "<a href=\"https://colab.research.google.com/github/iamshanevictor/CXRaide2.0-Model_Training/blob/main/ITERATION_1.ipynb\" target=\"_parent\"><img src=\"https://colab.research.google.com/assets/colab-badge.svg\" alt=\"Open In Colab\"/></a>"
      ]
    },
    {
      "cell_type": "code",
      "source": [
        "from google.colab import drive\n",
        "drive.mount('/content/drive')"
      ],
      "metadata": {
        "colab": {
          "base_uri": "https://localhost:8080/"
        },
        "id": "emjAvxozREUK",
        "outputId": "f26bb73b-dddc-4185-dece-40dc0aecc66c"
      },
      "execution_count": null,
      "outputs": [
        {
          "output_type": "stream",
          "name": "stdout",
          "text": [
            "Mounted at /content/drive\n"
          ]
        }
      ]
    },
    {
      "cell_type": "code",
      "source": [
        "import os\n",
        "\n",
        "def count_images_in_folder(folder_path):\n",
        "    # Define image extensions\n",
        "    image_extensions = ('.png', '.jpg', '.jpeg', '.gif', '.bmp', '.tiff')\n",
        "\n",
        "    # Initialize image count\n",
        "    image_count = 0\n",
        "\n",
        "    # Walk through the folder\n",
        "    for root, dirs, files in os.walk(folder_path):\n",
        "        for file in files:\n",
        "            if file.lower().endswith(image_extensions):\n",
        "                image_count += 1\n",
        "\n",
        "    return image_count\n",
        "\n",
        "# Define the paths to the folders\n",
        "folder1 = '/content/drive/Shareddrives/cxraide/ssd300_vgg16/VERSION_2/TRAINING_300'\n",
        "folder2 = '/content/drive/Shareddrives/cxraide/ssd300_vgg16/VERSION_2/VALIDATION_300'\n",
        "\n",
        "# Count images in both folders\n",
        "count1 = count_images_in_folder(folder1)\n",
        "count2 = count_images_in_folder(folder2)\n",
        "\n",
        "# Print the results\n",
        "print(f\"Number of images in folder 1: {count1}\")\n",
        "print(f\"Number of images in folder 2: {count2}\")\n",
        "print(f\"total: {count1 + count2}\")"
      ],
      "metadata": {
        "colab": {
          "base_uri": "https://localhost:8080/"
        },
        "id": "6J3Lw_BySri7",
        "outputId": "1cb4dfbc-1dfb-4c7e-b666-858f2265a580"
      },
      "execution_count": null,
      "outputs": [
        {
          "output_type": "stream",
          "name": "stdout",
          "text": [
            "Number of images in folder 1: 1211\n",
            "Number of images in folder 2: 550\n",
            "total: 1761\n"
          ]
        }
      ]
    },
    {
      "cell_type": "code",
      "source": [
        "# Install required libraries\n",
        "!pip install torchmetrics\n",
        "\n",
        "import torch\n",
        "import torchmetrics\n",
        "from torchvision.models.detection import ssd300_vgg16\n",
        "from torchvision.ops import nms\n",
        "from torch.utils.data import Dataset, DataLoader\n",
        "import os\n",
        "from torchvision import transforms\n",
        "from PIL import Image\n",
        "import pandas as pd\n",
        "from torch import optim\n",
        "from tqdm import tqdm\n",
        "from collections import defaultdict\n",
        "from torchmetrics.detection import MeanAveragePrecision\n",
        "from torch.optim.lr_scheduler import ReduceLROnPlateau\n",
        "from torch.nn import functional as F\n",
        "\n",
        "# Device configuration\n",
        "device = torch.device('cuda' if torch.cuda.is_available() else 'cpu')\n",
        "\n",
        "# Dataset class (unchanged)\n",
        "class CustomDataset(Dataset):\n",
        "    def __init__(self, root, bbox_csv, multi_label_csv, transform=None):\n",
        "        self.root = root\n",
        "        self.bbox_annotations = pd.read_csv(bbox_csv)\n",
        "        self.multi_label_annotations = pd.read_csv(multi_label_csv)\n",
        "        self.transform = transform\n",
        "\n",
        "    def __len__(self):\n",
        "        return len(self.bbox_annotations)\n",
        "\n",
        "    def __getitem__(self, idx):\n",
        "        try:\n",
        "            img_name = os.path.join(self.root, 'JPEGImages', self.bbox_annotations.iloc[idx, 0] + '.png')\n",
        "            image = Image.open(img_name).convert(\"RGB\")\n",
        "            bbox = self.bbox_annotations.iloc[idx, 2:6].values.astype('float').reshape(-1, 4)\n",
        "            class_name = self.bbox_annotations.iloc[idx, 1]\n",
        "\n",
        "            multi_labels = self.multi_label_annotations[self.multi_label_annotations['image_id'] == self.bbox_annotations.iloc[idx, 0]].iloc[:, 1:].values.astype('int')[0]\n",
        "\n",
        "            if len(bbox) == 0:\n",
        "                bbox = torch.zeros((0, 4), dtype=torch.float32)\n",
        "                labels = torch.zeros((0,), dtype=torch.int64)\n",
        "            else:\n",
        "                class_to_idx = {\"Cardiomegaly\": 1, \"Pleural thickening\": 2, \"Pulmonary fibrosis\": 3,\n",
        "                                \"Pleural effusion\": 4, \"Nodule/Mass\": 5, \"Infiltration\": 6, \"Consolidation\": 7, \"Atelectasis\": 8, \"Pneumothorax\": 9}\n",
        "                labels = torch.tensor([class_to_idx[class_name]], dtype=torch.int64)\n",
        "\n",
        "            target = {\n",
        "                \"boxes\": torch.as_tensor(bbox, dtype=torch.float32),\n",
        "                \"labels\": labels.clone().detach().to(torch.int64),\n",
        "                \"multi_labels\": torch.tensor(multi_labels, dtype=torch.int64)\n",
        "            }\n",
        "\n",
        "            if self.transform:\n",
        "                image = self.transform(image)\n",
        "\n",
        "            return image, target\n",
        "        except Exception as e:\n",
        "            print(f\"Error loading sample {idx}: {e}\")\n",
        "            return None\n",
        "\n",
        "# Collate function\n",
        "def collate_fn(batch):\n",
        "    batch = [item for item in batch if item is not None]\n",
        "    return tuple(zip(*batch))\n",
        "\n",
        "# Dataset transformations\n",
        "data_transform = transforms.Compose([\n",
        "    transforms.ToTensor(),\n",
        "])\n",
        "\n",
        "# Dataset paths\n",
        "root = '/content/drive/Shareddrives/cxraide/ssd300_vgg16/VERSION_2/VOCdevkit/VOC2007'\n",
        "bbox_train_csv = '/content/drive/Shareddrives/cxraide/ssd300_vgg16/VERSION_2/train.csv'\n",
        "multi_label_train_csv = '/content/drive/Shareddrives/cxraide/ssd300_vgg16/VERSION_2/TRAINtrans.csv'\n",
        "bbox_val_csv = '/content/drive/Shareddrives/cxraide/ssd300_vgg16/VERSION_2/val.csv'\n",
        "multi_label_val_csv = '/content/drive/Shareddrives/cxraide/ssd300_vgg16/VERSION_2/VALtrans.csv'\n",
        "\n",
        "train_dataset = CustomDataset(root=root, bbox_csv=bbox_train_csv, multi_label_csv=multi_label_train_csv, transform=data_transform)\n",
        "val_dataset = CustomDataset(root=root, bbox_csv=bbox_val_csv, multi_label_csv=multi_label_val_csv, transform=data_transform)\n",
        "\n",
        "train_loader = DataLoader(train_dataset, batch_size=16, shuffle=True, num_workers=2, collate_fn=collate_fn)\n",
        "val_loader = DataLoader(val_dataset, batch_size=1, shuffle=False, num_workers=2, collate_fn=collate_fn)\n",
        "\n",
        "# SSD300 model\n",
        "model = ssd300_vgg16(pretrained=True)\n",
        "num_classes = 10  # 9 classes + 1 background class\n",
        "model.head.classification_head.num_classes = num_classes\n",
        "model.to(device)\n",
        "\n",
        "# Optimizer\n",
        "optimizer = optim.SGD(model.parameters(), lr=0.0001, momentum=0.9, weight_decay=0.0005)\n",
        "\n",
        "# Scheduler\n",
        "scheduler = ReduceLROnPlateau(optimizer, mode='min', patience=3, factor=0.5, threshold=1e-4, verbose=True)\n",
        "\n",
        "# Metrics\n",
        "metric_ap = MeanAveragePrecision(iou_type='bbox', class_metrics=True)\n",
        "\n",
        "# Non-Maximum Suppression (NMS) function\n",
        "def apply_nms(outputs, iou_threshold=0.5):\n",
        "    nms_outputs = []\n",
        "    for output in outputs:\n",
        "        if len(output['boxes']) > 0:\n",
        "            keep_indices = nms(output['boxes'], output['scores'], iou_threshold)\n",
        "            nms_outputs.append({\n",
        "                'boxes': output['boxes'][keep_indices],\n",
        "                'scores': output['scores'][keep_indices],\n",
        "                'labels': output['labels'][keep_indices],\n",
        "            })\n",
        "        else:\n",
        "            nms_outputs.append(output)\n",
        "    return nms_outputs\n",
        "\n",
        "# Calculate class weights for imbalance handling\n",
        "class_counts = train_dataset.bbox_annotations['class_name'].value_counts()\n",
        "total_samples = class_counts.sum()\n",
        "class_weights = {cls: total_samples / count for cls, count in class_counts.items()}\n",
        "\n",
        "# Custom weighted loss function\n",
        "def custom_loss_fn(loss_dict, targets, class_weights):\n",
        "    classification_loss = 0.0\n",
        "    regression_loss = loss_dict['bbox_regression']\n",
        "    for target, logits in zip(targets, loss_dict['classification']):\n",
        "        labels = target['labels']\n",
        "        weights = torch.tensor([class_weights[int(label)] for label in labels]).to(logits.device)\n",
        "        classification_loss += F.cross_entropy(logits, labels, weight=weights)\n",
        "    return classification_loss, regression_loss"
      ],
      "metadata": {
        "colab": {
          "base_uri": "https://localhost:8080/"
        },
        "id": "OSWd_Y9wP3XM",
        "outputId": "b5ef2dd6-5787-4dde-bef8-be1417d3de34"
      },
      "execution_count": null,
      "outputs": [
        {
          "output_type": "stream",
          "name": "stdout",
          "text": [
            "Collecting torchmetrics\n",
            "  Downloading torchmetrics-1.6.0-py3-none-any.whl.metadata (20 kB)\n",
            "Requirement already satisfied: numpy>1.20.0 in /usr/local/lib/python3.10/dist-packages (from torchmetrics) (1.26.4)\n",
            "Requirement already satisfied: packaging>17.1 in /usr/local/lib/python3.10/dist-packages (from torchmetrics) (24.2)\n",
            "Requirement already satisfied: torch>=2.0.0 in /usr/local/lib/python3.10/dist-packages (from torchmetrics) (2.5.1+cu121)\n",
            "Collecting lightning-utilities>=0.8.0 (from torchmetrics)\n",
            "  Downloading lightning_utilities-0.11.9-py3-none-any.whl.metadata (5.2 kB)\n",
            "Requirement already satisfied: setuptools in /usr/local/lib/python3.10/dist-packages (from lightning-utilities>=0.8.0->torchmetrics) (75.1.0)\n",
            "Requirement already satisfied: typing-extensions in /usr/local/lib/python3.10/dist-packages (from lightning-utilities>=0.8.0->torchmetrics) (4.12.2)\n",
            "Requirement already satisfied: filelock in /usr/local/lib/python3.10/dist-packages (from torch>=2.0.0->torchmetrics) (3.16.1)\n",
            "Requirement already satisfied: networkx in /usr/local/lib/python3.10/dist-packages (from torch>=2.0.0->torchmetrics) (3.4.2)\n",
            "Requirement already satisfied: jinja2 in /usr/local/lib/python3.10/dist-packages (from torch>=2.0.0->torchmetrics) (3.1.4)\n",
            "Requirement already satisfied: fsspec in /usr/local/lib/python3.10/dist-packages (from torch>=2.0.0->torchmetrics) (2024.10.0)\n",
            "Requirement already satisfied: sympy==1.13.1 in /usr/local/lib/python3.10/dist-packages (from torch>=2.0.0->torchmetrics) (1.13.1)\n",
            "Requirement already satisfied: mpmath<1.4,>=1.1.0 in /usr/local/lib/python3.10/dist-packages (from sympy==1.13.1->torch>=2.0.0->torchmetrics) (1.3.0)\n",
            "Requirement already satisfied: MarkupSafe>=2.0 in /usr/local/lib/python3.10/dist-packages (from jinja2->torch>=2.0.0->torchmetrics) (3.0.2)\n",
            "Downloading torchmetrics-1.6.0-py3-none-any.whl (926 kB)\n",
            "\u001b[2K   \u001b[90m━━━━━━━━━━━━━━━━━━━━━━━━━━━━━━━━━━━━━━━━\u001b[0m \u001b[32m926.4/926.4 kB\u001b[0m \u001b[31m16.4 MB/s\u001b[0m eta \u001b[36m0:00:00\u001b[0m\n",
            "\u001b[?25hDownloading lightning_utilities-0.11.9-py3-none-any.whl (28 kB)\n",
            "Installing collected packages: lightning-utilities, torchmetrics\n",
            "Successfully installed lightning-utilities-0.11.9 torchmetrics-1.6.0\n"
          ]
        },
        {
          "output_type": "stream",
          "name": "stderr",
          "text": [
            "/usr/local/lib/python3.10/dist-packages/torchvision/models/_utils.py:208: UserWarning: The parameter 'pretrained' is deprecated since 0.13 and may be removed in the future, please use 'weights' instead.\n",
            "  warnings.warn(\n",
            "/usr/local/lib/python3.10/dist-packages/torchvision/models/_utils.py:223: UserWarning: Arguments other than a weight enum or `None` for 'weights' are deprecated since 0.13 and may be removed in the future. The current behavior is equivalent to passing `weights=SSD300_VGG16_Weights.COCO_V1`. You can also use `weights=SSD300_VGG16_Weights.DEFAULT` to get the most up-to-date weights.\n",
            "  warnings.warn(msg)\n",
            "Downloading: \"https://download.pytorch.org/models/ssd300_vgg16_coco-b556d3b4.pth\" to /root/.cache/torch/hub/checkpoints/ssd300_vgg16_coco-b556d3b4.pth\n",
            "100%|██████████| 136M/136M [00:00<00:00, 180MB/s]\n"
          ]
        }
      ]
    },
    {
      "cell_type": "code",
      "source": [
        "import torch\n",
        "import torch.optim as optim\n",
        "from tqdm import tqdm\n",
        "\n",
        "# Assuming you have already defined your model, dataloaders, device, etc.\n",
        "\n",
        "# Define the custom loss function\n",
        "def custom_loss_fn(loss_dict, targets, class_weights):\n",
        "    \"\"\"\n",
        "    Custom loss function to apply class weights.\n",
        "\n",
        "    Args:\n",
        "    - loss_dict: Dictionary containing loss components (classification, bbox regression).\n",
        "    - targets: Ground truth targets (used to calculate per-class weights).\n",
        "    - class_weights: Tensor containing class weights for classification loss.\n",
        "\n",
        "    Returns:\n",
        "    - cls_loss: Weighted classification loss.\n",
        "    - loc_loss: Localization loss.\n",
        "    \"\"\"\n",
        "    # Extract losses from the dictionary\n",
        "    cls_loss = loss_dict['classification']  # Scalar\n",
        "    loc_loss = loss_dict['bbox_regression']  # Scalar\n",
        "\n",
        "    # Apply class weights to classification loss\n",
        "    # Ensure cls_loss is weighted correctly by the provided class_weights\n",
        "    weighted_cls_loss = cls_loss * torch.mean(class_weights)\n",
        "\n",
        "    return weighted_cls_loss, loc_loss\n",
        "\n",
        "# Set up your optimizer\n",
        "optimizer = optim.Adam(model.parameters(), lr=1e-5)\n",
        "\n",
        "# Set the class weights (example; modify according to your dataset)\n",
        "class_weights = torch.tensor([1.0, 1.2, 0.8, 1.5, 1.0, 1.3, 1.1]).to(device)\n",
        "\n",
        "# Training loop\n",
        "num_epochs = 150  # You can update this to any desired number of epochs\n",
        "for epoch in range(num_epochs):\n",
        "    model.train()\n",
        "    running_loss = 0.0\n",
        "    classification_loss = 0.0\n",
        "    localization_loss = 0.0\n",
        "\n",
        "    # Training process\n",
        "    for batch_idx, (images, targets) in enumerate(tqdm(train_loader, desc=f\"Epoch {epoch + 1} Progress\")):\n",
        "        images = [img.to(device) for img in images]\n",
        "        targets = [{k: v.to(device) for k, v in t.items()} for t in targets]\n",
        "\n",
        "        optimizer.zero_grad()\n",
        "        loss_dict = model(images, targets)\n",
        "        total_loss = sum(loss for loss in loss_dict.values())\n",
        "\n",
        "        # Calculate custom loss with class weights\n",
        "        cls_loss, loc_loss = custom_loss_fn(loss_dict, targets, class_weights)\n",
        "        total_loss = cls_loss + loc_loss\n",
        "\n",
        "        # Backpropagate and optimize\n",
        "        total_loss.backward()\n",
        "        optimizer.step()\n",
        "\n",
        "        # Track the losses\n",
        "        running_loss += total_loss.item()\n",
        "        classification_loss += cls_loss.item()\n",
        "        localization_loss += loc_loss.item()\n",
        "\n",
        "    # Print loss statistics for the epoch\n",
        "    print(f\"Epoch [{epoch + 1}/{num_epochs}] Loss: {running_loss / len(train_loader):.4f}\")\n",
        "\n",
        "    # Save the model only every nth epoch (e.g., every 2nd epoch)\n",
        "    if (epoch + 1) % 20 == 0:\n",
        "        model_path = f'/content/drive/Shareddrives/cxraide/ssd300_vgg16/VERSION_2/EXPORT/model_it1/model_epoch_{epoch + 1}.pth'\n",
        "        torch.save(model.state_dict(), model_path)\n",
        "        print(f\"Model saved to {model_path}\")\n",
        "\n",
        "        # Print detailed loss values only when model is saved\n",
        "        print(f\"Loss Details for Epoch {epoch + 1}:\")\n",
        "        print(f\"  ● Classification Loss: {classification_loss / len(train_loader):.8f}\")\n",
        "        print(f\"  ● Localization Loss: {localization_loss / len(train_loader):.8f}\")\n",
        "        print(f\"  ● Total Loss: {running_loss / len(train_loader):.8f}\")\n",
        "\n",
        "        # Evaluate the model and print AP/AR only after saving the model\n",
        "        model.eval()\n",
        "        all_predictions = []\n",
        "        all_targets = []\n",
        "\n",
        "        # Run evaluation on the validation set\n",
        "        for images, targets in tqdm(val_loader, desc=f\"Validation Epoch {epoch + 1}\"):\n",
        "            images = [img.to(device) for img in images]\n",
        "            targets = [{k: v.to(device) for k, v in t.items()} for t in targets]\n",
        "\n",
        "            with torch.no_grad():\n",
        "                outputs = model(images)\n",
        "\n",
        "            # Collecting ground truth and predictions\n",
        "            for output, target in zip(outputs, targets):\n",
        "                boxes = output['boxes'].to(device).cpu()\n",
        "                labels = output['labels'].to(device).cpu()\n",
        "                scores = output['scores'].to(device).cpu()\n",
        "\n",
        "                all_predictions.append({\n",
        "                    'boxes': boxes,\n",
        "                    'labels': labels,\n",
        "                    'scores': scores\n",
        "                })\n",
        "\n",
        "                target_boxes = target['boxes'].to(device).cpu()\n",
        "                target_labels = target['labels'].to(device).cpu()\n",
        "\n",
        "                all_targets.append({\n",
        "                    'boxes': target_boxes,\n",
        "                    'labels': target_labels\n",
        "                })\n",
        "\n",
        "        # Calculate the Average Precision (AP)\n",
        "        metric_ap.update(all_predictions, all_targets)\n",
        "\n",
        "        # Get AP for the current epoch\n",
        "        ap_results = metric_ap.compute()\n",
        "\n",
        "        # Print results with improved formatting\n",
        "        print(f\"Average Precision (AP) for Epoch {epoch + 1}:\")\n",
        "        print(f\"  - mAP: {ap_results['map']:.4f}\")\n",
        "        print(f\"  - mAP@0.50: {ap_results['map_50']:.4f}\")\n",
        "        print(f\"  - mAP@0.75: {ap_results['map_75']:.4f}\")\n",
        "        print(f\"  - mAP (small): {ap_results['map_small']:.4f}\")\n",
        "        print(f\"  - mAP (medium): {ap_results['map_medium']:.4f}\")\n",
        "        print(f\"  - mAP (large): {ap_results['map_large']:.4f}\")\n",
        "        print(f\"Average Recall (AR) for Epoch {epoch + 1}:\")\n",
        "        print(f\"  - AR@1: {ap_results['mar_1']:.4f}\")\n",
        "        print(f\"  - AR@10: {ap_results['mar_10']:.4f}\")\n",
        "        print(f\"  - AR@100: {ap_results['mar_100']:.4f}\")\n",
        "        print(f\"  - AR (small): {ap_results['mar_small']:.4f}\")\n",
        "        print(f\"  - AR (medium): {ap_results['mar_medium']:.4f}\")\n",
        "        print(f\"  - AR (large): {ap_results['mar_large']:.4f}\")\n",
        "\n",
        "        # Only print per-class results for classes in your dataset (1-7)\n",
        "        print(f\"Per-Class mAP for Epoch {epoch + 1}:\")\n",
        "        for class_idx, ap_class in enumerate(ap_results['map_per_class']):\n",
        "            if class_idx < 9:  # Only print classes 1 to 7\n",
        "                print(f\"  - Class {class_idx + 1}: {ap_class:.4f}\")\n",
        "\n",
        "        print(f\"Per-Class AR (at 100 detections) for Epoch {epoch + 1}:\")\n",
        "        for class_idx, ar_class in enumerate(ap_results['mar_100_per_class']):\n",
        "            if class_idx < 9:  # Only print classes 1 to 7\n",
        "                print(f\"  - Class {class_idx + 1}: {ar_class:.4f}\")\n",
        "\n",
        "        # Reset metrics for the next epoch\n",
        "        metric_ap.reset()\n"
      ],
      "metadata": {
        "colab": {
          "base_uri": "https://localhost:8080/"
        },
        "id": "6pQQMsLTQVs0",
        "outputId": "4b760c81-8984-45dc-a23f-787936fc8b7d"
      },
      "execution_count": null,
      "outputs": [
        {
          "output_type": "stream",
          "name": "stderr",
          "text": [
            "Epoch 1 Progress: 100%|██████████| 176/176 [05:45<00:00,  1.96s/it]\n"
          ]
        },
        {
          "output_type": "stream",
          "name": "stdout",
          "text": [
            "Epoch [1/150] Loss: 8.2683\n"
          ]
        },
        {
          "output_type": "stream",
          "name": "stderr",
          "text": [
            "Epoch 2 Progress: 100%|██████████| 176/176 [00:26<00:00,  6.52it/s]\n"
          ]
        },
        {
          "output_type": "stream",
          "name": "stdout",
          "text": [
            "Epoch [2/150] Loss: 6.8612\n"
          ]
        },
        {
          "output_type": "stream",
          "name": "stderr",
          "text": [
            "Epoch 3 Progress: 100%|██████████| 176/176 [00:26<00:00,  6.52it/s]\n"
          ]
        },
        {
          "output_type": "stream",
          "name": "stdout",
          "text": [
            "Epoch [3/150] Loss: 6.3784\n"
          ]
        },
        {
          "output_type": "stream",
          "name": "stderr",
          "text": [
            "Epoch 4 Progress: 100%|██████████| 176/176 [00:25<00:00,  6.82it/s]\n"
          ]
        },
        {
          "output_type": "stream",
          "name": "stdout",
          "text": [
            "Epoch [4/150] Loss: 6.0188\n"
          ]
        },
        {
          "output_type": "stream",
          "name": "stderr",
          "text": [
            "Epoch 5 Progress: 100%|██████████| 176/176 [00:25<00:00,  6.78it/s]\n"
          ]
        },
        {
          "output_type": "stream",
          "name": "stdout",
          "text": [
            "Epoch [5/150] Loss: 5.7012\n"
          ]
        },
        {
          "output_type": "stream",
          "name": "stderr",
          "text": [
            "Epoch 6 Progress: 100%|██████████| 176/176 [00:27<00:00,  6.49it/s]\n"
          ]
        },
        {
          "output_type": "stream",
          "name": "stdout",
          "text": [
            "Epoch [6/150] Loss: 5.4267\n"
          ]
        },
        {
          "output_type": "stream",
          "name": "stderr",
          "text": [
            "Epoch 7 Progress: 100%|██████████| 176/176 [00:27<00:00,  6.32it/s]\n"
          ]
        },
        {
          "output_type": "stream",
          "name": "stdout",
          "text": [
            "Epoch [7/150] Loss: 5.1434\n"
          ]
        },
        {
          "output_type": "stream",
          "name": "stderr",
          "text": [
            "Epoch 8 Progress: 100%|██████████| 176/176 [00:25<00:00,  6.78it/s]\n"
          ]
        },
        {
          "output_type": "stream",
          "name": "stdout",
          "text": [
            "Epoch [8/150] Loss: 4.9278\n"
          ]
        },
        {
          "output_type": "stream",
          "name": "stderr",
          "text": [
            "Epoch 9 Progress: 100%|██████████| 176/176 [00:26<00:00,  6.52it/s]\n"
          ]
        },
        {
          "output_type": "stream",
          "name": "stdout",
          "text": [
            "Epoch [9/150] Loss: 4.7518\n"
          ]
        },
        {
          "output_type": "stream",
          "name": "stderr",
          "text": [
            "Epoch 10 Progress: 100%|██████████| 176/176 [00:27<00:00,  6.47it/s]\n"
          ]
        },
        {
          "output_type": "stream",
          "name": "stdout",
          "text": [
            "Epoch [10/150] Loss: 4.5809\n"
          ]
        },
        {
          "output_type": "stream",
          "name": "stderr",
          "text": [
            "Epoch 11 Progress: 100%|██████████| 176/176 [00:26<00:00,  6.75it/s]\n"
          ]
        },
        {
          "output_type": "stream",
          "name": "stdout",
          "text": [
            "Epoch [11/150] Loss: 4.4178\n"
          ]
        },
        {
          "output_type": "stream",
          "name": "stderr",
          "text": [
            "Epoch 12 Progress: 100%|██████████| 176/176 [00:25<00:00,  6.80it/s]\n"
          ]
        },
        {
          "output_type": "stream",
          "name": "stdout",
          "text": [
            "Epoch [12/150] Loss: 4.2803\n"
          ]
        },
        {
          "output_type": "stream",
          "name": "stderr",
          "text": [
            "Epoch 13 Progress: 100%|██████████| 176/176 [00:25<00:00,  6.79it/s]\n"
          ]
        },
        {
          "output_type": "stream",
          "name": "stdout",
          "text": [
            "Epoch [13/150] Loss: 4.1664\n"
          ]
        },
        {
          "output_type": "stream",
          "name": "stderr",
          "text": [
            "Epoch 14 Progress: 100%|██████████| 176/176 [00:27<00:00,  6.48it/s]\n"
          ]
        },
        {
          "output_type": "stream",
          "name": "stdout",
          "text": [
            "Epoch [14/150] Loss: 4.0630\n"
          ]
        },
        {
          "output_type": "stream",
          "name": "stderr",
          "text": [
            "Epoch 15 Progress: 100%|██████████| 176/176 [00:25<00:00,  6.82it/s]\n"
          ]
        },
        {
          "output_type": "stream",
          "name": "stdout",
          "text": [
            "Epoch [15/150] Loss: 3.9592\n"
          ]
        },
        {
          "output_type": "stream",
          "name": "stderr",
          "text": [
            "Epoch 16 Progress: 100%|██████████| 176/176 [00:26<00:00,  6.54it/s]\n"
          ]
        },
        {
          "output_type": "stream",
          "name": "stdout",
          "text": [
            "Epoch [16/150] Loss: 3.8730\n"
          ]
        },
        {
          "output_type": "stream",
          "name": "stderr",
          "text": [
            "Epoch 17 Progress: 100%|██████████| 176/176 [00:27<00:00,  6.46it/s]\n"
          ]
        },
        {
          "output_type": "stream",
          "name": "stdout",
          "text": [
            "Epoch [17/150] Loss: 3.8047\n"
          ]
        },
        {
          "output_type": "stream",
          "name": "stderr",
          "text": [
            "Epoch 18 Progress: 100%|██████████| 176/176 [00:26<00:00,  6.64it/s]\n"
          ]
        },
        {
          "output_type": "stream",
          "name": "stdout",
          "text": [
            "Epoch [18/150] Loss: 3.7336\n"
          ]
        },
        {
          "output_type": "stream",
          "name": "stderr",
          "text": [
            "Epoch 19 Progress: 100%|██████████| 176/176 [00:27<00:00,  6.46it/s]\n"
          ]
        },
        {
          "output_type": "stream",
          "name": "stdout",
          "text": [
            "Epoch [19/150] Loss: 3.6615\n"
          ]
        },
        {
          "output_type": "stream",
          "name": "stderr",
          "text": [
            "Epoch 20 Progress: 100%|██████████| 176/176 [00:27<00:00,  6.52it/s]\n"
          ]
        },
        {
          "output_type": "stream",
          "name": "stdout",
          "text": [
            "Epoch [20/150] Loss: 3.6007\n"
          ]
        },
        {
          "output_type": "stream",
          "name": "stderr",
          "text": [
            "Epoch 21 Progress: 100%|██████████| 176/176 [00:27<00:00,  6.51it/s]\n"
          ]
        },
        {
          "output_type": "stream",
          "name": "stdout",
          "text": [
            "Epoch [21/150] Loss: 3.5354\n"
          ]
        },
        {
          "output_type": "stream",
          "name": "stderr",
          "text": [
            "Epoch 22 Progress: 100%|██████████| 176/176 [00:25<00:00,  6.83it/s]\n"
          ]
        },
        {
          "output_type": "stream",
          "name": "stdout",
          "text": [
            "Epoch [22/150] Loss: 3.5030\n"
          ]
        },
        {
          "output_type": "stream",
          "name": "stderr",
          "text": [
            "Epoch 23 Progress: 100%|██████████| 176/176 [00:26<00:00,  6.77it/s]\n"
          ]
        },
        {
          "output_type": "stream",
          "name": "stdout",
          "text": [
            "Epoch [23/150] Loss: 3.4443\n"
          ]
        },
        {
          "output_type": "stream",
          "name": "stderr",
          "text": [
            "Epoch 24 Progress: 100%|██████████| 176/176 [00:27<00:00,  6.49it/s]\n"
          ]
        },
        {
          "output_type": "stream",
          "name": "stdout",
          "text": [
            "Epoch [24/150] Loss: 3.4108\n"
          ]
        },
        {
          "output_type": "stream",
          "name": "stderr",
          "text": [
            "Epoch 25 Progress: 100%|██████████| 176/176 [00:27<00:00,  6.44it/s]\n"
          ]
        },
        {
          "output_type": "stream",
          "name": "stdout",
          "text": [
            "Epoch [25/150] Loss: 3.3509\n"
          ]
        },
        {
          "output_type": "stream",
          "name": "stderr",
          "text": [
            "Epoch 26 Progress: 100%|██████████| 176/176 [00:26<00:00,  6.69it/s]\n"
          ]
        },
        {
          "output_type": "stream",
          "name": "stdout",
          "text": [
            "Epoch [26/150] Loss: 3.3099\n"
          ]
        },
        {
          "output_type": "stream",
          "name": "stderr",
          "text": [
            "Epoch 27 Progress: 100%|██████████| 176/176 [00:27<00:00,  6.40it/s]\n"
          ]
        },
        {
          "output_type": "stream",
          "name": "stdout",
          "text": [
            "Epoch [27/150] Loss: 3.2758\n"
          ]
        },
        {
          "output_type": "stream",
          "name": "stderr",
          "text": [
            "Epoch 28 Progress: 100%|██████████| 176/176 [00:26<00:00,  6.74it/s]\n"
          ]
        },
        {
          "output_type": "stream",
          "name": "stdout",
          "text": [
            "Epoch [28/150] Loss: 3.2372\n"
          ]
        },
        {
          "output_type": "stream",
          "name": "stderr",
          "text": [
            "Epoch 29 Progress: 100%|██████████| 176/176 [00:27<00:00,  6.41it/s]\n"
          ]
        },
        {
          "output_type": "stream",
          "name": "stdout",
          "text": [
            "Epoch [29/150] Loss: 3.1938\n"
          ]
        },
        {
          "output_type": "stream",
          "name": "stderr",
          "text": [
            "Epoch 30 Progress: 100%|██████████| 176/176 [00:27<00:00,  6.48it/s]\n"
          ]
        },
        {
          "output_type": "stream",
          "name": "stdout",
          "text": [
            "Epoch [30/150] Loss: 3.1708\n",
            "Model saved to /content/drive/Shareddrives/cxraide/ssd300_vgg16/VERSION_2/EXPORT/model_it1/model_epoch_30.pth\n",
            "Loss Details for Epoch 30:\n",
            "  ● Classification Loss: 2.87344752\n",
            "  ● Localization Loss: 0.29732638\n",
            "  ● Total Loss: 3.17077390\n"
          ]
        },
        {
          "output_type": "stream",
          "name": "stderr",
          "text": [
            "Validation Epoch 30: 100%|██████████| 704/704 [01:12<00:00,  9.66it/s]\n",
            "/usr/local/lib/python3.10/dist-packages/torchmetrics/utilities/prints.py:43: UserWarning: Encountered more than 100 detections in a single image. This means that certain detections with the lowest scores will be ignored, that may have an undesirable impact on performance. Please consider adjusting the `max_detection_threshold` to suit your use case. To disable this warning, set attribute class `warn_on_many_detections=False`, after initializing the metric.\n",
            "  warnings.warn(*args, **kwargs)  # noqa: B028\n"
          ]
        },
        {
          "output_type": "stream",
          "name": "stdout",
          "text": [
            "Average Precision (AP) for Epoch 30:\n",
            "  - mAP: 0.0087\n",
            "  - mAP@0.50: 0.0219\n",
            "  - mAP@0.75: 0.0044\n",
            "  - mAP (small): 0.0012\n",
            "  - mAP (medium): 0.0123\n",
            "  - mAP (large): 0.0098\n",
            "Average Recall (AR) for Epoch 30:\n",
            "  - AR@1: 0.0855\n",
            "  - AR@10: 0.1250\n",
            "  - AR@100: 0.1393\n",
            "  - AR (small): 0.0571\n",
            "  - AR (medium): 0.1315\n",
            "  - AR (large): 0.1359\n",
            "Per-Class mAP for Epoch 30:\n",
            "  - Class 1: 0.0698\n",
            "  - Class 2: 0.0006\n",
            "  - Class 3: 0.0002\n",
            "  - Class 4: 0.0027\n",
            "  - Class 5: 0.0005\n",
            "  - Class 6: 0.0006\n",
            "  - Class 7: 0.0010\n",
            "  - Class 8: 0.0002\n",
            "  - Class 9: 0.0024\n",
            "Per-Class AR (at 100 detections) for Epoch 30:\n",
            "  - Class 1: 0.4787\n",
            "  - Class 2: 0.1403\n",
            "  - Class 3: 0.0576\n",
            "  - Class 4: 0.1857\n",
            "  - Class 5: 0.0589\n",
            "  - Class 6: 0.0902\n",
            "  - Class 7: 0.0796\n",
            "  - Class 8: 0.0419\n",
            "  - Class 9: 0.1206\n"
          ]
        },
        {
          "output_type": "stream",
          "name": "stderr",
          "text": [
            "Epoch 31 Progress: 100%|██████████| 176/176 [00:25<00:00,  6.77it/s]\n"
          ]
        },
        {
          "output_type": "stream",
          "name": "stdout",
          "text": [
            "Epoch [31/150] Loss: 3.1404\n"
          ]
        },
        {
          "output_type": "stream",
          "name": "stderr",
          "text": [
            "Epoch 32 Progress: 100%|██████████| 176/176 [00:25<00:00,  6.80it/s]\n"
          ]
        },
        {
          "output_type": "stream",
          "name": "stdout",
          "text": [
            "Epoch [32/150] Loss: 3.0932\n"
          ]
        },
        {
          "output_type": "stream",
          "name": "stderr",
          "text": [
            "Epoch 33 Progress: 100%|██████████| 176/176 [00:25<00:00,  6.86it/s]\n"
          ]
        },
        {
          "output_type": "stream",
          "name": "stdout",
          "text": [
            "Epoch [33/150] Loss: 3.0729\n"
          ]
        },
        {
          "output_type": "stream",
          "name": "stderr",
          "text": [
            "Epoch 34 Progress: 100%|██████████| 176/176 [00:25<00:00,  6.80it/s]\n"
          ]
        },
        {
          "output_type": "stream",
          "name": "stdout",
          "text": [
            "Epoch [34/150] Loss: 3.0402\n"
          ]
        },
        {
          "output_type": "stream",
          "name": "stderr",
          "text": [
            "Epoch 35 Progress: 100%|██████████| 176/176 [00:25<00:00,  6.82it/s]\n"
          ]
        },
        {
          "output_type": "stream",
          "name": "stdout",
          "text": [
            "Epoch [35/150] Loss: 3.0099\n"
          ]
        },
        {
          "output_type": "stream",
          "name": "stderr",
          "text": [
            "Epoch 36 Progress: 100%|██████████| 176/176 [00:25<00:00,  6.79it/s]\n"
          ]
        },
        {
          "output_type": "stream",
          "name": "stdout",
          "text": [
            "Epoch [36/150] Loss: 2.9994\n"
          ]
        },
        {
          "output_type": "stream",
          "name": "stderr",
          "text": [
            "Epoch 37 Progress: 100%|██████████| 176/176 [00:25<00:00,  6.78it/s]\n"
          ]
        },
        {
          "output_type": "stream",
          "name": "stdout",
          "text": [
            "Epoch [37/150] Loss: 2.9563\n"
          ]
        },
        {
          "output_type": "stream",
          "name": "stderr",
          "text": [
            "Epoch 38 Progress: 100%|██████████| 176/176 [00:25<00:00,  6.83it/s]\n"
          ]
        },
        {
          "output_type": "stream",
          "name": "stdout",
          "text": [
            "Epoch [38/150] Loss: 2.9447\n"
          ]
        },
        {
          "output_type": "stream",
          "name": "stderr",
          "text": [
            "Epoch 39 Progress: 100%|██████████| 176/176 [00:26<00:00,  6.77it/s]\n"
          ]
        },
        {
          "output_type": "stream",
          "name": "stdout",
          "text": [
            "Epoch [39/150] Loss: 2.9208\n"
          ]
        },
        {
          "output_type": "stream",
          "name": "stderr",
          "text": [
            "Epoch 40 Progress: 100%|██████████| 176/176 [00:25<00:00,  6.83it/s]\n"
          ]
        },
        {
          "output_type": "stream",
          "name": "stdout",
          "text": [
            "Epoch [40/150] Loss: 2.8951\n"
          ]
        },
        {
          "output_type": "stream",
          "name": "stderr",
          "text": [
            "Epoch 41 Progress: 100%|██████████| 176/176 [00:25<00:00,  6.82it/s]\n"
          ]
        },
        {
          "output_type": "stream",
          "name": "stdout",
          "text": [
            "Epoch [41/150] Loss: 2.8809\n"
          ]
        },
        {
          "output_type": "stream",
          "name": "stderr",
          "text": [
            "Epoch 42 Progress: 100%|██████████| 176/176 [00:25<00:00,  6.80it/s]\n"
          ]
        },
        {
          "output_type": "stream",
          "name": "stdout",
          "text": [
            "Epoch [42/150] Loss: 2.8659\n"
          ]
        },
        {
          "output_type": "stream",
          "name": "stderr",
          "text": [
            "Epoch 43 Progress: 100%|██████████| 176/176 [00:25<00:00,  6.80it/s]\n"
          ]
        },
        {
          "output_type": "stream",
          "name": "stdout",
          "text": [
            "Epoch [43/150] Loss: 2.8496\n"
          ]
        },
        {
          "output_type": "stream",
          "name": "stderr",
          "text": [
            "Epoch 44 Progress: 100%|██████████| 176/176 [00:25<00:00,  6.79it/s]\n"
          ]
        },
        {
          "output_type": "stream",
          "name": "stdout",
          "text": [
            "Epoch [44/150] Loss: 2.8023\n"
          ]
        },
        {
          "output_type": "stream",
          "name": "stderr",
          "text": [
            "Epoch 45 Progress: 100%|██████████| 176/176 [00:25<00:00,  6.78it/s]\n"
          ]
        },
        {
          "output_type": "stream",
          "name": "stdout",
          "text": [
            "Epoch [45/150] Loss: 2.8016\n"
          ]
        },
        {
          "output_type": "stream",
          "name": "stderr",
          "text": [
            "Epoch 46 Progress: 100%|██████████| 176/176 [00:26<00:00,  6.63it/s]\n"
          ]
        },
        {
          "output_type": "stream",
          "name": "stdout",
          "text": [
            "Epoch [46/150] Loss: 2.7828\n"
          ]
        },
        {
          "output_type": "stream",
          "name": "stderr",
          "text": [
            "Epoch 47 Progress: 100%|██████████| 176/176 [00:26<00:00,  6.75it/s]\n"
          ]
        },
        {
          "output_type": "stream",
          "name": "stdout",
          "text": [
            "Epoch [47/150] Loss: 2.7665\n"
          ]
        },
        {
          "output_type": "stream",
          "name": "stderr",
          "text": [
            "Epoch 48 Progress: 100%|██████████| 176/176 [00:26<00:00,  6.74it/s]\n"
          ]
        },
        {
          "output_type": "stream",
          "name": "stdout",
          "text": [
            "Epoch [48/150] Loss: 2.7412\n"
          ]
        },
        {
          "output_type": "stream",
          "name": "stderr",
          "text": [
            "Epoch 49 Progress: 100%|██████████| 176/176 [00:26<00:00,  6.76it/s]\n"
          ]
        },
        {
          "output_type": "stream",
          "name": "stdout",
          "text": [
            "Epoch [49/150] Loss: 2.7345\n"
          ]
        },
        {
          "output_type": "stream",
          "name": "stderr",
          "text": [
            "Epoch 50 Progress: 100%|██████████| 176/176 [00:25<00:00,  6.78it/s]\n"
          ]
        },
        {
          "output_type": "stream",
          "name": "stdout",
          "text": [
            "Epoch [50/150] Loss: 2.7156\n"
          ]
        },
        {
          "output_type": "stream",
          "name": "stderr",
          "text": [
            "Epoch 51 Progress: 100%|██████████| 176/176 [00:26<00:00,  6.76it/s]\n"
          ]
        },
        {
          "output_type": "stream",
          "name": "stdout",
          "text": [
            "Epoch [51/150] Loss: 2.7144\n"
          ]
        },
        {
          "output_type": "stream",
          "name": "stderr",
          "text": [
            "Epoch 52 Progress: 100%|██████████| 176/176 [00:25<00:00,  6.81it/s]\n"
          ]
        },
        {
          "output_type": "stream",
          "name": "stdout",
          "text": [
            "Epoch [52/150] Loss: 2.6801\n"
          ]
        },
        {
          "output_type": "stream",
          "name": "stderr",
          "text": [
            "Epoch 53 Progress: 100%|██████████| 176/176 [00:26<00:00,  6.76it/s]\n"
          ]
        },
        {
          "output_type": "stream",
          "name": "stdout",
          "text": [
            "Epoch [53/150] Loss: 2.6779\n"
          ]
        },
        {
          "output_type": "stream",
          "name": "stderr",
          "text": [
            "Epoch 54 Progress: 100%|██████████| 176/176 [00:25<00:00,  6.82it/s]\n"
          ]
        },
        {
          "output_type": "stream",
          "name": "stdout",
          "text": [
            "Epoch [54/150] Loss: 2.6665\n"
          ]
        },
        {
          "output_type": "stream",
          "name": "stderr",
          "text": [
            "Epoch 55 Progress: 100%|██████████| 176/176 [00:25<00:00,  6.78it/s]\n"
          ]
        },
        {
          "output_type": "stream",
          "name": "stdout",
          "text": [
            "Epoch [55/150] Loss: 2.6435\n"
          ]
        },
        {
          "output_type": "stream",
          "name": "stderr",
          "text": [
            "Epoch 56 Progress: 100%|██████████| 176/176 [00:25<00:00,  6.77it/s]\n"
          ]
        },
        {
          "output_type": "stream",
          "name": "stdout",
          "text": [
            "Epoch [56/150] Loss: 2.6395\n"
          ]
        },
        {
          "output_type": "stream",
          "name": "stderr",
          "text": [
            "Epoch 57 Progress: 100%|██████████| 176/176 [00:26<00:00,  6.57it/s]\n"
          ]
        },
        {
          "output_type": "stream",
          "name": "stdout",
          "text": [
            "Epoch [57/150] Loss: 2.6191\n"
          ]
        },
        {
          "output_type": "stream",
          "name": "stderr",
          "text": [
            "Epoch 58 Progress: 100%|██████████| 176/176 [00:25<00:00,  6.80it/s]\n"
          ]
        },
        {
          "output_type": "stream",
          "name": "stdout",
          "text": [
            "Epoch [58/150] Loss: 2.6016\n"
          ]
        },
        {
          "output_type": "stream",
          "name": "stderr",
          "text": [
            "Epoch 59 Progress: 100%|██████████| 176/176 [00:25<00:00,  6.81it/s]\n"
          ]
        },
        {
          "output_type": "stream",
          "name": "stdout",
          "text": [
            "Epoch [59/150] Loss: 2.5925\n"
          ]
        },
        {
          "output_type": "stream",
          "name": "stderr",
          "text": [
            "Epoch 60 Progress: 100%|██████████| 176/176 [00:26<00:00,  6.73it/s]\n"
          ]
        },
        {
          "output_type": "stream",
          "name": "stdout",
          "text": [
            "Epoch [60/150] Loss: 2.5801\n",
            "Model saved to /content/drive/Shareddrives/cxraide/ssd300_vgg16/VERSION_2/EXPORT/model_it1/model_epoch_60.pth\n",
            "Loss Details for Epoch 60:\n",
            "  ● Classification Loss: 2.45083114\n",
            "  ● Localization Loss: 0.12929142\n",
            "  ● Total Loss: 2.58012255\n"
          ]
        },
        {
          "output_type": "stream",
          "name": "stderr",
          "text": [
            "Validation Epoch 60: 100%|██████████| 704/704 [00:22<00:00, 31.66it/s]\n"
          ]
        },
        {
          "output_type": "stream",
          "name": "stdout",
          "text": [
            "Average Precision (AP) for Epoch 60:\n",
            "  - mAP: 0.0088\n",
            "  - mAP@0.50: 0.0210\n",
            "  - mAP@0.75: 0.0054\n",
            "  - mAP (small): 0.0011\n",
            "  - mAP (medium): 0.0066\n",
            "  - mAP (large): 0.0112\n",
            "Average Recall (AR) for Epoch 60:\n",
            "  - AR@1: 0.1050\n",
            "  - AR@10: 0.1441\n",
            "  - AR@100: 0.1583\n",
            "  - AR (small): 0.0773\n",
            "  - AR (medium): 0.1534\n",
            "  - AR (large): 0.1418\n",
            "Per-Class mAP for Epoch 60:\n",
            "  - Class 1: 0.0679\n",
            "  - Class 2: 0.0006\n",
            "  - Class 3: 0.0004\n",
            "  - Class 4: 0.0038\n",
            "  - Class 5: 0.0005\n",
            "  - Class 6: 0.0006\n",
            "  - Class 7: 0.0017\n",
            "  - Class 8: 0.0002\n",
            "  - Class 9: 0.0033\n",
            "Per-Class AR (at 100 detections) for Epoch 60:\n",
            "  - Class 1: 0.5106\n",
            "  - Class 2: 0.1903\n",
            "  - Class 3: 0.0907\n",
            "  - Class 4: 0.2286\n",
            "  - Class 5: 0.0877\n",
            "  - Class 6: 0.0705\n",
            "  - Class 7: 0.1429\n",
            "  - Class 8: 0.0302\n",
            "  - Class 9: 0.0735\n"
          ]
        },
        {
          "output_type": "stream",
          "name": "stderr",
          "text": [
            "Epoch 61 Progress: 100%|██████████| 176/176 [00:27<00:00,  6.37it/s]\n"
          ]
        },
        {
          "output_type": "stream",
          "name": "stdout",
          "text": [
            "Epoch [61/150] Loss: 2.5755\n"
          ]
        },
        {
          "output_type": "stream",
          "name": "stderr",
          "text": [
            "Epoch 62 Progress: 100%|██████████| 176/176 [00:27<00:00,  6.44it/s]\n"
          ]
        },
        {
          "output_type": "stream",
          "name": "stdout",
          "text": [
            "Epoch [62/150] Loss: 2.5731\n"
          ]
        },
        {
          "output_type": "stream",
          "name": "stderr",
          "text": [
            "Epoch 63 Progress: 100%|██████████| 176/176 [00:27<00:00,  6.45it/s]\n"
          ]
        },
        {
          "output_type": "stream",
          "name": "stdout",
          "text": [
            "Epoch [63/150] Loss: 2.5578\n"
          ]
        },
        {
          "output_type": "stream",
          "name": "stderr",
          "text": [
            "Epoch 64 Progress: 100%|██████████| 176/176 [00:27<00:00,  6.44it/s]\n"
          ]
        },
        {
          "output_type": "stream",
          "name": "stdout",
          "text": [
            "Epoch [64/150] Loss: 2.5490\n"
          ]
        },
        {
          "output_type": "stream",
          "name": "stderr",
          "text": [
            "Epoch 65 Progress: 100%|██████████| 176/176 [00:27<00:00,  6.48it/s]\n"
          ]
        },
        {
          "output_type": "stream",
          "name": "stdout",
          "text": [
            "Epoch [65/150] Loss: 2.5348\n"
          ]
        },
        {
          "output_type": "stream",
          "name": "stderr",
          "text": [
            "Epoch 66 Progress: 100%|██████████| 176/176 [00:27<00:00,  6.45it/s]\n"
          ]
        },
        {
          "output_type": "stream",
          "name": "stdout",
          "text": [
            "Epoch [66/150] Loss: 2.5267\n"
          ]
        },
        {
          "output_type": "stream",
          "name": "stderr",
          "text": [
            "Epoch 67 Progress: 100%|██████████| 176/176 [00:27<00:00,  6.46it/s]\n"
          ]
        },
        {
          "output_type": "stream",
          "name": "stdout",
          "text": [
            "Epoch [67/150] Loss: 2.5040\n"
          ]
        },
        {
          "output_type": "stream",
          "name": "stderr",
          "text": [
            "Epoch 68 Progress: 100%|██████████| 176/176 [00:27<00:00,  6.48it/s]\n"
          ]
        },
        {
          "output_type": "stream",
          "name": "stdout",
          "text": [
            "Epoch [68/150] Loss: 2.5086\n"
          ]
        },
        {
          "output_type": "stream",
          "name": "stderr",
          "text": [
            "Epoch 69 Progress: 100%|██████████| 176/176 [00:27<00:00,  6.35it/s]\n"
          ]
        },
        {
          "output_type": "stream",
          "name": "stdout",
          "text": [
            "Epoch [69/150] Loss: 2.4918\n"
          ]
        },
        {
          "output_type": "stream",
          "name": "stderr",
          "text": [
            "Epoch 70 Progress: 100%|██████████| 176/176 [00:27<00:00,  6.43it/s]\n"
          ]
        },
        {
          "output_type": "stream",
          "name": "stdout",
          "text": [
            "Epoch [70/150] Loss: 2.4772\n"
          ]
        },
        {
          "output_type": "stream",
          "name": "stderr",
          "text": [
            "Epoch 71 Progress: 100%|██████████| 176/176 [00:27<00:00,  6.45it/s]\n"
          ]
        },
        {
          "output_type": "stream",
          "name": "stdout",
          "text": [
            "Epoch [71/150] Loss: 2.4663\n"
          ]
        },
        {
          "output_type": "stream",
          "name": "stderr",
          "text": [
            "Epoch 72 Progress: 100%|██████████| 176/176 [00:27<00:00,  6.48it/s]\n"
          ]
        },
        {
          "output_type": "stream",
          "name": "stdout",
          "text": [
            "Epoch [72/150] Loss: 2.4778\n"
          ]
        },
        {
          "output_type": "stream",
          "name": "stderr",
          "text": [
            "Epoch 73 Progress: 100%|██████████| 176/176 [00:27<00:00,  6.45it/s]\n"
          ]
        },
        {
          "output_type": "stream",
          "name": "stdout",
          "text": [
            "Epoch [73/150] Loss: 2.4534\n"
          ]
        },
        {
          "output_type": "stream",
          "name": "stderr",
          "text": [
            "Epoch 74 Progress: 100%|██████████| 176/176 [00:27<00:00,  6.42it/s]\n"
          ]
        },
        {
          "output_type": "stream",
          "name": "stdout",
          "text": [
            "Epoch [74/150] Loss: 2.4502\n"
          ]
        },
        {
          "output_type": "stream",
          "name": "stderr",
          "text": [
            "Epoch 75 Progress: 100%|██████████| 176/176 [00:27<00:00,  6.45it/s]\n"
          ]
        },
        {
          "output_type": "stream",
          "name": "stdout",
          "text": [
            "Epoch [75/150] Loss: 2.4444\n"
          ]
        },
        {
          "output_type": "stream",
          "name": "stderr",
          "text": [
            "Epoch 76 Progress: 100%|██████████| 176/176 [00:27<00:00,  6.45it/s]\n"
          ]
        },
        {
          "output_type": "stream",
          "name": "stdout",
          "text": [
            "Epoch [76/150] Loss: 2.4303\n"
          ]
        },
        {
          "output_type": "stream",
          "name": "stderr",
          "text": [
            "Epoch 77 Progress: 100%|██████████| 176/176 [00:27<00:00,  6.41it/s]\n"
          ]
        },
        {
          "output_type": "stream",
          "name": "stdout",
          "text": [
            "Epoch [77/150] Loss: 2.4267\n"
          ]
        },
        {
          "output_type": "stream",
          "name": "stderr",
          "text": [
            "Epoch 78 Progress: 100%|██████████| 176/176 [00:27<00:00,  6.43it/s]\n"
          ]
        },
        {
          "output_type": "stream",
          "name": "stdout",
          "text": [
            "Epoch [78/150] Loss: 2.4102\n"
          ]
        },
        {
          "output_type": "stream",
          "name": "stderr",
          "text": [
            "Epoch 79 Progress: 100%|██████████| 176/176 [00:27<00:00,  6.46it/s]\n"
          ]
        },
        {
          "output_type": "stream",
          "name": "stdout",
          "text": [
            "Epoch [79/150] Loss: 2.4125\n"
          ]
        },
        {
          "output_type": "stream",
          "name": "stderr",
          "text": [
            "Epoch 80 Progress: 100%|██████████| 176/176 [00:27<00:00,  6.35it/s]\n"
          ]
        },
        {
          "output_type": "stream",
          "name": "stdout",
          "text": [
            "Epoch [80/150] Loss: 2.4036\n"
          ]
        },
        {
          "output_type": "stream",
          "name": "stderr",
          "text": [
            "Epoch 81 Progress: 100%|██████████| 176/176 [00:27<00:00,  6.46it/s]\n"
          ]
        },
        {
          "output_type": "stream",
          "name": "stdout",
          "text": [
            "Epoch [81/150] Loss: 2.3865\n"
          ]
        },
        {
          "output_type": "stream",
          "name": "stderr",
          "text": [
            "Epoch 82 Progress: 100%|██████████| 176/176 [00:27<00:00,  6.43it/s]\n"
          ]
        },
        {
          "output_type": "stream",
          "name": "stdout",
          "text": [
            "Epoch [82/150] Loss: 2.3712\n"
          ]
        },
        {
          "output_type": "stream",
          "name": "stderr",
          "text": [
            "Epoch 83 Progress: 100%|██████████| 176/176 [00:27<00:00,  6.43it/s]\n"
          ]
        },
        {
          "output_type": "stream",
          "name": "stdout",
          "text": [
            "Epoch [83/150] Loss: 2.3742\n"
          ]
        },
        {
          "output_type": "stream",
          "name": "stderr",
          "text": [
            "Epoch 84 Progress: 100%|██████████| 176/176 [00:27<00:00,  6.44it/s]\n"
          ]
        },
        {
          "output_type": "stream",
          "name": "stdout",
          "text": [
            "Epoch [84/150] Loss: 2.3759\n"
          ]
        },
        {
          "output_type": "stream",
          "name": "stderr",
          "text": [
            "Epoch 85 Progress: 100%|██████████| 176/176 [00:27<00:00,  6.46it/s]\n"
          ]
        },
        {
          "output_type": "stream",
          "name": "stdout",
          "text": [
            "Epoch [85/150] Loss: 2.3722\n"
          ]
        },
        {
          "output_type": "stream",
          "name": "stderr",
          "text": [
            "Epoch 86 Progress: 100%|██████████| 176/176 [00:27<00:00,  6.46it/s]\n"
          ]
        },
        {
          "output_type": "stream",
          "name": "stdout",
          "text": [
            "Epoch [86/150] Loss: 2.3647\n"
          ]
        },
        {
          "output_type": "stream",
          "name": "stderr",
          "text": [
            "Epoch 87 Progress: 100%|██████████| 176/176 [00:27<00:00,  6.44it/s]\n"
          ]
        },
        {
          "output_type": "stream",
          "name": "stdout",
          "text": [
            "Epoch [87/150] Loss: 2.3674\n"
          ]
        },
        {
          "output_type": "stream",
          "name": "stderr",
          "text": [
            "Epoch 88 Progress: 100%|██████████| 176/176 [00:27<00:00,  6.45it/s]\n"
          ]
        },
        {
          "output_type": "stream",
          "name": "stdout",
          "text": [
            "Epoch [88/150] Loss: 2.3394\n"
          ]
        },
        {
          "output_type": "stream",
          "name": "stderr",
          "text": [
            "Epoch 89 Progress: 100%|██████████| 176/176 [00:27<00:00,  6.46it/s]\n"
          ]
        },
        {
          "output_type": "stream",
          "name": "stdout",
          "text": [
            "Epoch [89/150] Loss: 2.3489\n"
          ]
        },
        {
          "output_type": "stream",
          "name": "stderr",
          "text": [
            "Epoch 90 Progress: 100%|██████████| 176/176 [00:27<00:00,  6.44it/s]\n"
          ]
        },
        {
          "output_type": "stream",
          "name": "stdout",
          "text": [
            "Epoch [90/150] Loss: 2.3331\n",
            "Model saved to /content/drive/Shareddrives/cxraide/ssd300_vgg16/VERSION_2/EXPORT/model_it1/model_epoch_90.pth\n",
            "Loss Details for Epoch 90:\n",
            "  ● Classification Loss: 2.23788948\n",
            "  ● Localization Loss: 0.09516591\n",
            "  ● Total Loss: 2.33305539\n"
          ]
        },
        {
          "output_type": "stream",
          "name": "stderr",
          "text": [
            "Validation Epoch 90: 100%|██████████| 704/704 [00:21<00:00, 32.14it/s]\n"
          ]
        },
        {
          "output_type": "stream",
          "name": "stdout",
          "text": [
            "Average Precision (AP) for Epoch 90:\n",
            "  - mAP: 0.0095\n",
            "  - mAP@0.50: 0.0232\n",
            "  - mAP@0.75: 0.0064\n",
            "  - mAP (small): 0.0007\n",
            "  - mAP (medium): 0.0095\n",
            "  - mAP (large): 0.0116\n",
            "Average Recall (AR) for Epoch 90:\n",
            "  - AR@1: 0.1096\n",
            "  - AR@10: 0.1636\n",
            "  - AR@100: 0.1803\n",
            "  - AR (small): 0.0845\n",
            "  - AR (medium): 0.1615\n",
            "  - AR (large): 0.1988\n",
            "Per-Class mAP for Epoch 90:\n",
            "  - Class 1: 0.0753\n",
            "  - Class 2: 0.0008\n",
            "  - Class 3: 0.0004\n",
            "  - Class 4: 0.0028\n",
            "  - Class 5: 0.0005\n",
            "  - Class 6: 0.0010\n",
            "  - Class 7: 0.0016\n",
            "  - Class 8: 0.0004\n",
            "  - Class 9: 0.0023\n",
            "Per-Class AR (at 100 detections) for Epoch 90:\n",
            "  - Class 1: 0.5128\n",
            "  - Class 2: 0.1843\n",
            "  - Class 3: 0.0924\n",
            "  - Class 4: 0.2459\n",
            "  - Class 5: 0.1397\n",
            "  - Class 6: 0.1246\n",
            "  - Class 7: 0.1755\n",
            "  - Class 8: 0.0419\n",
            "  - Class 9: 0.1059\n"
          ]
        },
        {
          "output_type": "stream",
          "name": "stderr",
          "text": [
            "Epoch 91 Progress: 100%|██████████| 176/176 [00:26<00:00,  6.68it/s]\n"
          ]
        },
        {
          "output_type": "stream",
          "name": "stdout",
          "text": [
            "Epoch [91/150] Loss: 2.3314\n"
          ]
        },
        {
          "output_type": "stream",
          "name": "stderr",
          "text": [
            "Epoch 92 Progress: 100%|██████████| 176/176 [00:27<00:00,  6.43it/s]\n"
          ]
        },
        {
          "output_type": "stream",
          "name": "stdout",
          "text": [
            "Epoch [92/150] Loss: 2.3173\n"
          ]
        },
        {
          "output_type": "stream",
          "name": "stderr",
          "text": [
            "Epoch 93 Progress: 100%|██████████| 176/176 [00:26<00:00,  6.67it/s]\n"
          ]
        },
        {
          "output_type": "stream",
          "name": "stdout",
          "text": [
            "Epoch [93/150] Loss: 2.3211\n"
          ]
        },
        {
          "output_type": "stream",
          "name": "stderr",
          "text": [
            "Epoch 94 Progress: 100%|██████████| 176/176 [00:26<00:00,  6.70it/s]\n"
          ]
        },
        {
          "output_type": "stream",
          "name": "stdout",
          "text": [
            "Epoch [94/150] Loss: 2.3122\n"
          ]
        },
        {
          "output_type": "stream",
          "name": "stderr",
          "text": [
            "Epoch 95 Progress: 100%|██████████| 176/176 [00:26<00:00,  6.74it/s]\n"
          ]
        },
        {
          "output_type": "stream",
          "name": "stdout",
          "text": [
            "Epoch [95/150] Loss: 2.3049\n"
          ]
        },
        {
          "output_type": "stream",
          "name": "stderr",
          "text": [
            "Epoch 96 Progress: 100%|██████████| 176/176 [00:27<00:00,  6.50it/s]\n"
          ]
        },
        {
          "output_type": "stream",
          "name": "stdout",
          "text": [
            "Epoch [96/150] Loss: 2.3009\n"
          ]
        },
        {
          "output_type": "stream",
          "name": "stderr",
          "text": [
            "Epoch 97 Progress: 100%|██████████| 176/176 [00:27<00:00,  6.48it/s]\n"
          ]
        },
        {
          "output_type": "stream",
          "name": "stdout",
          "text": [
            "Epoch [97/150] Loss: 2.3016\n"
          ]
        },
        {
          "output_type": "stream",
          "name": "stderr",
          "text": [
            "Epoch 98 Progress: 100%|██████████| 176/176 [00:26<00:00,  6.70it/s]\n"
          ]
        },
        {
          "output_type": "stream",
          "name": "stdout",
          "text": [
            "Epoch [98/150] Loss: 2.2855\n"
          ]
        },
        {
          "output_type": "stream",
          "name": "stderr",
          "text": [
            "Epoch 99 Progress: 100%|██████████| 176/176 [00:26<00:00,  6.73it/s]\n"
          ]
        },
        {
          "output_type": "stream",
          "name": "stdout",
          "text": [
            "Epoch [99/150] Loss: 2.2821\n"
          ]
        },
        {
          "output_type": "stream",
          "name": "stderr",
          "text": [
            "Epoch 100 Progress: 100%|██████████| 176/176 [00:26<00:00,  6.72it/s]\n"
          ]
        },
        {
          "output_type": "stream",
          "name": "stdout",
          "text": [
            "Epoch [100/150] Loss: 2.2789\n"
          ]
        },
        {
          "output_type": "stream",
          "name": "stderr",
          "text": [
            "Epoch 101 Progress: 100%|██████████| 176/176 [00:26<00:00,  6.66it/s]\n"
          ]
        },
        {
          "output_type": "stream",
          "name": "stdout",
          "text": [
            "Epoch [101/150] Loss: 2.2724\n"
          ]
        },
        {
          "output_type": "stream",
          "name": "stderr",
          "text": [
            "Epoch 102 Progress: 100%|██████████| 176/176 [00:26<00:00,  6.70it/s]\n"
          ]
        },
        {
          "output_type": "stream",
          "name": "stdout",
          "text": [
            "Epoch [102/150] Loss: 2.2561\n"
          ]
        },
        {
          "output_type": "stream",
          "name": "stderr",
          "text": [
            "Epoch 103 Progress: 100%|██████████| 176/176 [00:26<00:00,  6.58it/s]\n"
          ]
        },
        {
          "output_type": "stream",
          "name": "stdout",
          "text": [
            "Epoch [103/150] Loss: 2.2658\n"
          ]
        },
        {
          "output_type": "stream",
          "name": "stderr",
          "text": [
            "Epoch 104 Progress: 100%|██████████| 176/176 [00:26<00:00,  6.69it/s]\n"
          ]
        },
        {
          "output_type": "stream",
          "name": "stdout",
          "text": [
            "Epoch [104/150] Loss: 2.2498\n"
          ]
        },
        {
          "output_type": "stream",
          "name": "stderr",
          "text": [
            "Epoch 105 Progress: 100%|██████████| 176/176 [00:26<00:00,  6.69it/s]\n"
          ]
        },
        {
          "output_type": "stream",
          "name": "stdout",
          "text": [
            "Epoch [105/150] Loss: 2.2563\n"
          ]
        },
        {
          "output_type": "stream",
          "name": "stderr",
          "text": [
            "Epoch 106 Progress: 100%|██████████| 176/176 [00:26<00:00,  6.68it/s]\n"
          ]
        },
        {
          "output_type": "stream",
          "name": "stdout",
          "text": [
            "Epoch [106/150] Loss: 2.2615\n"
          ]
        },
        {
          "output_type": "stream",
          "name": "stderr",
          "text": [
            "Epoch 107 Progress: 100%|██████████| 176/176 [00:26<00:00,  6.69it/s]\n"
          ]
        },
        {
          "output_type": "stream",
          "name": "stdout",
          "text": [
            "Epoch [107/150] Loss: 2.2380\n"
          ]
        },
        {
          "output_type": "stream",
          "name": "stderr",
          "text": [
            "Epoch 108 Progress: 100%|██████████| 176/176 [00:26<00:00,  6.71it/s]\n"
          ]
        },
        {
          "output_type": "stream",
          "name": "stdout",
          "text": [
            "Epoch [108/150] Loss: 2.2357\n"
          ]
        },
        {
          "output_type": "stream",
          "name": "stderr",
          "text": [
            "Epoch 109 Progress: 100%|██████████| 176/176 [00:27<00:00,  6.46it/s]\n"
          ]
        },
        {
          "output_type": "stream",
          "name": "stdout",
          "text": [
            "Epoch [109/150] Loss: 2.2239\n"
          ]
        },
        {
          "output_type": "stream",
          "name": "stderr",
          "text": [
            "Epoch 110 Progress: 100%|██████████| 176/176 [00:26<00:00,  6.72it/s]\n"
          ]
        },
        {
          "output_type": "stream",
          "name": "stdout",
          "text": [
            "Epoch [110/150] Loss: 2.2212\n"
          ]
        },
        {
          "output_type": "stream",
          "name": "stderr",
          "text": [
            "Epoch 111 Progress: 100%|██████████| 176/176 [00:26<00:00,  6.73it/s]\n"
          ]
        },
        {
          "output_type": "stream",
          "name": "stdout",
          "text": [
            "Epoch [111/150] Loss: 2.2217\n"
          ]
        },
        {
          "output_type": "stream",
          "name": "stderr",
          "text": [
            "Epoch 112 Progress: 100%|██████████| 176/176 [00:26<00:00,  6.74it/s]\n"
          ]
        },
        {
          "output_type": "stream",
          "name": "stdout",
          "text": [
            "Epoch [112/150] Loss: 2.2211\n"
          ]
        },
        {
          "output_type": "stream",
          "name": "stderr",
          "text": [
            "Epoch 113 Progress: 100%|██████████| 176/176 [00:26<00:00,  6.68it/s]\n"
          ]
        },
        {
          "output_type": "stream",
          "name": "stdout",
          "text": [
            "Epoch [113/150] Loss: 2.2214\n"
          ]
        },
        {
          "output_type": "stream",
          "name": "stderr",
          "text": [
            "Epoch 114 Progress: 100%|██████████| 176/176 [00:26<00:00,  6.61it/s]\n"
          ]
        },
        {
          "output_type": "stream",
          "name": "stdout",
          "text": [
            "Epoch [114/150] Loss: 2.2070\n"
          ]
        },
        {
          "output_type": "stream",
          "name": "stderr",
          "text": [
            "Epoch 115 Progress: 100%|██████████| 176/176 [00:26<00:00,  6.72it/s]\n"
          ]
        },
        {
          "output_type": "stream",
          "name": "stdout",
          "text": [
            "Epoch [115/150] Loss: 2.2001\n"
          ]
        },
        {
          "output_type": "stream",
          "name": "stderr",
          "text": [
            "Epoch 116 Progress: 100%|██████████| 176/176 [00:26<00:00,  6.63it/s]\n"
          ]
        },
        {
          "output_type": "stream",
          "name": "stdout",
          "text": [
            "Epoch [116/150] Loss: 2.2045\n"
          ]
        },
        {
          "output_type": "stream",
          "name": "stderr",
          "text": [
            "Epoch 117 Progress: 100%|██████████| 176/176 [00:26<00:00,  6.67it/s]\n"
          ]
        },
        {
          "output_type": "stream",
          "name": "stdout",
          "text": [
            "Epoch [117/150] Loss: 2.2086\n"
          ]
        },
        {
          "output_type": "stream",
          "name": "stderr",
          "text": [
            "Epoch 118 Progress: 100%|██████████| 176/176 [00:26<00:00,  6.72it/s]\n"
          ]
        },
        {
          "output_type": "stream",
          "name": "stdout",
          "text": [
            "Epoch [118/150] Loss: 2.1981\n"
          ]
        },
        {
          "output_type": "stream",
          "name": "stderr",
          "text": [
            "Epoch 119 Progress: 100%|██████████| 176/176 [00:26<00:00,  6.75it/s]\n"
          ]
        },
        {
          "output_type": "stream",
          "name": "stdout",
          "text": [
            "Epoch [119/150] Loss: 2.1999\n"
          ]
        },
        {
          "output_type": "stream",
          "name": "stderr",
          "text": [
            "Epoch 120 Progress: 100%|██████████| 176/176 [00:26<00:00,  6.72it/s]\n"
          ]
        },
        {
          "output_type": "stream",
          "name": "stdout",
          "text": [
            "Epoch [120/150] Loss: 2.1935\n",
            "Model saved to /content/drive/Shareddrives/cxraide/ssd300_vgg16/VERSION_2/EXPORT/model_it1/model_epoch_120.pth\n",
            "Loss Details for Epoch 120:\n",
            "  ● Classification Loss: 2.11108664\n",
            "  ● Localization Loss: 0.08245170\n",
            "  ● Total Loss: 2.19353834\n"
          ]
        },
        {
          "output_type": "stream",
          "name": "stderr",
          "text": [
            "Validation Epoch 120: 100%|██████████| 704/704 [00:21<00:00, 32.55it/s]\n"
          ]
        },
        {
          "output_type": "stream",
          "name": "stdout",
          "text": [
            "Average Precision (AP) for Epoch 120:\n",
            "  - mAP: 0.0090\n",
            "  - mAP@0.50: 0.0223\n",
            "  - mAP@0.75: 0.0060\n",
            "  - mAP (small): 0.0011\n",
            "  - mAP (medium): 0.0074\n",
            "  - mAP (large): 0.0110\n",
            "Average Recall (AR) for Epoch 120:\n",
            "  - AR@1: 0.1074\n",
            "  - AR@10: 0.1673\n",
            "  - AR@100: 0.1779\n",
            "  - AR (small): 0.1064\n",
            "  - AR (medium): 0.1553\n",
            "  - AR (large): 0.1815\n",
            "Per-Class mAP for Epoch 120:\n",
            "  - Class 1: 0.0700\n",
            "  - Class 2: 0.0012\n",
            "  - Class 3: 0.0008\n",
            "  - Class 4: 0.0045\n",
            "  - Class 5: 0.0005\n",
            "  - Class 6: 0.0005\n",
            "  - Class 7: 0.0012\n",
            "  - Class 8: 0.0006\n",
            "  - Class 9: 0.0019\n",
            "Per-Class AR (at 100 detections) for Epoch 120:\n",
            "  - Class 1: 0.5160\n",
            "  - Class 2: 0.2172\n",
            "  - Class 3: 0.1305\n",
            "  - Class 4: 0.2878\n",
            "  - Class 5: 0.1096\n",
            "  - Class 6: 0.0754\n",
            "  - Class 7: 0.1286\n",
            "  - Class 8: 0.0628\n",
            "  - Class 9: 0.0735\n"
          ]
        },
        {
          "output_type": "stream",
          "name": "stderr",
          "text": [
            "Epoch 121 Progress: 100%|██████████| 176/176 [00:27<00:00,  6.38it/s]\n"
          ]
        },
        {
          "output_type": "stream",
          "name": "stdout",
          "text": [
            "Epoch [121/150] Loss: 2.1843\n"
          ]
        },
        {
          "output_type": "stream",
          "name": "stderr",
          "text": [
            "Epoch 122 Progress: 100%|██████████| 176/176 [00:27<00:00,  6.45it/s]\n"
          ]
        },
        {
          "output_type": "stream",
          "name": "stdout",
          "text": [
            "Epoch [122/150] Loss: 2.1741\n"
          ]
        },
        {
          "output_type": "stream",
          "name": "stderr",
          "text": [
            "Epoch 123 Progress: 100%|██████████| 176/176 [00:27<00:00,  6.45it/s]\n"
          ]
        },
        {
          "output_type": "stream",
          "name": "stdout",
          "text": [
            "Epoch [123/150] Loss: 2.1828\n"
          ]
        },
        {
          "output_type": "stream",
          "name": "stderr",
          "text": [
            "Epoch 124 Progress: 100%|██████████| 176/176 [00:27<00:00,  6.46it/s]\n"
          ]
        },
        {
          "output_type": "stream",
          "name": "stdout",
          "text": [
            "Epoch [124/150] Loss: 2.1715\n"
          ]
        },
        {
          "output_type": "stream",
          "name": "stderr",
          "text": [
            "Epoch 125 Progress: 100%|██████████| 176/176 [00:27<00:00,  6.44it/s]\n"
          ]
        },
        {
          "output_type": "stream",
          "name": "stdout",
          "text": [
            "Epoch [125/150] Loss: 2.1604\n"
          ]
        },
        {
          "output_type": "stream",
          "name": "stderr",
          "text": [
            "Epoch 126 Progress: 100%|██████████| 176/176 [00:27<00:00,  6.45it/s]\n"
          ]
        },
        {
          "output_type": "stream",
          "name": "stdout",
          "text": [
            "Epoch [126/150] Loss: 2.1564\n"
          ]
        },
        {
          "output_type": "stream",
          "name": "stderr",
          "text": [
            "Epoch 127 Progress: 100%|██████████| 176/176 [00:27<00:00,  6.47it/s]\n"
          ]
        },
        {
          "output_type": "stream",
          "name": "stdout",
          "text": [
            "Epoch [127/150] Loss: 2.1571\n"
          ]
        },
        {
          "output_type": "stream",
          "name": "stderr",
          "text": [
            "Epoch 128 Progress: 100%|██████████| 176/176 [00:27<00:00,  6.42it/s]\n"
          ]
        },
        {
          "output_type": "stream",
          "name": "stdout",
          "text": [
            "Epoch [128/150] Loss: 2.1533\n"
          ]
        },
        {
          "output_type": "stream",
          "name": "stderr",
          "text": [
            "Epoch 129 Progress: 100%|██████████| 176/176 [00:27<00:00,  6.47it/s]\n"
          ]
        },
        {
          "output_type": "stream",
          "name": "stdout",
          "text": [
            "Epoch [129/150] Loss: 2.1453\n"
          ]
        },
        {
          "output_type": "stream",
          "name": "stderr",
          "text": [
            "Epoch 130 Progress: 100%|██████████| 176/176 [00:27<00:00,  6.47it/s]\n"
          ]
        },
        {
          "output_type": "stream",
          "name": "stdout",
          "text": [
            "Epoch [130/150] Loss: 2.1605\n"
          ]
        },
        {
          "output_type": "stream",
          "name": "stderr",
          "text": [
            "Epoch 131 Progress: 100%|██████████| 176/176 [00:27<00:00,  6.44it/s]\n"
          ]
        },
        {
          "output_type": "stream",
          "name": "stdout",
          "text": [
            "Epoch [131/150] Loss: 2.1474\n"
          ]
        },
        {
          "output_type": "stream",
          "name": "stderr",
          "text": [
            "Epoch 132 Progress: 100%|██████████| 176/176 [00:27<00:00,  6.42it/s]\n"
          ]
        },
        {
          "output_type": "stream",
          "name": "stdout",
          "text": [
            "Epoch [132/150] Loss: 2.1536\n"
          ]
        },
        {
          "output_type": "stream",
          "name": "stderr",
          "text": [
            "Epoch 133 Progress: 100%|██████████| 176/176 [00:27<00:00,  6.48it/s]\n"
          ]
        },
        {
          "output_type": "stream",
          "name": "stdout",
          "text": [
            "Epoch [133/150] Loss: 2.1472\n"
          ]
        },
        {
          "output_type": "stream",
          "name": "stderr",
          "text": [
            "Epoch 134 Progress: 100%|██████████| 176/176 [00:27<00:00,  6.43it/s]\n"
          ]
        },
        {
          "output_type": "stream",
          "name": "stdout",
          "text": [
            "Epoch [134/150] Loss: 2.1431\n"
          ]
        },
        {
          "output_type": "stream",
          "name": "stderr",
          "text": [
            "Epoch 135 Progress: 100%|██████████| 176/176 [00:27<00:00,  6.46it/s]\n"
          ]
        },
        {
          "output_type": "stream",
          "name": "stdout",
          "text": [
            "Epoch [135/150] Loss: 2.1362\n"
          ]
        },
        {
          "output_type": "stream",
          "name": "stderr",
          "text": [
            "Epoch 136 Progress: 100%|██████████| 176/176 [00:27<00:00,  6.47it/s]\n"
          ]
        },
        {
          "output_type": "stream",
          "name": "stdout",
          "text": [
            "Epoch [136/150] Loss: 2.1341\n"
          ]
        },
        {
          "output_type": "stream",
          "name": "stderr",
          "text": [
            "Epoch 137 Progress: 100%|██████████| 176/176 [00:27<00:00,  6.43it/s]\n"
          ]
        },
        {
          "output_type": "stream",
          "name": "stdout",
          "text": [
            "Epoch [137/150] Loss: 2.1309\n"
          ]
        },
        {
          "output_type": "stream",
          "name": "stderr",
          "text": [
            "Epoch 138 Progress: 100%|██████████| 176/176 [00:27<00:00,  6.31it/s]\n"
          ]
        },
        {
          "output_type": "stream",
          "name": "stdout",
          "text": [
            "Epoch [138/150] Loss: 2.1238\n"
          ]
        },
        {
          "output_type": "stream",
          "name": "stderr",
          "text": [
            "Epoch 139 Progress: 100%|██████████| 176/176 [00:27<00:00,  6.44it/s]\n"
          ]
        },
        {
          "output_type": "stream",
          "name": "stdout",
          "text": [
            "Epoch [139/150] Loss: 2.1267\n"
          ]
        },
        {
          "output_type": "stream",
          "name": "stderr",
          "text": [
            "Epoch 140 Progress: 100%|██████████| 176/176 [00:27<00:00,  6.43it/s]\n"
          ]
        },
        {
          "output_type": "stream",
          "name": "stdout",
          "text": [
            "Epoch [140/150] Loss: 2.1231\n"
          ]
        },
        {
          "output_type": "stream",
          "name": "stderr",
          "text": [
            "Epoch 141 Progress: 100%|██████████| 176/176 [00:27<00:00,  6.46it/s]\n"
          ]
        },
        {
          "output_type": "stream",
          "name": "stdout",
          "text": [
            "Epoch [141/150] Loss: 2.1190\n"
          ]
        },
        {
          "output_type": "stream",
          "name": "stderr",
          "text": [
            "Epoch 142 Progress: 100%|██████████| 176/176 [00:27<00:00,  6.50it/s]\n"
          ]
        },
        {
          "output_type": "stream",
          "name": "stdout",
          "text": [
            "Epoch [142/150] Loss: 2.1134\n"
          ]
        },
        {
          "output_type": "stream",
          "name": "stderr",
          "text": [
            "Epoch 143 Progress: 100%|██████████| 176/176 [00:27<00:00,  6.42it/s]\n"
          ]
        },
        {
          "output_type": "stream",
          "name": "stdout",
          "text": [
            "Epoch [143/150] Loss: 2.1178\n"
          ]
        },
        {
          "output_type": "stream",
          "name": "stderr",
          "text": [
            "Epoch 144 Progress: 100%|██████████| 176/176 [00:27<00:00,  6.44it/s]\n"
          ]
        },
        {
          "output_type": "stream",
          "name": "stdout",
          "text": [
            "Epoch [144/150] Loss: 2.1089\n"
          ]
        },
        {
          "output_type": "stream",
          "name": "stderr",
          "text": [
            "Epoch 145 Progress: 100%|██████████| 176/176 [00:27<00:00,  6.44it/s]\n"
          ]
        },
        {
          "output_type": "stream",
          "name": "stdout",
          "text": [
            "Epoch [145/150] Loss: 2.1089\n"
          ]
        },
        {
          "output_type": "stream",
          "name": "stderr",
          "text": [
            "Epoch 146 Progress: 100%|██████████| 176/176 [00:27<00:00,  6.47it/s]\n"
          ]
        },
        {
          "output_type": "stream",
          "name": "stdout",
          "text": [
            "Epoch [146/150] Loss: 2.0980\n"
          ]
        },
        {
          "output_type": "stream",
          "name": "stderr",
          "text": [
            "Epoch 147 Progress: 100%|██████████| 176/176 [00:27<00:00,  6.46it/s]\n"
          ]
        },
        {
          "output_type": "stream",
          "name": "stdout",
          "text": [
            "Epoch [147/150] Loss: 2.1004\n"
          ]
        },
        {
          "output_type": "stream",
          "name": "stderr",
          "text": [
            "Epoch 148 Progress: 100%|██████████| 176/176 [00:27<00:00,  6.40it/s]\n"
          ]
        },
        {
          "output_type": "stream",
          "name": "stdout",
          "text": [
            "Epoch [148/150] Loss: 2.1016\n"
          ]
        },
        {
          "output_type": "stream",
          "name": "stderr",
          "text": [
            "Epoch 149 Progress: 100%|██████████| 176/176 [00:28<00:00,  6.26it/s]\n"
          ]
        },
        {
          "output_type": "stream",
          "name": "stdout",
          "text": [
            "Epoch [149/150] Loss: 2.1037\n"
          ]
        },
        {
          "output_type": "stream",
          "name": "stderr",
          "text": [
            "Epoch 150 Progress: 100%|██████████| 176/176 [00:27<00:00,  6.41it/s]\n"
          ]
        },
        {
          "output_type": "stream",
          "name": "stdout",
          "text": [
            "Epoch [150/150] Loss: 2.0985\n",
            "Model saved to /content/drive/Shareddrives/cxraide/ssd300_vgg16/VERSION_2/EXPORT/model_it1/model_epoch_150.pth\n",
            "Loss Details for Epoch 150:\n",
            "  ● Classification Loss: 2.02043538\n",
            "  ● Localization Loss: 0.07807265\n",
            "  ● Total Loss: 2.09850803\n"
          ]
        },
        {
          "output_type": "stream",
          "name": "stderr",
          "text": [
            "Validation Epoch 150: 100%|██████████| 704/704 [00:21<00:00, 32.56it/s]\n"
          ]
        },
        {
          "output_type": "stream",
          "name": "stdout",
          "text": [
            "Average Precision (AP) for Epoch 150:\n",
            "  - mAP: 0.0092\n",
            "  - mAP@0.50: 0.0217\n",
            "  - mAP@0.75: 0.0051\n",
            "  - mAP (small): 0.0011\n",
            "  - mAP (medium): 0.0102\n",
            "  - mAP (large): 0.0110\n",
            "Average Recall (AR) for Epoch 150:\n",
            "  - AR@1: 0.1138\n",
            "  - AR@10: 0.1622\n",
            "  - AR@100: 0.1656\n",
            "  - AR (small): 0.1043\n",
            "  - AR (medium): 0.1599\n",
            "  - AR (large): 0.1582\n",
            "Per-Class mAP for Epoch 150:\n",
            "  - Class 1: 0.0717\n",
            "  - Class 2: 0.0022\n",
            "  - Class 3: 0.0004\n",
            "  - Class 4: 0.0038\n",
            "  - Class 5: 0.0005\n",
            "  - Class 6: 0.0006\n",
            "  - Class 7: 0.0012\n",
            "  - Class 8: 0.0006\n",
            "  - Class 9: 0.0019\n",
            "Per-Class AR (at 100 detections) for Epoch 150:\n",
            "  - Class 1: 0.4819\n",
            "  - Class 2: 0.1970\n",
            "  - Class 3: 0.0932\n",
            "  - Class 4: 0.2745\n",
            "  - Class 5: 0.1123\n",
            "  - Class 6: 0.0820\n",
            "  - Class 7: 0.1082\n",
            "  - Class 8: 0.0558\n",
            "  - Class 9: 0.0853\n"
          ]
        }
      ]
    },
    {
      "cell_type": "code",
      "source": [
        "import torch\n",
        "import numpy as np\n",
        "import pandas as pd\n",
        "from PIL import Image\n",
        "from sklearn.metrics import roc_curve, auc\n",
        "import matplotlib.pyplot as plt\n",
        "\n",
        "\n",
        "\n",
        "# Define the model architecture\n",
        "model = ssd300_vgg16(pretrained=False)\n",
        "model.load_state_dict(torch.load('/content/drive/Shareddrives/cxraide/ssd300_vgg16/VERSION_2/EXPORT/model_it1/model_epoch_150.pth'))\n",
        "model.eval()\n",
        "\n",
        "# Function to read and preprocess an image\n",
        "def load_image_into_numpy_array(image_path):\n",
        "    image = Image.open(image_path).convert(\"RGB\")\n",
        "    return np.array(image).astype(np.float32) / 255.0\n",
        "\n",
        "# Function to run predictions on an image and return output\n",
        "def get_model_predictions(model, image_path):\n",
        "    image_np = load_image_into_numpy_array(image_path)\n",
        "    input_tensor = torch.tensor([image_np]).permute(0, 3, 1, 2)  # Add batch dimension and change to (N, C, H, W)\n",
        "    with torch.no_grad():\n",
        "        predictions = model(input_tensor)\n",
        "    return predictions\n",
        "\n",
        "# Extract probabilities for a specific class from predictions\n",
        "def extract_predicted_probabilities(predictions, class_index):\n",
        "    detection_classes = predictions[0]['labels'].numpy()\n",
        "    detection_scores = predictions[0]['scores'].numpy()\n",
        "    class_scores = detection_scores[detection_classes == class_index]\n",
        "    return np.max(class_scores) if len(class_scores) > 0 else 0\n",
        "\n",
        "# Load your validation data\n",
        "val_df = pd.read_csv('/content/drive/Shareddrives/cxraide/ssd300_vgg16/VERSION_2/VALtrans.csv')\n",
        "\n",
        "# Define your classes and their corresponding indices\n",
        "classes = {\n",
        "    'Cardiomegaly': 1,\n",
        "    'Pleural thickening': 2,\n",
        "    'Pulmonary fibrosis': 3,\n",
        "    'Pleural effusion': 4,\n",
        "    'Nodule/Mass': 5,\n",
        "    'Infiltration': 6,\n",
        "    'Consolidation': 7,\n",
        "    'Atelectasis': 8,\n",
        "    'Pneumothorax': 9\n",
        "}\n",
        "\n",
        "# Path to the directory containing images\n",
        "image_directory = '/content/drive/Shareddrives/cxraide/ssd300_vgg16/VERSION_2/VALIDATION/'\n",
        "\n",
        "# Iterate over the validation dataset, run predictions, and extract probabilities\n",
        "predicted_probabilities = {class_name: [] for class_name in classes}\n",
        "\n",
        "for image_id in val_df['image_id']:\n",
        "    image_path = f\"{image_directory}{image_id}.png\"\n",
        "    predictions = get_model_predictions(model, image_path)\n",
        "    for class_name, class_index in classes.items():\n",
        "        prob = extract_predicted_probabilities(predictions, class_index)\n",
        "        predicted_probabilities[class_name].append(prob)\n",
        "\n",
        "# Compute AUC for each class\n",
        "plt.figure()\n",
        "for class_name, class_index in classes.items():\n",
        "    y_true = val_df[class_name].values\n",
        "    y_scores = predicted_probabilities[class_name]\n",
        "\n",
        "    # Compute ROC curve and AUC\n",
        "    fpr, tpr, _ = roc_curve(y_true, y_scores)\n",
        "    roc_auc = auc(fpr, tpr)\n",
        "\n",
        "    # Plot ROC curve for each class\n",
        "    plt.plot(fpr, tpr, label=f'{class_name} (AUC = {roc_auc:.2f})')\n",
        "\n",
        "# Add labels and legend\n",
        "plt.xlabel('False Positive Rate')\n",
        "plt.ylabel('True Positive Rate')\n",
        "plt.title('ROC Curve for Abnormalities')\n",
        "plt.legend(loc='lower right', fontsize=7)\n",
        "plt.show()"
      ],
      "metadata": {
        "colab": {
          "base_uri": "https://localhost:8080/",
          "height": 666
        },
        "id": "qsKrFbJ4v52U",
        "outputId": "67bb6a68-4057-4062-fc0d-ff01f8f85bbb"
      },
      "execution_count": null,
      "outputs": [
        {
          "output_type": "stream",
          "name": "stderr",
          "text": [
            "/usr/local/lib/python3.10/dist-packages/torchvision/models/_utils.py:208: UserWarning: The parameter 'pretrained' is deprecated since 0.13 and may be removed in the future, please use 'weights' instead.\n",
            "  warnings.warn(\n",
            "/usr/local/lib/python3.10/dist-packages/torchvision/models/_utils.py:223: UserWarning: Arguments other than a weight enum or `None` for 'weights' are deprecated since 0.13 and may be removed in the future. The current behavior is equivalent to passing `weights=None`.\n",
            "  warnings.warn(msg)\n",
            "Downloading: \"https://download.pytorch.org/models/vgg16_features-amdegroot-88682ab5.pth\" to /root/.cache/torch/hub/checkpoints/vgg16_features-amdegroot-88682ab5.pth\n",
            "100%|██████████| 528M/528M [00:06<00:00, 79.6MB/s]\n",
            "<ipython-input-3-cd3f1adb00ea>:12: FutureWarning: You are using `torch.load` with `weights_only=False` (the current default value), which uses the default pickle module implicitly. It is possible to construct malicious pickle data which will execute arbitrary code during unpickling (See https://github.com/pytorch/pytorch/blob/main/SECURITY.md#untrusted-models for more details). In a future release, the default value for `weights_only` will be flipped to `True`. This limits the functions that could be executed during unpickling. Arbitrary objects will no longer be allowed to be loaded via this mode unless they are explicitly allowlisted by the user via `torch.serialization.add_safe_globals`. We recommend you start setting `weights_only=True` for any use case where you don't have full control of the loaded file. Please open an issue on GitHub for any issues related to this experimental feature.\n",
            "  model.load_state_dict(torch.load('/content/drive/Shareddrives/cxraide/ssd300_vgg16/VERSION_2/EXPORT/model_it1/model_epoch_150.pth'))\n",
            "<ipython-input-3-cd3f1adb00ea>:23: UserWarning: Creating a tensor from a list of numpy.ndarrays is extremely slow. Please consider converting the list to a single numpy.ndarray with numpy.array() before converting to a tensor. (Triggered internally at ../torch/csrc/utils/tensor_new.cpp:278.)\n",
            "  input_tensor = torch.tensor([image_np]).permute(0, 3, 1, 2)  # Add batch dimension and change to (N, C, H, W)\n"
          ]
        },
        {
          "output_type": "display_data",
          "data": {
            "text/plain": [
              "<Figure size 640x480 with 1 Axes>"
            ],
            "image/png": "[encoded data removed]"
          },
          "metadata": {}
        }
      ]
    },
    {
      "cell_type": "code",
      "source": [
        "from torchvision.models.detection import ssd300_vgg16\n",
        "model = ssd300_vgg16(weights=\"DEFAULT\")  # Instead of pretrained=True"
      ],
      "metadata": {
        "id": "xe8dR8v-MG3z"
      },
      "execution_count": null,
      "outputs": []
    },
    {
      "cell_type": "code",
      "source": [
        "import torch\n",
        "from torchvision import transforms\n",
        "import torchvision.models as models\n",
        "from PIL import Image\n",
        "import matplotlib.pyplot as plt\n",
        "import cv2\n",
        "import pandas as pd\n",
        "\n",
        "# Class dictionary\n",
        "classes = {\n",
        "    'Cardiomegaly': 1,\n",
        "    'Pleural thickening': 2,\n",
        "    'Pulmonary fibrosis': 3,\n",
        "    'Pleural effusion': 4,\n",
        "    'Nodule/Mass': 5,\n",
        "    'Infiltration': 6,\n",
        "    'Consolidation': 7,\n",
        "    'Atelectasis': 8,\n",
        "    'Pneumothorax': 9\n",
        "}\n",
        "\n",
        "transform = transforms.Compose([\n",
        "    transforms.Resize((512, 512)),\n",
        "    transforms.ToTensor(),\n",
        "    transforms.Normalize(mean=[0.485, 0.456, 0.406], std=[0.229, 0.224, 0.225])\n",
        "])\n",
        "\n",
        "def load_image(image_path):\n",
        "    image = Image.open(image_path).convert(\"RGB\")\n",
        "    return transform(image).unsqueeze(0)  # Add batch dimension\n",
        "\n",
        "# Load the SSD model architecture\n",
        "model = models.detection.ssd300_vgg16(weights=None)\n",
        "\n",
        "model.load_state_dict(torch.load('/content/drive/Shareddrives/cxraide/ssd300_vgg16/VERSION_2/EXPORT/model_it1/model_epoch_150.pth', map_location=torch.device('cpu')))\n",
        "model.eval()  # Set the model to evaluation mode\n",
        "\n",
        "def predict(image_tensor):\n",
        "    with torch.no_grad():\n",
        "        predictions = model(image_tensor)\n",
        "\n",
        "    # Filter to keep only one prediction per class\n",
        "    unique_predictions = []\n",
        "    seen_classes = set()\n",
        "    for i, label in enumerate(predictions[0]['labels']):\n",
        "        if label.item() not in seen_classes:\n",
        "            unique_predictions.append({\n",
        "                'boxes': predictions[0]['boxes'][i],\n",
        "                'labels': label,\n",
        "                'scores': predictions[0]['scores'][i]\n",
        "            })\n",
        "            seen_classes.add(label.item())\n",
        "\n",
        "    # Convert the list of unique predictions back to the original format\n",
        "    filtered_predictions = {\n",
        "        'boxes': torch.stack([pred['boxes'] for pred in unique_predictions]),\n",
        "        'labels': torch.tensor([pred['labels'] for pred in unique_predictions]),\n",
        "        'scores': torch.tensor([pred['scores'] for pred in unique_predictions])\n",
        "    }\n",
        "\n",
        "    return [filtered_predictions]\n",
        "\n",
        "# Function to load ground truth bounding boxes from CSV\n",
        "def load_ground_truth_bboxes(csv_file, image_id):\n",
        "    df = pd.read_csv(csv_file)\n",
        "    # Filter rows for the specific image_id\n",
        "    gt_bboxes = df[df['image_id'] == image_id]\n",
        "    return gt_bboxes\n",
        "\n",
        "def plot_boxes(image_path, predictions, csv_file):\n",
        "    # Read the original image for both GT and predictions\n",
        "    image_gt = cv2.imread(image_path)  # For ground truth\n",
        "    image_pred = cv2.imread(image_path)  # For predictions\n",
        "\n",
        "    # Extract image_id from the image file name (remove the .png extension)\n",
        "    image_id = image_path.split('/')[-1].replace('.png', '')\n",
        "\n",
        "    # Load ground truth bounding boxes from the CSV\n",
        "    gt_bboxes = load_ground_truth_bboxes(csv_file, image_id)\n",
        "\n",
        "    # Plot ground truth boxes (Red)\n",
        "    for _, row in gt_bboxes.iterrows():\n",
        "        x1, y1, x2, y2 = row['x_min'], row['y_min'], row['x_max'], row['y_max']\n",
        "        class_name = row['class_name'] if 'class_name' in row else \"Unknown\"\n",
        "        print(f\"Ground Truth Class: {class_name}, Bounding Box: ({x1}, {y1}), ({x2}, {y2})\")\n",
        "        cv2.rectangle(image_gt, (int(x1), int(y1)), (int(x2), int(y2)), (0, 0, 255), 2)  # Red for GT\n",
        "        cv2.putText(image_gt, f\"{class_name}\", (int(x1), int(y1) - 10), cv2.FONT_HERSHEY_SIMPLEX, 0.6, (0, 0, 255), 2)\n",
        "\n",
        "    # Plot predicted boxes (Green)\n",
        "    for i, box in enumerate(predictions[0]['boxes']):\n",
        "        x1, y1, x2, y2 = box.int().tolist()\n",
        "        class_name = predictions[0]['labels'][i].item()\n",
        "        class_name_str = [k for k, v in classes.items() if v == class_name][0]  # Get class name from dictionary\n",
        "        print(f\"Predicted Class: {class_name_str}, Bounding Box: ({x1}, {y1}), ({x2}, {y2})\")\n",
        "        cv2.rectangle(image_pred, (x1, y1), (x2, y2), (0, 255, 0), 2)  # Green for predictions\n",
        "        cv2.putText(image_pred, f\"{class_name_str}\", (x1, y1 - 10), cv2.FONT_HERSHEY_SIMPLEX, 0.6, (0, 255, 0), 2)\n",
        "\n",
        "    # Display the images separately\n",
        "    plt.figure(figsize=(10, 5))\n",
        "\n",
        "    # Ground Truth\n",
        "    plt.subplot(1, 2, 1)\n",
        "    plt.title(\"Ground Truth\")\n",
        "    plt.imshow(cv2.cvtColor(image_gt, cv2.COLOR_BGR2RGB))\n",
        "\n",
        "    # Predictions\n",
        "    plt.subplot(1, 2, 2)\n",
        "    plt.title(\"Predictions\")\n",
        "    plt.imshow(cv2.cvtColor(image_pred, cv2.COLOR_BGR2RGB))\n",
        "\n",
        "    plt.tight_layout()\n",
        "    plt.show()\n",
        "\n",
        "# Example of how to call the function with image and CSV\n",
        "image_path = '/content/drive/Shareddrives/cxraide/ssd300_vgg16/VERSION_2/VALIDATION/00f2f97f74e086e1f82acc285ee4a5c5.png'\n",
        "csv_file = '/content/drive/Shareddrives/cxraide/ssd300_vgg16/VERSION_2/val.csv'\n",
        "\n",
        "# Load and preprocess the image\n",
        "image_tensor = load_image(image_path)\n",
        "\n",
        "# Make prediction\n",
        "predictions = predict(image_tensor)\n",
        "\n",
        "# Plot and compare the boxes\n",
        "plot_boxes(image_path, predictions, csv_file)"
      ],
      "metadata": {
        "colab": {
          "base_uri": "https://localhost:8080/",
          "height": 730
        },
        "id": "ja_SLKAaGlmf",
        "outputId": "14b0208c-f2e2-46d9-bd5b-bed5fd1fc7a5"
      },
      "execution_count": null,
      "outputs": [
        {
          "output_type": "stream",
          "name": "stderr",
          "text": [
            "<ipython-input-6-14b221cb1390>:35: FutureWarning: You are using `torch.load` with `weights_only=False` (the current default value), which uses the default pickle module implicitly. It is possible to construct malicious pickle data which will execute arbitrary code during unpickling (See https://github.com/pytorch/pytorch/blob/main/SECURITY.md#untrusted-models for more details). In a future release, the default value for `weights_only` will be flipped to `True`. This limits the functions that could be executed during unpickling. Arbitrary objects will no longer be allowed to be loaded via this mode unless they are explicitly allowlisted by the user via `torch.serialization.add_safe_globals`. We recommend you start setting `weights_only=True` for any use case where you don't have full control of the loaded file. Please open an issue on GitHub for any issues related to this experimental feature.\n",
            "  model.load_state_dict(torch.load('/content/drive/Shareddrives/cxraide/ssd300_vgg16/VERSION_2/EXPORT/model_it1/model_epoch_150.pth', map_location=torch.device('cpu')))\n"
          ]
        },
        {
          "output_type": "stream",
          "name": "stdout",
          "text": [
            "Ground Truth Class: Infiltration, Bounding Box: (290.4444444, 65.42222222), (318.0, 85.86666667)\n",
            "Ground Truth Class: Pleural thickening, Bounding Box: (100.6666667, 73.6), (179.5555556, 93.51111111)\n",
            "Ground Truth Class: Cardiomegaly, Bounding Box: (172.2222222, 226.6666667), (400.4444444, 288.5333333)\n",
            "Predicted Class: Cardiomegaly, Bounding Box: (168, 224), (379, 260)\n",
            "Predicted Class: Pleural thickening, Bounding Box: (312, 75), (371, 89)\n",
            "Predicted Class: Pulmonary fibrosis, Bounding Box: (371, 227), (431, 245)\n",
            "Predicted Class: Nodule/Mass, Bounding Box: (102, 436), (118, 455)\n",
            "Predicted Class: Pleural effusion, Bounding Box: (425, 245), (467, 287)\n",
            "Predicted Class: Atelectasis, Bounding Box: (237, 111), (298, 165)\n"
          ]
        },
        {
          "output_type": "display_data",
          "data": {
            "text/plain": [
              "<Figure size 1000x500 with 2 Axes>"
            ],
            "image/png": "[encoded data removed]"
          },
          "metadata": {}
        }
      ]
    },
    {
      "cell_type": "code",
      "source": [
        "# Import necessary libraries\n",
        "import matplotlib.pyplot as plt\n",
        "\n",
        "# Updated data for the new line graph\n",
        "steps_new = [30, 60, 90, 120, 150]\n",
        "total_loss_new = [\n",
        "    3.17077390, 2.58012255, 2.33305539, 2.19353834, 2.09850803,\n",
        "]\n",
        "\n",
        "# Create the updated plot\n",
        "plt.figure(figsize=(10, 5))\n",
        "plt.plot(steps_new, total_loss_new, marker='o', linestyle='-', color='blue')\n",
        "\n",
        "# Add titles and labels\n",
        "plt.title('Total Loss over Training Steps', fontsize=14)\n",
        "plt.xlabel('Epochs', fontsize=12)\n",
        "plt.ylabel('Total Loss', fontsize=12)\n",
        "\n",
        "# Set x-axis ticks to display every 500th step\n",
        "plt.xticks(range(30, 180, 30), fontsize=10)\n",
        "\n",
        "# Add grid for better readability\n",
        "plt.grid(True)\n",
        "\n",
        "# Display the plot\n",
        "plt.show()"
      ],
      "metadata": {
        "id": "_bEzkhjl16sW",
        "colab": {
          "base_uri": "https://localhost:8080/",
          "height": 512
        },
        "outputId": "558a5481-931a-40b1-ab3f-28bad091af52"
      },
      "execution_count": null,
      "outputs": [
        {
          "output_type": "display_data",
          "data": {
            "text/plain": [
              "<Figure size 1000x500 with 1 Axes>"
            ],
            "image/png": "[encoded data removed]"
          },
          "metadata": {}
        }
      ]
    }
  ]
}