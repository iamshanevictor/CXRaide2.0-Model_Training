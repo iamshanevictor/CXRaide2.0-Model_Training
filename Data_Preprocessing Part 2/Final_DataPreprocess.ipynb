{
  "nbformat": 4,
  "nbformat_minor": 0,
  "metadata": {
    "colab": {
      "provenance": [],
      "authorship_tag": "ABX9TyNtjgISrZ8DG/Gm31ITXPtn",
      "include_colab_link": true
    },
    "kernelspec": {
      "name": "python3",
      "display_name": "Python 3"
    },
    "language_info": {
      "name": "python"
    }
  },
  "cells": [
    {
      "cell_type": "markdown",
      "metadata": {
        "id": "view-in-github",
        "colab_type": "text"
      },
      "source": [
        "<a href=\"https://colab.research.google.com/github/iamshanevictor/CXRaide2.0-Model_Training/blob/main/Data_Preprocessing%20Part%202/Final_DataPreprocess.ipynb\" target=\"_parent\"><img src=\"https://colab.research.google.com/assets/colab-badge.svg\" alt=\"Open In Colab\"/></a>"
      ]
    },
    {
      "cell_type": "code",
      "execution_count": null,
      "metadata": {
        "colab": {
          "base_uri": "https://localhost:8080/"
        },
        "id": "LoMibgbpO7js",
        "outputId": "20070be4-f9da-415a-eeaa-34bf36f252f5"
      },
      "outputs": [
        {
          "output_type": "stream",
          "name": "stdout",
          "text": [
            "Mounted at /content/drive\n"
          ]
        }
      ],
      "source": [
        "from google.colab import drive\n",
        "drive.mount('/content/drive')"
      ]
    },
    {
      "cell_type": "code",
      "source": [
        "import os\n",
        "import shutil\n",
        "import pandas as pd\n",
        "import xml.etree.ElementTree as ET\n",
        "from sklearn.metrics import roc_curve, auc\n",
        "import matplotlib.pyplot as plt"
      ],
      "metadata": {
        "id": "WtzC7s9DXFHt"
      },
      "execution_count": null,
      "outputs": []
    },
    {
      "cell_type": "code",
      "source": [
        "!pip install pillow"
      ],
      "metadata": {
        "colab": {
          "base_uri": "https://localhost:8080/"
        },
        "id": "mmNTCQEl6DRi",
        "outputId": "6de32868-9707-485e-9ce6-f8e1495dc866"
      },
      "execution_count": null,
      "outputs": [
        {
          "output_type": "stream",
          "name": "stdout",
          "text": [
            "Requirement already satisfied: pillow in /usr/local/lib/python3.10/dist-packages (11.0.0)\n"
          ]
        }
      ]
    },
    {
      "cell_type": "code",
      "source": [
        "# Define the base path for VOCdevkit\n",
        "base_path = '/content/drive/Shareddrives/cxraide/ssd300_vgg16/VER6/VOCdevkit/VOC2007'\n",
        "\n",
        "# Create the directory structure\n",
        "os.makedirs(os.path.join(base_path, 'Annotations'), exist_ok=True)\n",
        "os.makedirs(os.path.join(base_path, 'ImageSets/Main'), exist_ok=True)\n",
        "os.makedirs(os.path.join(base_path, 'JPEGImages'), exist_ok=True)\n",
        "\n",
        "# Paths to your training and validation folders\n",
        "train_folder = '/content/drive/Shareddrives/cxraide/ssd300_vgg16/VER6/balance_TRAINING'\n",
        "val_folder = '/content/drive/Shareddrives/cxraide/ssd300_vgg16/VER6/balance_VALIDATION'\n",
        "jpeg_images_folder = os.path.join(base_path, 'JPEGImages')\n",
        "\n",
        "# Copy training images\n",
        "for filename in os.listdir(train_folder):\n",
        "    if filename.endswith('.png'):\n",
        "        shutil.copy(os.path.join(train_folder, filename), os.path.join(jpeg_images_folder, filename))\n",
        "\n",
        "# Copy validation images\n",
        "for filename in os.listdir(val_folder):\n",
        "    if filename.endswith('.png'):\n",
        "        shutil.copy(os.path.join(val_folder, filename), os.path.join(jpeg_images_folder, filename))\n",
        "\n",
        "def create_annotation(image_id, width, height, objects, output_dir):\n",
        "    annotation = ET.Element('annotation')\n",
        "    ET.SubElement(annotation, 'folder').text = 'VOC2007'\n",
        "    ET.SubElement(annotation, 'filename').text = image_id + '.png'\n",
        "    ET.SubElement(annotation, 'path').text = os.path.join(jpeg_images_folder, image_id + '.png')\n",
        "\n",
        "    source = ET.SubElement(annotation, 'source')\n",
        "    ET.SubElement(source, 'database').text = 'Unknown'\n",
        "\n",
        "    size = ET.SubElement(annotation, 'size')\n",
        "    ET.SubElement(size, 'width').text = str(width)\n",
        "    ET.SubElement(size, 'height').text = str(height)\n",
        "    ET.SubElement(size, 'depth').text = '3'\n",
        "\n",
        "    ET.SubElement(annotation, 'segmented').text = '0'\n",
        "\n",
        "    for obj in objects:\n",
        "        obj_elem = ET.SubElement(annotation, 'object')\n",
        "        ET.SubElement(obj_elem, 'name').text = obj['class_name']\n",
        "        ET.SubElement(obj_elem, 'pose').text = 'Unspecified'\n",
        "        ET.SubElement(obj_elem, 'truncated').text = '0'\n",
        "        ET.SubElement(obj_elem, 'difficult').text = '0'\n",
        "\n",
        "        bndbox = ET.SubElement(obj_elem, 'bndbox')\n",
        "        ET.SubElement(bndbox, 'xmin').text = str(obj['x_min'])\n",
        "        ET.SubElement(bndbox, 'ymin').text = str(obj['y_min'])\n",
        "        ET.SubElement(bndbox, 'xmax').text = str(obj['x_max'])\n",
        "        ET.SubElement(bndbox, 'ymax').text = str(obj['y_max'])\n",
        "\n",
        "    tree = ET.ElementTree(annotation)\n",
        "    tree.write(os.path.join(output_dir, image_id + '.xml'))\n",
        "\n",
        "# Load CSV files\n",
        "train_df = pd.read_csv('/content/drive/Shareddrives/cxraide/ssd300_vgg16/VER6/balanced_train.csv')\n",
        "val_df = pd.read_csv('/content/drive/Shareddrives/cxraide/ssd300_vgg16/VER6/balanced_val.csv')\n",
        "\n",
        "# Create Annotations folder if it doesn't exist\n",
        "annotations_folder = os.path.join(base_path, 'Annotations')\n",
        "os.makedirs(annotations_folder, exist_ok=True)\n",
        "\n",
        "# Process training data\n",
        "for image_id, group in train_df.groupby('image_id'):\n",
        "    objects = group.to_dict('records')\n",
        "    create_annotation(image_id, 300, 300, objects, annotations_folder)\n",
        "\n",
        "# Process validation data\n",
        "for image_id, group in val_df.groupby('image_id'):\n",
        "    objects = group.to_dict('records')\n",
        "    create_annotation(image_id, 300, 300, objects, annotations_folder)\n",
        "\n",
        "# Create ImageSets/Main folder if it doesn't exist\n",
        "image_sets_folder = os.path.join(base_path, 'ImageSets/Main')\n",
        "os.makedirs(image_sets_folder, exist_ok=True)\n",
        "\n",
        "# List of image filenames (without extensions)\n",
        "trainval_filenames = train_df['image_id'].unique()\n",
        "test_filenames = val_df['image_id'].unique()\n",
        "\n",
        "# Write to trainval.txt\n",
        "with open(os.path.join(image_sets_folder, 'trainval.txt'), 'w') as f:\n",
        "    for filename in trainval_filenames:\n",
        "        f.write(f\"{filename}\\n\")\n",
        "\n",
        "# Write to test.txt\n",
        "with open(os.path.join(image_sets_folder, 'test.txt'), 'w') as f:\n",
        "    for filename in test_filenames:\n",
        "        f.write(f\"{filename}\\n\")"
      ],
      "metadata": {
        "id": "qRDu5d25wSP3"
      },
      "execution_count": null,
      "outputs": []
    }
  ]
}