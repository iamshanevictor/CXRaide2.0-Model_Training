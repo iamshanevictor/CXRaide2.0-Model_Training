{
  "nbformat": 4,
  "nbformat_minor": 0,
  "metadata": {
    "colab": {
      "provenance": [],
      "authorship_tag": "ABX9TyP/hlWdZJmUwhxaiqV/i4UE",
      "include_colab_link": true
    },
    "kernelspec": {
      "name": "python3",
      "display_name": "Python 3"
    },
    "language_info": {
      "name": "python"
    }
  },
  "cells": [
    {
      "cell_type": "markdown",
      "metadata": {
        "id": "view-in-github",
        "colab_type": "text"
      },
      "source": [
        "<a href=\"https://colab.research.google.com/github/iamshanevictor/CXRaide2.0-Model_Training/blob/main/ITERATION_3.ipynb\" target=\"_parent\"><img src=\"https://colab.research.google.com/assets/colab-badge.svg\" alt=\"Open In Colab\"/></a>"
      ]
    },
    {
      "cell_type": "code",
      "source": [
        "from google.colab import drive\n",
        "drive.mount('/content/drive')"
      ],
      "metadata": {
        "colab": {
          "base_uri": "https://localhost:8080/"
        },
        "id": "emjAvxozREUK",
        "outputId": "798eb2e5-0286-4fd0-9fe2-5b649c27e690"
      },
      "execution_count": null,
      "outputs": [
        {
          "output_type": "stream",
          "name": "stdout",
          "text": [
            "Mounted at /content/drive\n"
          ]
        }
      ]
    },
    {
      "cell_type": "code",
      "source": [
        "# Install required libraries\n",
        "!pip install torchmetrics\n",
        "\n",
        "import torch\n",
        "import torchmetrics\n",
        "from torchvision.models.detection import ssd300_vgg16\n",
        "from torchvision.ops import nms\n",
        "from torch.utils.data import Dataset, DataLoader\n",
        "import os\n",
        "from torchvision import transforms\n",
        "from PIL import Image\n",
        "import pandas as pd\n",
        "from torch import optim\n",
        "from tqdm import tqdm\n",
        "from collections import defaultdict\n",
        "from torchmetrics.detection import MeanAveragePrecision\n",
        "from torch.optim.lr_scheduler import ReduceLROnPlateau\n",
        "from torch.nn import functional as F\n",
        "\n",
        "# Device configuration\n",
        "device = torch.device('cuda' if torch.cuda.is_available() else 'cpu')\n",
        "\n",
        "# Dataset class (unchanged)\n",
        "class CustomDataset(Dataset):\n",
        "    def __init__(self, root, bbox_csv, multi_label_csv, transform=None):\n",
        "        self.root = root\n",
        "        self.bbox_annotations = pd.read_csv(bbox_csv)\n",
        "        self.multi_label_annotations = pd.read_csv(multi_label_csv)\n",
        "        self.transform = transform\n",
        "\n",
        "    def __len__(self):\n",
        "        return len(self.bbox_annotations)\n",
        "\n",
        "    def __getitem__(self, idx):\n",
        "        try:\n",
        "            img_name = os.path.join(self.root, 'JPEGImages', self.bbox_annotations.iloc[idx, 0] + '.png')\n",
        "            image = Image.open(img_name).convert(\"RGB\")\n",
        "            bbox = self.bbox_annotations.iloc[idx, 2:6].values.astype('float').reshape(-1, 4)\n",
        "            class_name = self.bbox_annotations.iloc[idx, 1]\n",
        "\n",
        "            multi_labels = self.multi_label_annotations[self.multi_label_annotations['image_id'] == self.bbox_annotations.iloc[idx, 0]].iloc[:, 1:].values.astype('int')[0]\n",
        "\n",
        "            if len(bbox) == 0:\n",
        "                bbox = torch.zeros((0, 4), dtype=torch.float32)\n",
        "                labels = torch.zeros((0,), dtype=torch.int64)\n",
        "            else:\n",
        "                class_to_idx = {\"Cardiomegaly\": 1, \"Pleural thickening\": 2, \"Pulmonary fibrosis\": 3,\n",
        "                                \"Pleural effusion\": 4, \"Nodule/Mass\": 5, \"Infiltration\": 6}\n",
        "                labels = torch.tensor([class_to_idx[class_name]], dtype=torch.int64)\n",
        "\n",
        "            target = {\n",
        "                \"boxes\": torch.as_tensor(bbox, dtype=torch.float32),\n",
        "                \"labels\": labels.clone().detach().to(torch.int64),\n",
        "                \"multi_labels\": torch.tensor(multi_labels, dtype=torch.int64)\n",
        "            }\n",
        "\n",
        "            if self.transform:\n",
        "                image = self.transform(image)\n",
        "\n",
        "            return image, target\n",
        "        except Exception as e:\n",
        "            print(f\"Error loading sample {idx}: {e}\")\n",
        "            return None\n",
        "\n",
        "# Collate function\n",
        "def collate_fn(batch):\n",
        "    batch = [item for item in batch if item is not None]\n",
        "    return tuple(zip(*batch))\n",
        "\n",
        "# Dataset transformations\n",
        "data_transform = transforms.Compose([\n",
        "    transforms.ToTensor(),\n",
        "])\n",
        "\n",
        "# Dataset paths\n",
        "root = '/content/drive/Shareddrives/cxraide/ssd300_vgg16/VERSION_3/VOCdevkit/VOC2007'\n",
        "bbox_train_csv = '/content/drive/Shareddrives/cxraide/ssd300_vgg16/VERSION_3/new_balanced_train(V5).csv'\n",
        "multi_label_train_csv = '/content/drive/Shareddrives/cxraide/ssd300_vgg16/VERSION_3/balanced_TRAINtrans.csv'\n",
        "bbox_val_csv = '/content/drive/Shareddrives/cxraide/ssd300_vgg16/VERSION_3/new_balanced_val(V5).csv'\n",
        "multi_label_val_csv = '/content/drive/Shareddrives/cxraide/ssd300_vgg16/VERSION_3/balanced_VALtrans.csv'\n",
        "\n",
        "train_dataset = CustomDataset(root=root, bbox_csv=bbox_train_csv, multi_label_csv=multi_label_train_csv, transform=data_transform)\n",
        "val_dataset = CustomDataset(root=root, bbox_csv=bbox_val_csv, multi_label_csv=multi_label_val_csv, transform=data_transform)\n",
        "\n",
        "train_loader = DataLoader(train_dataset, batch_size=64, shuffle=True, num_workers=2, collate_fn=collate_fn)\n",
        "val_loader = DataLoader(val_dataset, batch_size=1, shuffle=False, num_workers=2, collate_fn=collate_fn)\n",
        "\n",
        "# SSD300 model\n",
        "model = ssd300_vgg16(pretrained=True)\n",
        "num_classes = 7  # 9 classes + 1 background class\n",
        "model.head.classification_head.num_classes = num_classes\n",
        "model.to(device)\n",
        "\n",
        "# Optimizer\n",
        "optimizer = optim.SGD(model.parameters(), lr=0.0001, momentum=0.9, weight_decay=0.0005)\n",
        "\n",
        "# Scheduler\n",
        "scheduler = ReduceLROnPlateau(optimizer, mode='min', patience=3, factor=0.5, threshold=1e-4, verbose=True)\n",
        "\n",
        "# Metrics\n",
        "metric_ap = MeanAveragePrecision(iou_type='bbox', class_metrics=True)\n",
        "\n",
        "# Non-Maximum Suppression (NMS) function\n",
        "def apply_nms(outputs, iou_threshold=0.5):\n",
        "    nms_outputs = []\n",
        "    for output in outputs:\n",
        "        if len(output['boxes']) > 0:\n",
        "            keep_indices = nms(output['boxes'], output['scores'], iou_threshold)\n",
        "            nms_outputs.append({\n",
        "                'boxes': output['boxes'][keep_indices],\n",
        "                'scores': output['scores'][keep_indices],\n",
        "                'labels': output['labels'][keep_indices],\n",
        "            })\n",
        "        else:\n",
        "            nms_outputs.append(output)\n",
        "    return nms_outputs\n",
        "\n",
        "# Calculate class weights for imbalance handling\n",
        "class_counts = train_dataset.bbox_annotations['class_name'].value_counts()\n",
        "total_samples = class_counts.sum()\n",
        "class_weights = {cls: total_samples / count for cls, count in class_counts.items()}\n",
        "\n",
        "# Custom weighted loss function\n",
        "def custom_loss_fn(loss_dict, targets, class_weights):\n",
        "    classification_loss = 0.0\n",
        "    regression_loss = loss_dict['bbox_regression']\n",
        "    for target, logits in zip(targets, loss_dict['classification']):\n",
        "        labels = target['labels']\n",
        "        weights = torch.tensor([class_weights[int(label)] for label in labels]).to(logits.device)\n",
        "        classification_loss += F.cross_entropy(logits, labels, weight=weights)\n",
        "    return classification_loss, regression_loss"
      ],
      "metadata": {
        "colab": {
          "base_uri": "https://localhost:8080/"
        },
        "id": "OSWd_Y9wP3XM",
        "outputId": "af84d6a7-320a-4928-8326-d8330bac8f06"
      },
      "execution_count": null,
      "outputs": [
        {
          "output_type": "stream",
          "name": "stdout",
          "text": [
            "Collecting torchmetrics\n",
            "  Downloading torchmetrics-1.6.0-py3-none-any.whl.metadata (20 kB)\n",
            "Requirement already satisfied: numpy>1.20.0 in /usr/local/lib/python3.10/dist-packages (from torchmetrics) (1.26.4)\n",
            "Requirement already satisfied: packaging>17.1 in /usr/local/lib/python3.10/dist-packages (from torchmetrics) (24.2)\n",
            "Requirement already satisfied: torch>=2.0.0 in /usr/local/lib/python3.10/dist-packages (from torchmetrics) (2.5.1+cu121)\n",
            "Collecting lightning-utilities>=0.8.0 (from torchmetrics)\n",
            "  Downloading lightning_utilities-0.11.9-py3-none-any.whl.metadata (5.2 kB)\n",
            "Requirement already satisfied: setuptools in /usr/local/lib/python3.10/dist-packages (from lightning-utilities>=0.8.0->torchmetrics) (75.1.0)\n",
            "Requirement already satisfied: typing-extensions in /usr/local/lib/python3.10/dist-packages (from lightning-utilities>=0.8.0->torchmetrics) (4.12.2)\n",
            "Requirement already satisfied: filelock in /usr/local/lib/python3.10/dist-packages (from torch>=2.0.0->torchmetrics) (3.16.1)\n",
            "Requirement already satisfied: networkx in /usr/local/lib/python3.10/dist-packages (from torch>=2.0.0->torchmetrics) (3.4.2)\n",
            "Requirement already satisfied: jinja2 in /usr/local/lib/python3.10/dist-packages (from torch>=2.0.0->torchmetrics) (3.1.4)\n",
            "Requirement already satisfied: fsspec in /usr/local/lib/python3.10/dist-packages (from torch>=2.0.0->torchmetrics) (2024.10.0)\n",
            "Requirement already satisfied: sympy==1.13.1 in /usr/local/lib/python3.10/dist-packages (from torch>=2.0.0->torchmetrics) (1.13.1)\n",
            "Requirement already satisfied: mpmath<1.4,>=1.1.0 in /usr/local/lib/python3.10/dist-packages (from sympy==1.13.1->torch>=2.0.0->torchmetrics) (1.3.0)\n",
            "Requirement already satisfied: MarkupSafe>=2.0 in /usr/local/lib/python3.10/dist-packages (from jinja2->torch>=2.0.0->torchmetrics) (3.0.2)\n",
            "Downloading torchmetrics-1.6.0-py3-none-any.whl (926 kB)\n",
            "\u001b[2K   \u001b[90m━━━━━━━━━━━━━━━━━━━━━━━━━━━━━━━━━━━━━━━━\u001b[0m \u001b[32m926.4/926.4 kB\u001b[0m \u001b[31m15.5 MB/s\u001b[0m eta \u001b[36m0:00:00\u001b[0m\n",
            "\u001b[?25hDownloading lightning_utilities-0.11.9-py3-none-any.whl (28 kB)\n",
            "Installing collected packages: lightning-utilities, torchmetrics\n",
            "Successfully installed lightning-utilities-0.11.9 torchmetrics-1.6.0\n"
          ]
        },
        {
          "output_type": "stream",
          "name": "stderr",
          "text": [
            "/usr/local/lib/python3.10/dist-packages/torchvision/models/_utils.py:208: UserWarning: The parameter 'pretrained' is deprecated since 0.13 and may be removed in the future, please use 'weights' instead.\n",
            "  warnings.warn(\n",
            "/usr/local/lib/python3.10/dist-packages/torchvision/models/_utils.py:223: UserWarning: Arguments other than a weight enum or `None` for 'weights' are deprecated since 0.13 and may be removed in the future. The current behavior is equivalent to passing `weights=SSD300_VGG16_Weights.COCO_V1`. You can also use `weights=SSD300_VGG16_Weights.DEFAULT` to get the most up-to-date weights.\n",
            "  warnings.warn(msg)\n",
            "Downloading: \"https://download.pytorch.org/models/ssd300_vgg16_coco-b556d3b4.pth\" to /root/.cache/torch/hub/checkpoints/ssd300_vgg16_coco-b556d3b4.pth\n",
            "100%|██████████| 136M/136M [00:02<00:00, 71.2MB/s]\n"
          ]
        }
      ]
    },
    {
      "cell_type": "code",
      "source": [
        "import torch\n",
        "import torch.optim as optim\n",
        "from tqdm import tqdm\n",
        "\n",
        "# Assuming you have already defined your model, dataloaders, device, etc.\n",
        "\n",
        "# Define the custom loss function\n",
        "def custom_loss_fn(loss_dict, targets, class_weights):\n",
        "    \"\"\"\n",
        "    Custom loss function to apply class weights.\n",
        "\n",
        "    Args:\n",
        "    - loss_dict: Dictionary containing loss components (classification, bbox regression).\n",
        "    - targets: Ground truth targets (used to calculate per-class weights).\n",
        "    - class_weights: Tensor containing class weights for classification loss.\n",
        "\n",
        "    Returns:\n",
        "    - cls_loss: Weighted classification loss.\n",
        "    - loc_loss: Localization loss.\n",
        "    \"\"\"\n",
        "    # Extract losses from the dictionary\n",
        "    cls_loss = loss_dict['classification']  # Scalar\n",
        "    loc_loss = loss_dict['bbox_regression']  # Scalar\n",
        "\n",
        "    # Apply class weights to classification loss\n",
        "    # Ensure cls_loss is weighted correctly by the provided class_weights\n",
        "    weighted_cls_loss = cls_loss * torch.mean(class_weights)\n",
        "\n",
        "    return weighted_cls_loss, loc_loss\n",
        "\n",
        "# Set up your optimizer\n",
        "optimizer = optim.Adam(model.parameters(), lr=1e-5)\n",
        "\n",
        "# Set the class weights (example; modify according to your dataset)\n",
        "class_weights = torch.tensor([1.0, 1.2, 0.8, 1.5, 1.0, 1.3, 1.1]).to(device)\n",
        "\n",
        "# Training loop\n",
        "num_epochs = 300  # You can update this to any desired number of epochs\n",
        "for epoch in range(num_epochs):\n",
        "    model.train()\n",
        "    running_loss = 0.0\n",
        "    classification_loss = 0.0\n",
        "    localization_loss = 0.0\n",
        "\n",
        "    # Training process\n",
        "    for batch_idx, (images, targets) in enumerate(tqdm(train_loader, desc=f\"Epoch {epoch + 1} Progress\")):\n",
        "        images = [img.to(device) for img in images]\n",
        "        targets = [{k: v.to(device) for k, v in t.items()} for t in targets]\n",
        "\n",
        "        optimizer.zero_grad()\n",
        "        loss_dict = model(images, targets)\n",
        "        total_loss = sum(loss for loss in loss_dict.values())\n",
        "\n",
        "        # Calculate custom loss with class weights\n",
        "        cls_loss, loc_loss = custom_loss_fn(loss_dict, targets, class_weights)\n",
        "        total_loss = cls_loss + loc_loss\n",
        "\n",
        "        # Backpropagate and optimize\n",
        "        total_loss.backward()\n",
        "        optimizer.step()\n",
        "\n",
        "        # Track the losses\n",
        "        running_loss += total_loss.item()\n",
        "        classification_loss += cls_loss.item()\n",
        "        localization_loss += loc_loss.item()\n",
        "\n",
        "    # Print loss statistics for the epoch\n",
        "    print(f\"Epoch [{epoch + 1}/{num_epochs}] Loss: {running_loss / len(train_loader):.4f}\")\n",
        "\n",
        "    # Save the model only every nth epoch (e.g., every 2nd epoch)\n",
        "    if (epoch + 1) % 20 == 0:\n",
        "        model_path = f'/content/drive/Shareddrives/cxraide/ssd300_vgg16/VERSION_3/EXPORT/model_v1/model_epoch_{epoch + 1}.pth'\n",
        "        torch.save(model.state_dict(), model_path)\n",
        "        print(f\"Model saved to {model_path}\")\n",
        "\n",
        "        # Print detailed loss values only when model is saved\n",
        "        print(f\"Loss Details for Epoch {epoch + 1}:\")\n",
        "        print(f\"  ● Classification Loss: {classification_loss / len(train_loader):.8f}\")\n",
        "        print(f\"  ● Localization Loss: {localization_loss / len(train_loader):.8f}\")\n",
        "        print(f\"  ● Total Loss: {running_loss / len(train_loader):.8f}\")\n",
        "\n",
        "        # Evaluate the model and print AP/AR only after saving the model\n",
        "        model.eval()\n",
        "        all_predictions = []\n",
        "        all_targets = []\n",
        "\n",
        "        # Run evaluation on the validation set\n",
        "        for images, targets in tqdm(val_loader, desc=f\"Validation Epoch {epoch + 1}\"):\n",
        "            images = [img.to(device) for img in images]\n",
        "            targets = [{k: v.to(device) for k, v in t.items()} for t in targets]\n",
        "\n",
        "            with torch.no_grad():\n",
        "                outputs = model(images)\n",
        "\n",
        "            # Collecting ground truth and predictions\n",
        "            for output, target in zip(outputs, targets):\n",
        "                boxes = output['boxes'].to(device).cpu()\n",
        "                labels = output['labels'].to(device).cpu()\n",
        "                scores = output['scores'].to(device).cpu()\n",
        "\n",
        "                all_predictions.append({\n",
        "                    'boxes': boxes,\n",
        "                    'labels': labels,\n",
        "                    'scores': scores\n",
        "                })\n",
        "\n",
        "                target_boxes = target['boxes'].to(device).cpu()\n",
        "                target_labels = target['labels'].to(device).cpu()\n",
        "\n",
        "                all_targets.append({\n",
        "                    'boxes': target_boxes,\n",
        "                    'labels': target_labels\n",
        "                })\n",
        "\n",
        "        # Calculate the Average Precision (AP)\n",
        "        metric_ap.update(all_predictions, all_targets)\n",
        "\n",
        "        # Get AP for the current epoch\n",
        "        ap_results = metric_ap.compute()\n",
        "\n",
        "        # Print results with improved formatting\n",
        "        print(f\"Average Precision (AP) for Epoch {epoch + 1}:\")\n",
        "        print(f\"  - mAP: {ap_results['map']:.4f}\")\n",
        "        print(f\"  - mAP@0.50: {ap_results['map_50']:.4f}\")\n",
        "        print(f\"  - mAP@0.75: {ap_results['map_75']:.4f}\")\n",
        "        print(f\"  - mAP (small): {ap_results['map_small']:.4f}\")\n",
        "        print(f\"  - mAP (medium): {ap_results['map_medium']:.4f}\")\n",
        "        print(f\"  - mAP (large): {ap_results['map_large']:.4f}\")\n",
        "        print(f\"Average Recall (AR) for Epoch {epoch + 1}:\")\n",
        "        print(f\"  - AR@1: {ap_results['mar_1']:.4f}\")\n",
        "        print(f\"  - AR@10: {ap_results['mar_10']:.4f}\")\n",
        "        print(f\"  - AR@100: {ap_results['mar_100']:.4f}\")\n",
        "        print(f\"  - AR (small): {ap_results['mar_small']:.4f}\")\n",
        "        print(f\"  - AR (medium): {ap_results['mar_medium']:.4f}\")\n",
        "        print(f\"  - AR (large): {ap_results['mar_large']:.4f}\")\n",
        "\n",
        "        # Only print per-class results for classes in your dataset (1-7)\n",
        "        print(f\"Per-Class mAP for Epoch {epoch + 1}:\")\n",
        "        for class_idx, ap_class in enumerate(ap_results['map_per_class']):\n",
        "            if class_idx < 9:  # Only print classes 1 to 7\n",
        "                print(f\"  - Class {class_idx + 1}: {ap_class:.4f}\")\n",
        "\n",
        "        print(f\"Per-Class AR (at 100 detections) for Epoch {epoch + 1}:\")\n",
        "        for class_idx, ar_class in enumerate(ap_results['mar_100_per_class']):\n",
        "            if class_idx < 9:  # Only print classes 1 to 7\n",
        "                print(f\"  - Class {class_idx + 1}: {ar_class:.4f}\")\n",
        "\n",
        "        # Reset metrics for the next epoch\n",
        "        metric_ap.reset()\n"
      ],
      "metadata": {
        "colab": {
          "base_uri": "https://localhost:8080/"
        },
        "id": "6pQQMsLTQVs0",
        "outputId": "43ab4cc4-8f8d-4677-ecb6-67930baee8ab"
      },
      "execution_count": null,
      "outputs": [
        {
          "metadata": {
            "tags": null
          },
          "name": "stderr",
          "output_type": "stream",
          "text": [
            "Epoch 1 Progress: 100%|██████████| 216/216 [02:03<00:00,  1.75it/s]\n"
          ]
        },
        {
          "metadata": {
            "tags": null
          },
          "name": "stdout",
          "output_type": "stream",
          "text": [
            "Epoch [1/300] Loss: 3.7321\n"
          ]
        },
        {
          "metadata": {
            "tags": null
          },
          "name": "stderr",
          "output_type": "stream",
          "text": [
            "Epoch 2 Progress: 100%|██████████| 216/216 [02:03<00:00,  1.75it/s]\n"
          ]
        },
        {
          "metadata": {
            "tags": null
          },
          "name": "stdout",
          "output_type": "stream",
          "text": [
            "Epoch [2/300] Loss: 3.6256\n"
          ]
        },
        {
          "metadata": {
            "tags": null
          },
          "name": "stderr",
          "output_type": "stream",
          "text": [
            "Epoch 3 Progress: 100%|██████████| 216/216 [02:02<00:00,  1.76it/s]\n"
          ]
        },
        {
          "metadata": {
            "tags": null
          },
          "name": "stdout",
          "output_type": "stream",
          "text": [
            "Epoch [3/300] Loss: 3.5409\n"
          ]
        },
        {
          "metadata": {
            "tags": null
          },
          "name": "stderr",
          "output_type": "stream",
          "text": [
            "Epoch 4 Progress: 100%|██████████| 216/216 [02:03<00:00,  1.75it/s]\n"
          ]
        },
        {
          "metadata": {
            "tags": null
          },
          "name": "stdout",
          "output_type": "stream",
          "text": [
            "Epoch [4/300] Loss: 3.4603\n"
          ]
        },
        {
          "metadata": {
            "tags": null
          },
          "name": "stderr",
          "output_type": "stream",
          "text": [
            "Epoch 5 Progress: 100%|██████████| 216/216 [02:03<00:00,  1.75it/s]\n"
          ]
        },
        {
          "metadata": {
            "tags": null
          },
          "name": "stdout",
          "output_type": "stream",
          "text": [
            "Epoch [5/300] Loss: 3.3887\n"
          ]
        },
        {
          "metadata": {
            "tags": null
          },
          "name": "stderr",
          "output_type": "stream",
          "text": [
            "Epoch 6 Progress: 100%|██████████| 216/216 [02:03<00:00,  1.75it/s]\n"
          ]
        },
        {
          "metadata": {
            "tags": null
          },
          "name": "stdout",
          "output_type": "stream",
          "text": [
            "Epoch [6/300] Loss: 3.3275\n"
          ]
        },
        {
          "metadata": {
            "tags": null
          },
          "name": "stderr",
          "output_type": "stream",
          "text": [
            "Epoch 7 Progress: 100%|██████████| 216/216 [02:03<00:00,  1.75it/s]\n"
          ]
        },
        {
          "metadata": {
            "tags": null
          },
          "name": "stdout",
          "output_type": "stream",
          "text": [
            "Epoch [7/300] Loss: 3.2679\n"
          ]
        },
        {
          "metadata": {
            "tags": null
          },
          "name": "stderr",
          "output_type": "stream",
          "text": [
            "Epoch 8 Progress: 100%|██████████| 216/216 [02:02<00:00,  1.76it/s]\n"
          ]
        },
        {
          "metadata": {
            "tags": null
          },
          "name": "stdout",
          "output_type": "stream",
          "text": [
            "Epoch [8/300] Loss: 3.2126\n"
          ]
        },
        {
          "metadata": {
            "tags": null
          },
          "name": "stderr",
          "output_type": "stream",
          "text": [
            "Epoch 9 Progress: 100%|██████████| 216/216 [01:59<00:00,  1.80it/s]\n"
          ]
        },
        {
          "metadata": {
            "tags": null
          },
          "name": "stdout",
          "output_type": "stream",
          "text": [
            "Epoch [9/300] Loss: 3.1683\n"
          ]
        },
        {
          "metadata": {
            "tags": null
          },
          "name": "stderr",
          "output_type": "stream",
          "text": [
            "Epoch 10 Progress: 100%|██████████| 216/216 [01:59<00:00,  1.81it/s]\n"
          ]
        },
        {
          "metadata": {
            "tags": null
          },
          "name": "stdout",
          "output_type": "stream",
          "text": [
            "Epoch [10/300] Loss: 3.1281\n"
          ]
        },
        {
          "metadata": {
            "tags": null
          },
          "name": "stderr",
          "output_type": "stream",
          "text": [
            "Epoch 11 Progress: 100%|██████████| 216/216 [01:59<00:00,  1.81it/s]\n"
          ]
        },
        {
          "metadata": {
            "tags": null
          },
          "name": "stdout",
          "output_type": "stream",
          "text": [
            "Epoch [11/300] Loss: 3.0784\n"
          ]
        },
        {
          "metadata": {
            "tags": null
          },
          "name": "stderr",
          "output_type": "stream",
          "text": [
            "Epoch 12 Progress: 100%|██████████| 216/216 [01:59<00:00,  1.81it/s]\n"
          ]
        },
        {
          "metadata": {
            "tags": null
          },
          "name": "stdout",
          "output_type": "stream",
          "text": [
            "Epoch [12/300] Loss: 3.0445\n"
          ]
        },
        {
          "metadata": {
            "tags": null
          },
          "name": "stderr",
          "output_type": "stream",
          "text": [
            "Epoch 13 Progress: 100%|██████████| 216/216 [01:58<00:00,  1.83it/s]\n"
          ]
        },
        {
          "metadata": {
            "tags": null
          },
          "name": "stdout",
          "output_type": "stream",
          "text": [
            "Epoch [13/300] Loss: 3.0084\n"
          ]
        },
        {
          "metadata": {
            "tags": null
          },
          "name": "stderr",
          "output_type": "stream",
          "text": [
            "Epoch 14 Progress: 100%|██████████| 216/216 [01:57<00:00,  1.83it/s]\n"
          ]
        },
        {
          "metadata": {
            "tags": null
          },
          "name": "stdout",
          "output_type": "stream",
          "text": [
            "Epoch [14/300] Loss: 2.9770\n"
          ]
        },
        {
          "metadata": {
            "tags": null
          },
          "name": "stderr",
          "output_type": "stream",
          "text": [
            "Epoch 15 Progress: 100%|██████████| 216/216 [01:58<00:00,  1.82it/s]\n"
          ]
        },
        {
          "metadata": {
            "tags": null
          },
          "name": "stdout",
          "output_type": "stream",
          "text": [
            "Epoch [15/300] Loss: 2.9425\n"
          ]
        },
        {
          "metadata": {
            "tags": null
          },
          "name": "stderr",
          "output_type": "stream",
          "text": [
            "Epoch 16 Progress: 100%|██████████| 216/216 [01:57<00:00,  1.83it/s]\n"
          ]
        },
        {
          "metadata": {
            "tags": null
          },
          "name": "stdout",
          "output_type": "stream",
          "text": [
            "Epoch [16/300] Loss: 2.9158\n"
          ]
        },
        {
          "metadata": {
            "tags": null
          },
          "name": "stderr",
          "output_type": "stream",
          "text": [
            "Epoch 17 Progress: 100%|██████████| 216/216 [01:57<00:00,  1.83it/s]\n"
          ]
        },
        {
          "metadata": {
            "tags": null
          },
          "name": "stdout",
          "output_type": "stream",
          "text": [
            "Epoch [17/300] Loss: 2.8880\n"
          ]
        },
        {
          "metadata": {
            "tags": null
          },
          "name": "stderr",
          "output_type": "stream",
          "text": [
            "Epoch 18 Progress: 100%|██████████| 216/216 [01:57<00:00,  1.84it/s]\n"
          ]
        },
        {
          "metadata": {
            "tags": null
          },
          "name": "stdout",
          "output_type": "stream",
          "text": [
            "Epoch [18/300] Loss: 2.8668\n"
          ]
        },
        {
          "metadata": {
            "tags": null
          },
          "name": "stderr",
          "output_type": "stream",
          "text": [
            "Epoch 19 Progress: 100%|██████████| 216/216 [01:58<00:00,  1.82it/s]\n"
          ]
        },
        {
          "metadata": {
            "tags": null
          },
          "name": "stdout",
          "output_type": "stream",
          "text": [
            "Epoch [19/300] Loss: 2.8423\n"
          ]
        },
        {
          "metadata": {
            "tags": null
          },
          "name": "stderr",
          "output_type": "stream",
          "text": [
            "Epoch 20 Progress: 100%|██████████| 216/216 [01:59<00:00,  1.81it/s]\n"
          ]
        },
        {
          "metadata": {
            "tags": null
          },
          "name": "stdout",
          "output_type": "stream",
          "text": [
            "Epoch [20/300] Loss: 2.8138\n",
            "Model saved to /content/drive/Shareddrives/cxraide/ssd300_vgg16/VERSION_3/EXPORT/model_v1/model_epoch_20.pth\n",
            "Loss Details for Epoch 20:\n",
            "  ● Classification Loss: 2.64310767\n",
            "  ● Localization Loss: 0.17066939\n",
            "  ● Total Loss: 2.81377706\n"
          ]
        },
        {
          "metadata": {
            "tags": null
          },
          "name": "stderr",
          "output_type": "stream",
          "text": [
            "Validation Epoch 20: 100%|██████████| 3515/3515 [01:50<00:00, 31.89it/s]\n"
          ]
        },
        {
          "metadata": {
            "tags": null
          },
          "name": "stdout",
          "output_type": "stream",
          "text": [
            "Average Precision (AP) for Epoch 20:\n",
            "  - mAP: 0.1696\n",
            "  - mAP@0.50: 0.2222\n",
            "  - mAP@0.75: 0.1912\n",
            "  - mAP (small): 0.0387\n",
            "  - mAP (medium): 0.2005\n",
            "  - mAP (large): 0.2899\n",
            "Average Recall (AR) for Epoch 20:\n",
            "  - AR@1: 0.5715\n",
            "  - AR@10: 0.6303\n",
            "  - AR@100: 0.6552\n",
            "  - AR (small): 0.3244\n",
            "  - AR (medium): 0.7415\n",
            "  - AR (large): 0.8323\n",
            "Per-Class mAP for Epoch 20:\n",
            "  - Class 1: 0.2710\n",
            "  - Class 2: 0.0869\n",
            "  - Class 3: 0.1512\n",
            "  - Class 4: 0.1708\n",
            "  - Class 5: 0.1078\n",
            "  - Class 6: 0.2302\n",
            "Per-Class AR (at 100 detections) for Epoch 20:\n",
            "  - Class 1: 0.8231\n",
            "  - Class 2: 0.5643\n",
            "  - Class 3: 0.6279\n",
            "  - Class 4: 0.6915\n",
            "  - Class 5: 0.4550\n",
            "  - Class 6: 0.7693\n"
          ]
        },
        {
          "metadata": {
            "tags": null
          },
          "name": "stderr",
          "output_type": "stream",
          "text": [
            "Epoch 21 Progress: 100%|██████████| 216/216 [01:57<00:00,  1.84it/s]\n"
          ]
        },
        {
          "metadata": {
            "tags": null
          },
          "name": "stdout",
          "output_type": "stream",
          "text": [
            "Epoch [21/300] Loss: 2.7943\n"
          ]
        },
        {
          "metadata": {
            "tags": null
          },
          "name": "stderr",
          "output_type": "stream",
          "text": [
            "Epoch 22 Progress: 100%|██████████| 216/216 [01:57<00:00,  1.83it/s]\n"
          ]
        },
        {
          "metadata": {
            "tags": null
          },
          "name": "stdout",
          "output_type": "stream",
          "text": [
            "Epoch [22/300] Loss: 2.7771\n"
          ]
        },
        {
          "metadata": {
            "tags": null
          },
          "name": "stderr",
          "output_type": "stream",
          "text": [
            "Epoch 23 Progress: 100%|██████████| 216/216 [01:57<00:00,  1.83it/s]\n"
          ]
        },
        {
          "metadata": {
            "tags": null
          },
          "name": "stdout",
          "output_type": "stream",
          "text": [
            "Epoch [23/300] Loss: 2.7580\n"
          ]
        },
        {
          "metadata": {
            "tags": null
          },
          "name": "stderr",
          "output_type": "stream",
          "text": [
            "Epoch 24 Progress: 100%|██████████| 216/216 [01:57<00:00,  1.83it/s]\n"
          ]
        },
        {
          "metadata": {
            "tags": null
          },
          "name": "stdout",
          "output_type": "stream",
          "text": [
            "Epoch [24/300] Loss: 2.7381\n"
          ]
        },
        {
          "metadata": {
            "tags": null
          },
          "name": "stderr",
          "output_type": "stream",
          "text": [
            "Epoch 25 Progress: 100%|██████████| 216/216 [01:57<00:00,  1.83it/s]\n"
          ]
        },
        {
          "metadata": {
            "tags": null
          },
          "name": "stdout",
          "output_type": "stream",
          "text": [
            "Epoch [25/300] Loss: 2.7223\n"
          ]
        },
        {
          "metadata": {
            "tags": null
          },
          "name": "stderr",
          "output_type": "stream",
          "text": [
            "Epoch 26 Progress: 100%|██████████| 216/216 [01:57<00:00,  1.83it/s]\n"
          ]
        },
        {
          "metadata": {
            "tags": null
          },
          "name": "stdout",
          "output_type": "stream",
          "text": [
            "Epoch [26/300] Loss: 2.7074\n"
          ]
        },
        {
          "metadata": {
            "tags": null
          },
          "name": "stderr",
          "output_type": "stream",
          "text": [
            "Epoch 27 Progress: 100%|██████████| 216/216 [01:57<00:00,  1.83it/s]\n"
          ]
        },
        {
          "metadata": {
            "tags": null
          },
          "name": "stdout",
          "output_type": "stream",
          "text": [
            "Epoch [27/300] Loss: 2.6856\n"
          ]
        },
        {
          "metadata": {
            "tags": null
          },
          "name": "stderr",
          "output_type": "stream",
          "text": [
            "Epoch 28 Progress: 100%|██████████| 216/216 [01:57<00:00,  1.84it/s]\n"
          ]
        },
        {
          "metadata": {
            "tags": null
          },
          "name": "stdout",
          "output_type": "stream",
          "text": [
            "Epoch [28/300] Loss: 2.6746\n"
          ]
        },
        {
          "metadata": {
            "tags": null
          },
          "name": "stderr",
          "output_type": "stream",
          "text": [
            "Epoch 29 Progress: 100%|██████████| 216/216 [01:58<00:00,  1.83it/s]\n"
          ]
        },
        {
          "metadata": {
            "tags": null
          },
          "name": "stdout",
          "output_type": "stream",
          "text": [
            "Epoch [29/300] Loss: 2.6585\n"
          ]
        },
        {
          "metadata": {
            "tags": null
          },
          "name": "stderr",
          "output_type": "stream",
          "text": [
            "Epoch 30 Progress: 100%|██████████| 216/216 [01:57<00:00,  1.84it/s]\n"
          ]
        },
        {
          "metadata": {
            "tags": null
          },
          "name": "stdout",
          "output_type": "stream",
          "text": [
            "Epoch [30/300] Loss: 2.6465\n"
          ]
        },
        {
          "metadata": {
            "tags": null
          },
          "name": "stderr",
          "output_type": "stream",
          "text": [
            "Epoch 31 Progress: 100%|██████████| 216/216 [01:57<00:00,  1.84it/s]\n"
          ]
        },
        {
          "metadata": {
            "tags": null
          },
          "name": "stdout",
          "output_type": "stream",
          "text": [
            "Epoch [31/300] Loss: 2.6318\n"
          ]
        },
        {
          "metadata": {
            "tags": null
          },
          "name": "stderr",
          "output_type": "stream",
          "text": [
            "Epoch 32 Progress: 100%|██████████| 216/216 [01:58<00:00,  1.82it/s]\n"
          ]
        },
        {
          "metadata": {
            "tags": null
          },
          "name": "stdout",
          "output_type": "stream",
          "text": [
            "Epoch [32/300] Loss: 2.6202\n"
          ]
        },
        {
          "metadata": {
            "tags": null
          },
          "name": "stderr",
          "output_type": "stream",
          "text": [
            "Epoch 33 Progress: 100%|██████████| 216/216 [01:57<00:00,  1.84it/s]\n"
          ]
        },
        {
          "metadata": {
            "tags": null
          },
          "name": "stdout",
          "output_type": "stream",
          "text": [
            "Epoch [33/300] Loss: 2.6084\n"
          ]
        },
        {
          "metadata": {
            "tags": null
          },
          "name": "stderr",
          "output_type": "stream",
          "text": [
            "Epoch 34 Progress: 100%|██████████| 216/216 [01:57<00:00,  1.84it/s]\n"
          ]
        },
        {
          "metadata": {
            "tags": null
          },
          "name": "stdout",
          "output_type": "stream",
          "text": [
            "Epoch [34/300] Loss: 2.5924\n"
          ]
        },
        {
          "metadata": {
            "tags": null
          },
          "name": "stderr",
          "output_type": "stream",
          "text": [
            "Epoch 35 Progress: 100%|██████████| 216/216 [01:57<00:00,  1.84it/s]\n"
          ]
        },
        {
          "metadata": {
            "tags": null
          },
          "name": "stdout",
          "output_type": "stream",
          "text": [
            "Epoch [35/300] Loss: 2.5822\n"
          ]
        },
        {
          "metadata": {
            "tags": null
          },
          "name": "stderr",
          "output_type": "stream",
          "text": [
            "Epoch 36 Progress: 100%|██████████| 216/216 [01:57<00:00,  1.84it/s]\n"
          ]
        },
        {
          "metadata": {
            "tags": null
          },
          "name": "stdout",
          "output_type": "stream",
          "text": [
            "Epoch [36/300] Loss: 2.5724\n"
          ]
        },
        {
          "metadata": {
            "tags": null
          },
          "name": "stderr",
          "output_type": "stream",
          "text": [
            "Epoch 37 Progress: 100%|██████████| 216/216 [01:57<00:00,  1.84it/s]\n"
          ]
        },
        {
          "metadata": {
            "tags": null
          },
          "name": "stdout",
          "output_type": "stream",
          "text": [
            "Epoch [37/300] Loss: 2.5614\n"
          ]
        },
        {
          "metadata": {
            "tags": null
          },
          "name": "stderr",
          "output_type": "stream",
          "text": [
            "Epoch 38 Progress: 100%|██████████| 216/216 [01:58<00:00,  1.82it/s]\n"
          ]
        },
        {
          "metadata": {
            "tags": null
          },
          "name": "stdout",
          "output_type": "stream",
          "text": [
            "Epoch [38/300] Loss: 2.5478\n"
          ]
        },
        {
          "metadata": {
            "tags": null
          },
          "name": "stderr",
          "output_type": "stream",
          "text": [
            "Epoch 39 Progress: 100%|██████████| 216/216 [01:57<00:00,  1.83it/s]\n"
          ]
        },
        {
          "metadata": {
            "tags": null
          },
          "name": "stdout",
          "output_type": "stream",
          "text": [
            "Epoch [39/300] Loss: 2.5398\n"
          ]
        },
        {
          "metadata": {
            "tags": null
          },
          "name": "stderr",
          "output_type": "stream",
          "text": [
            "Epoch 40 Progress: 100%|██████████| 216/216 [01:57<00:00,  1.84it/s]\n"
          ]
        },
        {
          "metadata": {
            "tags": null
          },
          "name": "stdout",
          "output_type": "stream",
          "text": [
            "Epoch [40/300] Loss: 2.5279\n",
            "Model saved to /content/drive/Shareddrives/cxraide/ssd300_vgg16/VERSION_3/EXPORT/model_v1/model_epoch_40.pth\n",
            "Loss Details for Epoch 40:\n",
            "  ● Classification Loss: 2.43361463\n",
            "  ● Localization Loss: 0.09433234\n",
            "  ● Total Loss: 2.52794697\n"
          ]
        },
        {
          "metadata": {
            "tags": null
          },
          "name": "stderr",
          "output_type": "stream",
          "text": [
            "Validation Epoch 40: 100%|██████████| 3515/3515 [01:49<00:00, 32.19it/s]\n"
          ]
        },
        {
          "metadata": {
            "tags": null
          },
          "name": "stdout",
          "output_type": "stream",
          "text": [
            "Average Precision (AP) for Epoch 40:\n",
            "  - mAP: 0.2175\n",
            "  - mAP@0.50: 0.2705\n",
            "  - mAP@0.75: 0.2458\n",
            "  - mAP (small): 0.0947\n",
            "  - mAP (medium): 0.2483\n",
            "  - mAP (large): 0.3127\n",
            "Average Recall (AR) for Epoch 40:\n",
            "  - AR@1: 0.7012\n",
            "  - AR@10: 0.7438\n",
            "  - AR@100: 0.7538\n",
            "  - AR (small): 0.4916\n",
            "  - AR (medium): 0.8171\n",
            "  - AR (large): 0.8531\n",
            "Per-Class mAP for Epoch 40:\n",
            "  - Class 1: 0.3035\n",
            "  - Class 2: 0.1673\n",
            "  - Class 3: 0.2067\n",
            "  - Class 4: 0.2184\n",
            "  - Class 5: 0.1429\n",
            "  - Class 6: 0.2665\n",
            "Per-Class AR (at 100 detections) for Epoch 40:\n",
            "  - Class 1: 0.8704\n",
            "  - Class 2: 0.7243\n",
            "  - Class 3: 0.7478\n",
            "  - Class 4: 0.7858\n",
            "  - Class 5: 0.5598\n",
            "  - Class 6: 0.8345\n"
          ]
        },
        {
          "metadata": {
            "tags": null
          },
          "name": "stderr",
          "output_type": "stream",
          "text": [
            "Epoch 41 Progress: 100%|██████████| 216/216 [01:57<00:00,  1.83it/s]\n"
          ]
        },
        {
          "metadata": {
            "tags": null
          },
          "name": "stdout",
          "output_type": "stream",
          "text": [
            "Epoch [41/300] Loss: 2.5166\n"
          ]
        },
        {
          "metadata": {
            "tags": null
          },
          "name": "stderr",
          "output_type": "stream",
          "text": [
            "Epoch 42 Progress: 100%|██████████| 216/216 [01:57<00:00,  1.83it/s]\n"
          ]
        },
        {
          "metadata": {
            "tags": null
          },
          "name": "stdout",
          "output_type": "stream",
          "text": [
            "Epoch [42/300] Loss: 2.5108\n"
          ]
        },
        {
          "metadata": {
            "tags": null
          },
          "name": "stderr",
          "output_type": "stream",
          "text": [
            "Epoch 43 Progress: 100%|██████████| 216/216 [01:57<00:00,  1.84it/s]\n"
          ]
        },
        {
          "metadata": {
            "tags": null
          },
          "name": "stdout",
          "output_type": "stream",
          "text": [
            "Epoch [43/300] Loss: 2.5026\n"
          ]
        },
        {
          "metadata": {
            "tags": null
          },
          "name": "stderr",
          "output_type": "stream",
          "text": [
            "Epoch 44 Progress: 100%|██████████| 216/216 [01:57<00:00,  1.83it/s]\n"
          ]
        },
        {
          "metadata": {
            "tags": null
          },
          "name": "stdout",
          "output_type": "stream",
          "text": [
            "Epoch [44/300] Loss: 2.4886\n"
          ]
        },
        {
          "metadata": {
            "tags": null
          },
          "name": "stderr",
          "output_type": "stream",
          "text": [
            "Epoch 45 Progress: 100%|██████████| 216/216 [01:57<00:00,  1.83it/s]\n"
          ]
        },
        {
          "metadata": {
            "tags": null
          },
          "name": "stdout",
          "output_type": "stream",
          "text": [
            "Epoch [45/300] Loss: 2.4852\n"
          ]
        },
        {
          "metadata": {
            "tags": null
          },
          "name": "stderr",
          "output_type": "stream",
          "text": [
            "Epoch 46 Progress: 100%|██████████| 216/216 [01:57<00:00,  1.84it/s]\n"
          ]
        },
        {
          "metadata": {
            "tags": null
          },
          "name": "stdout",
          "output_type": "stream",
          "text": [
            "Epoch [46/300] Loss: 2.4731\n"
          ]
        },
        {
          "metadata": {
            "tags": null
          },
          "name": "stderr",
          "output_type": "stream",
          "text": [
            "Epoch 47 Progress: 100%|██████████| 216/216 [01:57<00:00,  1.84it/s]\n"
          ]
        },
        {
          "metadata": {
            "tags": null
          },
          "name": "stdout",
          "output_type": "stream",
          "text": [
            "Epoch [47/300] Loss: 2.4655\n"
          ]
        },
        {
          "metadata": {
            "tags": null
          },
          "name": "stderr",
          "output_type": "stream",
          "text": [
            "Epoch 48 Progress: 100%|██████████| 216/216 [01:58<00:00,  1.82it/s]\n"
          ]
        },
        {
          "metadata": {
            "tags": null
          },
          "name": "stdout",
          "output_type": "stream",
          "text": [
            "Epoch [48/300] Loss: 2.4572\n"
          ]
        },
        {
          "metadata": {
            "tags": null
          },
          "name": "stderr",
          "output_type": "stream",
          "text": [
            "Epoch 49 Progress: 100%|██████████| 216/216 [01:58<00:00,  1.83it/s]\n"
          ]
        },
        {
          "metadata": {
            "tags": null
          },
          "name": "stdout",
          "output_type": "stream",
          "text": [
            "Epoch [49/300] Loss: 2.4502\n"
          ]
        },
        {
          "metadata": {
            "tags": null
          },
          "name": "stderr",
          "output_type": "stream",
          "text": [
            "Epoch 50 Progress: 100%|██████████| 216/216 [01:58<00:00,  1.82it/s]\n"
          ]
        },
        {
          "metadata": {
            "tags": null
          },
          "name": "stdout",
          "output_type": "stream",
          "text": [
            "Epoch [50/300] Loss: 2.4423\n"
          ]
        },
        {
          "metadata": {
            "tags": null
          },
          "name": "stderr",
          "output_type": "stream",
          "text": [
            "Epoch 51 Progress: 100%|██████████| 216/216 [01:58<00:00,  1.83it/s]\n"
          ]
        },
        {
          "metadata": {
            "tags": null
          },
          "name": "stdout",
          "output_type": "stream",
          "text": [
            "Epoch [51/300] Loss: 2.4360\n"
          ]
        },
        {
          "metadata": {
            "tags": null
          },
          "name": "stderr",
          "output_type": "stream",
          "text": [
            "Epoch 52 Progress: 100%|██████████| 216/216 [01:59<00:00,  1.81it/s]\n"
          ]
        },
        {
          "metadata": {
            "tags": null
          },
          "name": "stdout",
          "output_type": "stream",
          "text": [
            "Epoch [52/300] Loss: 2.4278\n"
          ]
        },
        {
          "metadata": {
            "tags": null
          },
          "name": "stderr",
          "output_type": "stream",
          "text": [
            "Epoch 53 Progress: 100%|██████████| 216/216 [01:58<00:00,  1.82it/s]\n"
          ]
        },
        {
          "metadata": {
            "tags": null
          },
          "name": "stdout",
          "output_type": "stream",
          "text": [
            "Epoch [53/300] Loss: 2.4196\n"
          ]
        },
        {
          "metadata": {
            "tags": null
          },
          "name": "stderr",
          "output_type": "stream",
          "text": [
            "Epoch 54 Progress: 100%|██████████| 216/216 [01:58<00:00,  1.82it/s]\n"
          ]
        },
        {
          "metadata": {
            "tags": null
          },
          "name": "stdout",
          "output_type": "stream",
          "text": [
            "Epoch [54/300] Loss: 2.4118\n"
          ]
        },
        {
          "metadata": {
            "tags": null
          },
          "name": "stderr",
          "output_type": "stream",
          "text": [
            "Epoch 55 Progress: 100%|██████████| 216/216 [01:59<00:00,  1.81it/s]\n"
          ]
        },
        {
          "metadata": {
            "tags": null
          },
          "name": "stdout",
          "output_type": "stream",
          "text": [
            "Epoch [55/300] Loss: 2.4072\n"
          ]
        },
        {
          "metadata": {
            "tags": null
          },
          "name": "stderr",
          "output_type": "stream",
          "text": [
            "Epoch 56 Progress: 100%|██████████| 216/216 [01:58<00:00,  1.82it/s]\n"
          ]
        },
        {
          "metadata": {
            "tags": null
          },
          "name": "stdout",
          "output_type": "stream",
          "text": [
            "Epoch [56/300] Loss: 2.4007\n"
          ]
        },
        {
          "metadata": {
            "tags": null
          },
          "name": "stderr",
          "output_type": "stream",
          "text": [
            "Epoch 57 Progress: 100%|██████████| 216/216 [01:59<00:00,  1.81it/s]\n"
          ]
        },
        {
          "metadata": {
            "tags": null
          },
          "name": "stdout",
          "output_type": "stream",
          "text": [
            "Epoch [57/300] Loss: 2.3920\n"
          ]
        },
        {
          "metadata": {
            "tags": null
          },
          "name": "stderr",
          "output_type": "stream",
          "text": [
            "Epoch 58 Progress: 100%|██████████| 216/216 [01:58<00:00,  1.82it/s]\n"
          ]
        },
        {
          "metadata": {
            "tags": null
          },
          "name": "stdout",
          "output_type": "stream",
          "text": [
            "Epoch [58/300] Loss: 2.3879\n"
          ]
        },
        {
          "metadata": {
            "tags": null
          },
          "name": "stderr",
          "output_type": "stream",
          "text": [
            "Epoch 59 Progress: 100%|██████████| 216/216 [01:58<00:00,  1.82it/s]\n"
          ]
        },
        {
          "metadata": {
            "tags": null
          },
          "name": "stdout",
          "output_type": "stream",
          "text": [
            "Epoch [59/300] Loss: 2.3797\n"
          ]
        },
        {
          "metadata": {
            "tags": null
          },
          "name": "stderr",
          "output_type": "stream",
          "text": [
            "Epoch 60 Progress: 100%|██████████| 216/216 [01:58<00:00,  1.82it/s]\n"
          ]
        },
        {
          "metadata": {
            "tags": null
          },
          "name": "stdout",
          "output_type": "stream",
          "text": [
            "Epoch [60/300] Loss: 2.3739\n",
            "Model saved to /content/drive/Shareddrives/cxraide/ssd300_vgg16/VERSION_3/EXPORT/model_v1/model_epoch_60.pth\n",
            "Loss Details for Epoch 60:\n",
            "  ● Classification Loss: 2.29901415\n",
            "  ● Localization Loss: 0.07484412\n",
            "  ● Total Loss: 2.37385826\n"
          ]
        },
        {
          "metadata": {
            "tags": null
          },
          "name": "stderr",
          "output_type": "stream",
          "text": [
            "Validation Epoch 60: 100%|██████████| 3515/3515 [01:50<00:00, 31.79it/s]\n"
          ]
        },
        {
          "metadata": {
            "tags": null
          },
          "name": "stdout",
          "output_type": "stream",
          "text": [
            "Average Precision (AP) for Epoch 60:\n",
            "  - mAP: 0.2471\n",
            "  - mAP@0.50: 0.2993\n",
            "  - mAP@0.75: 0.2753\n",
            "  - mAP (small): 0.1346\n",
            "  - mAP (medium): 0.2638\n",
            "  - mAP (large): 0.3281\n",
            "Average Recall (AR) for Epoch 60:\n",
            "  - AR@1: 0.7752\n",
            "  - AR@10: 0.8016\n",
            "  - AR@100: 0.8072\n",
            "  - AR (small): 0.5900\n",
            "  - AR (medium): 0.8472\n",
            "  - AR (large): 0.8765\n",
            "Per-Class mAP for Epoch 60:\n",
            "  - Class 1: 0.3110\n",
            "  - Class 2: 0.2124\n",
            "  - Class 3: 0.2408\n",
            "  - Class 4: 0.2517\n",
            "  - Class 5: 0.1809\n",
            "  - Class 6: 0.2859\n",
            "Per-Class AR (at 100 detections) for Epoch 60:\n",
            "  - Class 1: 0.8849\n",
            "  - Class 2: 0.7963\n",
            "  - Class 3: 0.8101\n",
            "  - Class 4: 0.8333\n",
            "  - Class 5: 0.6529\n",
            "  - Class 6: 0.8660\n"
          ]
        },
        {
          "metadata": {
            "tags": null
          },
          "name": "stderr",
          "output_type": "stream",
          "text": [
            "Epoch 61 Progress: 100%|██████████| 216/216 [01:59<00:00,  1.81it/s]\n"
          ]
        },
        {
          "metadata": {
            "tags": null
          },
          "name": "stdout",
          "output_type": "stream",
          "text": [
            "Epoch [61/300] Loss: 2.3641\n"
          ]
        },
        {
          "metadata": {
            "tags": null
          },
          "name": "stderr",
          "output_type": "stream",
          "text": [
            "Epoch 62 Progress: 100%|██████████| 216/216 [01:58<00:00,  1.82it/s]\n"
          ]
        },
        {
          "metadata": {
            "tags": null
          },
          "name": "stdout",
          "output_type": "stream",
          "text": [
            "Epoch [62/300] Loss: 2.3618\n"
          ]
        },
        {
          "metadata": {
            "tags": null
          },
          "name": "stderr",
          "output_type": "stream",
          "text": [
            "Epoch 63 Progress: 100%|██████████| 216/216 [01:57<00:00,  1.83it/s]\n"
          ]
        },
        {
          "metadata": {
            "tags": null
          },
          "name": "stdout",
          "output_type": "stream",
          "text": [
            "Epoch [63/300] Loss: 2.3562\n"
          ]
        },
        {
          "metadata": {
            "tags": null
          },
          "name": "stderr",
          "output_type": "stream",
          "text": [
            "Epoch 64 Progress: 100%|██████████| 216/216 [01:58<00:00,  1.82it/s]\n"
          ]
        },
        {
          "metadata": {
            "tags": null
          },
          "name": "stdout",
          "output_type": "stream",
          "text": [
            "Epoch [64/300] Loss: 2.3498\n"
          ]
        },
        {
          "metadata": {
            "tags": null
          },
          "name": "stderr",
          "output_type": "stream",
          "text": [
            "Epoch 65 Progress: 100%|██████████| 216/216 [01:58<00:00,  1.82it/s]\n"
          ]
        },
        {
          "metadata": {
            "tags": null
          },
          "name": "stdout",
          "output_type": "stream",
          "text": [
            "Epoch [65/300] Loss: 2.3424\n"
          ]
        },
        {
          "metadata": {
            "tags": null
          },
          "name": "stderr",
          "output_type": "stream",
          "text": [
            "Epoch 66 Progress: 100%|██████████| 216/216 [01:58<00:00,  1.82it/s]\n"
          ]
        },
        {
          "metadata": {
            "tags": null
          },
          "name": "stdout",
          "output_type": "stream",
          "text": [
            "Epoch [66/300] Loss: 2.3372\n"
          ]
        },
        {
          "metadata": {
            "tags": null
          },
          "name": "stderr",
          "output_type": "stream",
          "text": [
            "Epoch 67 Progress: 100%|██████████| 216/216 [01:59<00:00,  1.81it/s]\n"
          ]
        },
        {
          "metadata": {
            "tags": null
          },
          "name": "stdout",
          "output_type": "stream",
          "text": [
            "Epoch [67/300] Loss: 2.3311\n"
          ]
        },
        {
          "metadata": {
            "tags": null
          },
          "name": "stderr",
          "output_type": "stream",
          "text": [
            "Epoch 68 Progress: 100%|██████████| 216/216 [01:59<00:00,  1.81it/s]\n"
          ]
        },
        {
          "metadata": {
            "tags": null
          },
          "name": "stdout",
          "output_type": "stream",
          "text": [
            "Epoch [68/300] Loss: 2.3275\n"
          ]
        },
        {
          "metadata": {
            "tags": null
          },
          "name": "stderr",
          "output_type": "stream",
          "text": [
            "Epoch 69 Progress: 100%|██████████| 216/216 [01:59<00:00,  1.81it/s]\n"
          ]
        },
        {
          "metadata": {
            "tags": null
          },
          "name": "stdout",
          "output_type": "stream",
          "text": [
            "Epoch [69/300] Loss: 2.3216\n"
          ]
        },
        {
          "metadata": {
            "tags": null
          },
          "name": "stderr",
          "output_type": "stream",
          "text": [
            "Epoch 70 Progress: 100%|██████████| 216/216 [01:58<00:00,  1.82it/s]\n"
          ]
        },
        {
          "metadata": {
            "tags": null
          },
          "name": "stdout",
          "output_type": "stream",
          "text": [
            "Epoch [70/300] Loss: 2.3172\n"
          ]
        },
        {
          "metadata": {
            "tags": null
          },
          "name": "stderr",
          "output_type": "stream",
          "text": [
            "Epoch 71 Progress: 100%|██████████| 216/216 [01:58<00:00,  1.82it/s]\n"
          ]
        },
        {
          "metadata": {
            "tags": null
          },
          "name": "stdout",
          "output_type": "stream",
          "text": [
            "Epoch [71/300] Loss: 2.3110\n"
          ]
        },
        {
          "metadata": {
            "tags": null
          },
          "name": "stderr",
          "output_type": "stream",
          "text": [
            "Epoch 72 Progress: 100%|██████████| 216/216 [01:58<00:00,  1.82it/s]\n"
          ]
        },
        {
          "metadata": {
            "tags": null
          },
          "name": "stdout",
          "output_type": "stream",
          "text": [
            "Epoch [72/300] Loss: 2.3062\n"
          ]
        },
        {
          "metadata": {
            "tags": null
          },
          "name": "stderr",
          "output_type": "stream",
          "text": [
            "Epoch 73 Progress: 100%|██████████| 216/216 [01:58<00:00,  1.82it/s]\n"
          ]
        },
        {
          "metadata": {
            "tags": null
          },
          "name": "stdout",
          "output_type": "stream",
          "text": [
            "Epoch [73/300] Loss: 2.3023\n"
          ]
        },
        {
          "metadata": {
            "tags": null
          },
          "name": "stderr",
          "output_type": "stream",
          "text": [
            "Epoch 74 Progress: 100%|██████████| 216/216 [01:58<00:00,  1.82it/s]\n"
          ]
        },
        {
          "metadata": {
            "tags": null
          },
          "name": "stdout",
          "output_type": "stream",
          "text": [
            "Epoch [74/300] Loss: 2.2985\n"
          ]
        },
        {
          "metadata": {
            "tags": null
          },
          "name": "stderr",
          "output_type": "stream",
          "text": [
            "Epoch 75 Progress: 100%|██████████| 216/216 [01:59<00:00,  1.81it/s]\n"
          ]
        },
        {
          "metadata": {
            "tags": null
          },
          "name": "stdout",
          "output_type": "stream",
          "text": [
            "Epoch [75/300] Loss: 2.2940\n"
          ]
        },
        {
          "metadata": {
            "tags": null
          },
          "name": "stderr",
          "output_type": "stream",
          "text": [
            "Epoch 76 Progress: 100%|██████████| 216/216 [01:59<00:00,  1.81it/s]\n"
          ]
        },
        {
          "metadata": {
            "tags": null
          },
          "name": "stdout",
          "output_type": "stream",
          "text": [
            "Epoch [76/300] Loss: 2.2861\n"
          ]
        },
        {
          "metadata": {
            "tags": null
          },
          "name": "stderr",
          "output_type": "stream",
          "text": [
            "Epoch 77 Progress: 100%|██████████| 216/216 [01:59<00:00,  1.81it/s]\n"
          ]
        },
        {
          "metadata": {
            "tags": null
          },
          "name": "stdout",
          "output_type": "stream",
          "text": [
            "Epoch [77/300] Loss: 2.2804\n"
          ]
        },
        {
          "metadata": {
            "tags": null
          },
          "name": "stderr",
          "output_type": "stream",
          "text": [
            "Epoch 78 Progress: 100%|██████████| 216/216 [01:59<00:00,  1.81it/s]\n"
          ]
        },
        {
          "metadata": {
            "tags": null
          },
          "name": "stdout",
          "output_type": "stream",
          "text": [
            "Epoch [78/300] Loss: 2.2793\n"
          ]
        },
        {
          "metadata": {
            "tags": null
          },
          "name": "stderr",
          "output_type": "stream",
          "text": [
            "Epoch 79 Progress: 100%|██████████| 216/216 [01:58<00:00,  1.82it/s]\n"
          ]
        },
        {
          "metadata": {
            "tags": null
          },
          "name": "stdout",
          "output_type": "stream",
          "text": [
            "Epoch [79/300] Loss: 2.2738\n"
          ]
        },
        {
          "metadata": {
            "tags": null
          },
          "name": "stderr",
          "output_type": "stream",
          "text": [
            "Epoch 80 Progress: 100%|██████████| 216/216 [01:59<00:00,  1.81it/s]\n"
          ]
        },
        {
          "metadata": {
            "tags": null
          },
          "name": "stdout",
          "output_type": "stream",
          "text": [
            "Epoch [80/300] Loss: 2.2689\n",
            "Model saved to /content/drive/Shareddrives/cxraide/ssd300_vgg16/VERSION_3/EXPORT/model_v1/model_epoch_80.pth\n",
            "Loss Details for Epoch 80:\n",
            "  ● Classification Loss: 2.20443226\n",
            "  ● Localization Loss: 0.06445442\n",
            "  ● Total Loss: 2.26888668\n"
          ]
        },
        {
          "metadata": {
            "tags": null
          },
          "name": "stderr",
          "output_type": "stream",
          "text": [
            "Validation Epoch 80: 100%|██████████| 3515/3515 [01:51<00:00, 31.51it/s]\n"
          ]
        },
        {
          "metadata": {
            "tags": null
          },
          "name": "stdout",
          "output_type": "stream",
          "text": [
            "Average Precision (AP) for Epoch 80:\n",
            "  - mAP: 0.2657\n",
            "  - mAP@0.50: 0.3167\n",
            "  - mAP@0.75: 0.2957\n",
            "  - mAP (small): 0.1590\n",
            "  - mAP (medium): 0.2796\n",
            "  - mAP (large): 0.3295\n",
            "Average Recall (AR) for Epoch 80:\n",
            "  - AR@1: 0.8145\n",
            "  - AR@10: 0.8297\n",
            "  - AR@100: 0.8325\n",
            "  - AR (small): 0.6255\n",
            "  - AR (medium): 0.8623\n",
            "  - AR (large): 0.8798\n",
            "Per-Class mAP for Epoch 80:\n",
            "  - Class 1: 0.3225\n",
            "  - Class 2: 0.2434\n",
            "  - Class 3: 0.2610\n",
            "  - Class 4: 0.2645\n",
            "  - Class 5: 0.2062\n",
            "  - Class 6: 0.2965\n",
            "Per-Class AR (at 100 detections) for Epoch 80:\n",
            "  - Class 1: 0.8971\n",
            "  - Class 2: 0.8242\n",
            "  - Class 3: 0.8341\n",
            "  - Class 4: 0.8480\n",
            "  - Class 5: 0.7167\n",
            "  - Class 6: 0.8751\n"
          ]
        },
        {
          "metadata": {
            "tags": null
          },
          "name": "stderr",
          "output_type": "stream",
          "text": [
            "Epoch 81 Progress: 100%|██████████| 216/216 [01:58<00:00,  1.83it/s]\n"
          ]
        },
        {
          "metadata": {
            "tags": null
          },
          "name": "stdout",
          "output_type": "stream",
          "text": [
            "Epoch [81/300] Loss: 2.2660\n"
          ]
        },
        {
          "metadata": {
            "tags": null
          },
          "name": "stderr",
          "output_type": "stream",
          "text": [
            "Epoch 82 Progress: 100%|██████████| 216/216 [01:58<00:00,  1.83it/s]\n"
          ]
        },
        {
          "metadata": {
            "tags": null
          },
          "name": "stdout",
          "output_type": "stream",
          "text": [
            "Epoch [82/300] Loss: 2.2634\n"
          ]
        },
        {
          "metadata": {
            "tags": null
          },
          "name": "stderr",
          "output_type": "stream",
          "text": [
            "Epoch 83 Progress: 100%|██████████| 216/216 [01:58<00:00,  1.82it/s]\n"
          ]
        },
        {
          "metadata": {
            "tags": null
          },
          "name": "stdout",
          "output_type": "stream",
          "text": [
            "Epoch [83/300] Loss: 2.2583\n"
          ]
        },
        {
          "metadata": {
            "tags": null
          },
          "name": "stderr",
          "output_type": "stream",
          "text": [
            "Epoch 84 Progress: 100%|██████████| 216/216 [01:58<00:00,  1.82it/s]\n"
          ]
        },
        {
          "metadata": {
            "tags": null
          },
          "name": "stdout",
          "output_type": "stream",
          "text": [
            "Epoch [84/300] Loss: 2.2531\n"
          ]
        },
        {
          "metadata": {
            "tags": null
          },
          "name": "stderr",
          "output_type": "stream",
          "text": [
            "Epoch 85 Progress: 100%|██████████| 216/216 [01:58<00:00,  1.82it/s]\n"
          ]
        },
        {
          "metadata": {
            "tags": null
          },
          "name": "stdout",
          "output_type": "stream",
          "text": [
            "Epoch [85/300] Loss: 2.2526\n"
          ]
        },
        {
          "metadata": {
            "tags": null
          },
          "name": "stderr",
          "output_type": "stream",
          "text": [
            "Epoch 86 Progress: 100%|██████████| 216/216 [01:58<00:00,  1.83it/s]\n"
          ]
        },
        {
          "metadata": {
            "tags": null
          },
          "name": "stdout",
          "output_type": "stream",
          "text": [
            "Epoch [86/300] Loss: 2.2466\n"
          ]
        },
        {
          "metadata": {
            "tags": null
          },
          "name": "stderr",
          "output_type": "stream",
          "text": [
            "Epoch 87 Progress: 100%|██████████| 216/216 [01:58<00:00,  1.82it/s]\n"
          ]
        },
        {
          "metadata": {
            "tags": null
          },
          "name": "stdout",
          "output_type": "stream",
          "text": [
            "Epoch [87/300] Loss: 2.2393\n"
          ]
        },
        {
          "metadata": {
            "tags": null
          },
          "name": "stderr",
          "output_type": "stream",
          "text": [
            "Epoch 88 Progress: 100%|██████████| 216/216 [01:58<00:00,  1.82it/s]\n"
          ]
        },
        {
          "metadata": {
            "tags": null
          },
          "name": "stdout",
          "output_type": "stream",
          "text": [
            "Epoch [88/300] Loss: 2.2372\n"
          ]
        },
        {
          "metadata": {
            "tags": null
          },
          "name": "stderr",
          "output_type": "stream",
          "text": [
            "Epoch 89 Progress: 100%|██████████| 216/216 [01:59<00:00,  1.81it/s]\n"
          ]
        },
        {
          "metadata": {
            "tags": null
          },
          "name": "stdout",
          "output_type": "stream",
          "text": [
            "Epoch [89/300] Loss: 2.2342\n"
          ]
        },
        {
          "metadata": {
            "tags": null
          },
          "name": "stderr",
          "output_type": "stream",
          "text": [
            "Epoch 90 Progress: 100%|██████████| 216/216 [01:58<00:00,  1.82it/s]\n"
          ]
        },
        {
          "metadata": {
            "tags": null
          },
          "name": "stdout",
          "output_type": "stream",
          "text": [
            "Epoch [90/300] Loss: 2.2331\n"
          ]
        },
        {
          "metadata": {
            "tags": null
          },
          "name": "stderr",
          "output_type": "stream",
          "text": [
            "Epoch 91 Progress: 100%|██████████| 216/216 [01:58<00:00,  1.82it/s]\n"
          ]
        },
        {
          "metadata": {
            "tags": null
          },
          "name": "stdout",
          "output_type": "stream",
          "text": [
            "Epoch [91/300] Loss: 2.2288\n"
          ]
        },
        {
          "metadata": {
            "tags": null
          },
          "name": "stderr",
          "output_type": "stream",
          "text": [
            "Epoch 92 Progress: 100%|██████████| 216/216 [01:58<00:00,  1.82it/s]\n"
          ]
        },
        {
          "metadata": {
            "tags": null
          },
          "name": "stdout",
          "output_type": "stream",
          "text": [
            "Epoch [92/300] Loss: 2.2234\n"
          ]
        },
        {
          "metadata": {
            "tags": null
          },
          "name": "stderr",
          "output_type": "stream",
          "text": [
            "Epoch 93 Progress: 100%|██████████| 216/216 [01:58<00:00,  1.82it/s]\n"
          ]
        },
        {
          "metadata": {
            "tags": null
          },
          "name": "stdout",
          "output_type": "stream",
          "text": [
            "Epoch [93/300] Loss: 2.2220\n"
          ]
        },
        {
          "metadata": {
            "tags": null
          },
          "name": "stderr",
          "output_type": "stream",
          "text": [
            "Epoch 94 Progress: 100%|██████████| 216/216 [01:58<00:00,  1.82it/s]\n"
          ]
        },
        {
          "metadata": {
            "tags": null
          },
          "name": "stdout",
          "output_type": "stream",
          "text": [
            "Epoch [94/300] Loss: 2.2151\n"
          ]
        },
        {
          "metadata": {
            "tags": null
          },
          "name": "stderr",
          "output_type": "stream",
          "text": [
            "Epoch 95 Progress: 100%|██████████| 216/216 [01:58<00:00,  1.82it/s]\n"
          ]
        },
        {
          "metadata": {
            "tags": null
          },
          "name": "stdout",
          "output_type": "stream",
          "text": [
            "Epoch [95/300] Loss: 2.2153\n"
          ]
        },
        {
          "metadata": {
            "tags": null
          },
          "name": "stderr",
          "output_type": "stream",
          "text": [
            "Epoch 96 Progress: 100%|██████████| 216/216 [01:58<00:00,  1.83it/s]\n"
          ]
        },
        {
          "metadata": {
            "tags": null
          },
          "name": "stdout",
          "output_type": "stream",
          "text": [
            "Epoch [96/300] Loss: 2.2148\n"
          ]
        },
        {
          "metadata": {
            "tags": null
          },
          "name": "stderr",
          "output_type": "stream",
          "text": [
            "Epoch 97 Progress: 100%|██████████| 216/216 [01:58<00:00,  1.82it/s]\n"
          ]
        },
        {
          "metadata": {
            "tags": null
          },
          "name": "stdout",
          "output_type": "stream",
          "text": [
            "Epoch [97/300] Loss: 2.2102\n"
          ]
        },
        {
          "metadata": {
            "tags": null
          },
          "name": "stderr",
          "output_type": "stream",
          "text": [
            "Epoch 98 Progress: 100%|██████████| 216/216 [01:59<00:00,  1.81it/s]\n"
          ]
        },
        {
          "metadata": {
            "tags": null
          },
          "name": "stdout",
          "output_type": "stream",
          "text": [
            "Epoch [98/300] Loss: 2.2074\n"
          ]
        },
        {
          "metadata": {
            "tags": null
          },
          "name": "stderr",
          "output_type": "stream",
          "text": [
            "Epoch 99 Progress: 100%|██████████| 216/216 [01:58<00:00,  1.83it/s]\n"
          ]
        },
        {
          "metadata": {
            "tags": null
          },
          "name": "stdout",
          "output_type": "stream",
          "text": [
            "Epoch [99/300] Loss: 2.2025\n"
          ]
        },
        {
          "metadata": {
            "tags": null
          },
          "name": "stderr",
          "output_type": "stream",
          "text": [
            "Epoch 100 Progress: 100%|██████████| 216/216 [01:58<00:00,  1.82it/s]\n"
          ]
        },
        {
          "metadata": {
            "tags": null
          },
          "name": "stdout",
          "output_type": "stream",
          "text": [
            "Epoch [100/300] Loss: 2.1962\n",
            "Model saved to /content/drive/Shareddrives/cxraide/ssd300_vgg16/VERSION_3/EXPORT/model_v1/model_epoch_100.pth\n",
            "Loss Details for Epoch 100:\n",
            "  ● Classification Loss: 2.13695761\n",
            "  ● Localization Loss: 0.05926774\n",
            "  ● Total Loss: 2.19622535\n"
          ]
        },
        {
          "metadata": {
            "tags": null
          },
          "name": "stderr",
          "output_type": "stream",
          "text": [
            "Validation Epoch 100: 100%|██████████| 3515/3515 [01:50<00:00, 31.95it/s]\n"
          ]
        },
        {
          "metadata": {
            "tags": null
          },
          "name": "stdout",
          "output_type": "stream",
          "text": [
            "Average Precision (AP) for Epoch 100:\n",
            "  - mAP: 0.2779\n",
            "  - mAP@0.50: 0.3282\n",
            "  - mAP@0.75: 0.3054\n",
            "  - mAP (small): 0.3102\n",
            "  - mAP (medium): 0.2989\n",
            "  - mAP (large): 0.3320\n",
            "Average Recall (AR) for Epoch 100:\n",
            "  - AR@1: 0.8369\n",
            "  - AR@10: 0.8449\n",
            "  - AR@100: 0.8470\n",
            "  - AR (small): 0.7714\n",
            "  - AR (medium): 0.8716\n",
            "  - AR (large): 0.8858\n",
            "Per-Class mAP for Epoch 100:\n",
            "  - Class 1: 0.3436\n",
            "  - Class 2: 0.2637\n",
            "  - Class 3: 0.2740\n",
            "  - Class 4: 0.2702\n",
            "  - Class 5: 0.2198\n",
            "  - Class 6: 0.2959\n",
            "Per-Class AR (at 100 detections) for Epoch 100:\n",
            "  - Class 1: 0.9131\n",
            "  - Class 2: 0.8413\n",
            "  - Class 3: 0.8501\n",
            "  - Class 4: 0.8637\n",
            "  - Class 5: 0.7321\n",
            "  - Class 6: 0.8814\n"
          ]
        },
        {
          "metadata": {
            "tags": null
          },
          "name": "stderr",
          "output_type": "stream",
          "text": [
            "Epoch 101 Progress: 100%|██████████| 216/216 [01:58<00:00,  1.82it/s]\n"
          ]
        },
        {
          "metadata": {
            "tags": null
          },
          "name": "stdout",
          "output_type": "stream",
          "text": [
            "Epoch [101/300] Loss: 2.1967\n"
          ]
        },
        {
          "metadata": {
            "tags": null
          },
          "name": "stderr",
          "output_type": "stream",
          "text": [
            "Epoch 102 Progress: 100%|██████████| 216/216 [01:58<00:00,  1.82it/s]\n"
          ]
        },
        {
          "metadata": {
            "tags": null
          },
          "name": "stdout",
          "output_type": "stream",
          "text": [
            "Epoch [102/300] Loss: 2.1943\n"
          ]
        },
        {
          "metadata": {
            "tags": null
          },
          "name": "stderr",
          "output_type": "stream",
          "text": [
            "Epoch 103 Progress: 100%|██████████| 216/216 [01:58<00:00,  1.83it/s]\n"
          ]
        },
        {
          "metadata": {
            "tags": null
          },
          "name": "stdout",
          "output_type": "stream",
          "text": [
            "Epoch [103/300] Loss: 2.1886\n"
          ]
        },
        {
          "metadata": {
            "tags": null
          },
          "name": "stderr",
          "output_type": "stream",
          "text": [
            "Epoch 104 Progress: 100%|██████████| 216/216 [01:58<00:00,  1.82it/s]\n"
          ]
        },
        {
          "metadata": {
            "tags": null
          },
          "name": "stdout",
          "output_type": "stream",
          "text": [
            "Epoch [104/300] Loss: 2.1896\n"
          ]
        },
        {
          "metadata": {
            "tags": null
          },
          "name": "stderr",
          "output_type": "stream",
          "text": [
            "Epoch 105 Progress: 100%|██████████| 216/216 [01:58<00:00,  1.83it/s]\n"
          ]
        },
        {
          "metadata": {
            "tags": null
          },
          "name": "stdout",
          "output_type": "stream",
          "text": [
            "Epoch [105/300] Loss: 2.1821\n"
          ]
        },
        {
          "metadata": {
            "tags": null
          },
          "name": "stderr",
          "output_type": "stream",
          "text": [
            "Epoch 106 Progress: 100%|██████████| 216/216 [01:58<00:00,  1.82it/s]\n"
          ]
        },
        {
          "metadata": {
            "tags": null
          },
          "name": "stdout",
          "output_type": "stream",
          "text": [
            "Epoch [106/300] Loss: 2.1791\n"
          ]
        },
        {
          "metadata": {
            "tags": null
          },
          "name": "stderr",
          "output_type": "stream",
          "text": [
            "Epoch 107 Progress: 100%|██████████| 216/216 [01:58<00:00,  1.82it/s]\n"
          ]
        },
        {
          "metadata": {
            "tags": null
          },
          "name": "stdout",
          "output_type": "stream",
          "text": [
            "Epoch [107/300] Loss: 2.1773\n"
          ]
        },
        {
          "metadata": {
            "tags": null
          },
          "name": "stderr",
          "output_type": "stream",
          "text": [
            "Epoch 108 Progress: 100%|██████████| 216/216 [01:57<00:00,  1.83it/s]\n"
          ]
        },
        {
          "metadata": {
            "tags": null
          },
          "name": "stdout",
          "output_type": "stream",
          "text": [
            "Epoch [108/300] Loss: 2.1782\n"
          ]
        },
        {
          "metadata": {
            "tags": null
          },
          "name": "stderr",
          "output_type": "stream",
          "text": [
            "Epoch 109 Progress: 100%|██████████| 216/216 [01:58<00:00,  1.82it/s]\n"
          ]
        },
        {
          "metadata": {
            "tags": null
          },
          "name": "stdout",
          "output_type": "stream",
          "text": [
            "Epoch [109/300] Loss: 2.1735\n"
          ]
        },
        {
          "metadata": {
            "tags": null
          },
          "name": "stderr",
          "output_type": "stream",
          "text": [
            "Epoch 110 Progress: 100%|██████████| 216/216 [01:58<00:00,  1.82it/s]\n"
          ]
        },
        {
          "metadata": {
            "tags": null
          },
          "name": "stdout",
          "output_type": "stream",
          "text": [
            "Epoch [110/300] Loss: 2.1696\n"
          ]
        },
        {
          "metadata": {
            "tags": null
          },
          "name": "stderr",
          "output_type": "stream",
          "text": [
            "Epoch 111 Progress: 100%|██████████| 216/216 [01:58<00:00,  1.82it/s]\n"
          ]
        },
        {
          "metadata": {
            "tags": null
          },
          "name": "stdout",
          "output_type": "stream",
          "text": [
            "Epoch [111/300] Loss: 2.1693\n"
          ]
        },
        {
          "metadata": {
            "tags": null
          },
          "name": "stderr",
          "output_type": "stream",
          "text": [
            "Epoch 112 Progress: 100%|██████████| 216/216 [01:58<00:00,  1.83it/s]\n"
          ]
        },
        {
          "metadata": {
            "tags": null
          },
          "name": "stdout",
          "output_type": "stream",
          "text": [
            "Epoch [112/300] Loss: 2.1678\n"
          ]
        },
        {
          "metadata": {
            "tags": null
          },
          "name": "stderr",
          "output_type": "stream",
          "text": [
            "Epoch 113 Progress: 100%|██████████| 216/216 [01:58<00:00,  1.82it/s]\n"
          ]
        },
        {
          "metadata": {
            "tags": null
          },
          "name": "stdout",
          "output_type": "stream",
          "text": [
            "Epoch [113/300] Loss: 2.1638\n"
          ]
        },
        {
          "metadata": {
            "tags": null
          },
          "name": "stderr",
          "output_type": "stream",
          "text": [
            "Epoch 114 Progress: 100%|██████████| 216/216 [01:58<00:00,  1.82it/s]\n"
          ]
        },
        {
          "metadata": {
            "tags": null
          },
          "name": "stdout",
          "output_type": "stream",
          "text": [
            "Epoch [114/300] Loss: 2.1622\n"
          ]
        },
        {
          "metadata": {
            "tags": null
          },
          "name": "stderr",
          "output_type": "stream",
          "text": [
            "Epoch 115 Progress: 100%|██████████| 216/216 [01:58<00:00,  1.82it/s]\n"
          ]
        },
        {
          "metadata": {
            "tags": null
          },
          "name": "stdout",
          "output_type": "stream",
          "text": [
            "Epoch [115/300] Loss: 2.1590\n"
          ]
        },
        {
          "metadata": {
            "tags": null
          },
          "name": "stderr",
          "output_type": "stream",
          "text": [
            "Epoch 116 Progress: 100%|██████████| 216/216 [01:58<00:00,  1.82it/s]\n"
          ]
        },
        {
          "metadata": {
            "tags": null
          },
          "name": "stdout",
          "output_type": "stream",
          "text": [
            "Epoch [116/300] Loss: 2.1578\n"
          ]
        },
        {
          "metadata": {
            "tags": null
          },
          "name": "stderr",
          "output_type": "stream",
          "text": [
            "Epoch 117 Progress: 100%|██████████| 216/216 [01:59<00:00,  1.81it/s]\n"
          ]
        },
        {
          "metadata": {
            "tags": null
          },
          "name": "stdout",
          "output_type": "stream",
          "text": [
            "Epoch [117/300] Loss: 2.1528\n"
          ]
        },
        {
          "metadata": {
            "tags": null
          },
          "name": "stderr",
          "output_type": "stream",
          "text": [
            "Epoch 118 Progress: 100%|██████████| 216/216 [01:58<00:00,  1.82it/s]\n"
          ]
        },
        {
          "metadata": {
            "tags": null
          },
          "name": "stdout",
          "output_type": "stream",
          "text": [
            "Epoch [118/300] Loss: 2.1513\n"
          ]
        },
        {
          "metadata": {
            "tags": null
          },
          "name": "stderr",
          "output_type": "stream",
          "text": [
            "Epoch 119 Progress: 100%|██████████| 216/216 [01:58<00:00,  1.82it/s]\n"
          ]
        },
        {
          "metadata": {
            "tags": null
          },
          "name": "stdout",
          "output_type": "stream",
          "text": [
            "Epoch [119/300] Loss: 2.1499\n"
          ]
        },
        {
          "metadata": {
            "tags": null
          },
          "name": "stderr",
          "output_type": "stream",
          "text": [
            "Epoch 120 Progress: 100%|██████████| 216/216 [01:57<00:00,  1.83it/s]\n"
          ]
        },
        {
          "metadata": {
            "tags": null
          },
          "name": "stdout",
          "output_type": "stream",
          "text": [
            "Epoch [120/300] Loss: 2.1479\n",
            "Model saved to /content/drive/Shareddrives/cxraide/ssd300_vgg16/VERSION_3/EXPORT/model_v1/model_epoch_120.pth\n",
            "Loss Details for Epoch 120:\n",
            "  ● Classification Loss: 2.09107238\n",
            "  ● Localization Loss: 0.05682079\n",
            "  ● Total Loss: 2.14789317\n"
          ]
        },
        {
          "metadata": {
            "tags": null
          },
          "name": "stderr",
          "output_type": "stream",
          "text": [
            "Validation Epoch 120: 100%|██████████| 3515/3515 [01:49<00:00, 32.16it/s]\n"
          ]
        },
        {
          "metadata": {
            "tags": null
          },
          "name": "stdout",
          "output_type": "stream",
          "text": [
            "Average Precision (AP) for Epoch 120:\n",
            "  - mAP: 0.2822\n",
            "  - mAP@0.50: 0.3307\n",
            "  - mAP@0.75: 0.3100\n",
            "  - mAP (small): 0.3438\n",
            "  - mAP (medium): 0.3059\n",
            "  - mAP (large): 0.3341\n",
            "Average Recall (AR) for Epoch 120:\n",
            "  - AR@1: 0.8479\n",
            "  - AR@10: 0.8534\n",
            "  - AR@100: 0.8540\n",
            "  - AR (small): 0.7961\n",
            "  - AR (medium): 0.8716\n",
            "  - AR (large): 0.8870\n",
            "Per-Class mAP for Epoch 120:\n",
            "  - Class 1: 0.3389\n",
            "  - Class 2: 0.2768\n",
            "  - Class 3: 0.2768\n",
            "  - Class 4: 0.2711\n",
            "  - Class 5: 0.2308\n",
            "  - Class 6: 0.2988\n",
            "Per-Class AR (at 100 detections) for Epoch 120:\n",
            "  - Class 1: 0.9146\n",
            "  - Class 2: 0.8532\n",
            "  - Class 3: 0.8526\n",
            "  - Class 4: 0.8687\n",
            "  - Class 5: 0.7540\n",
            "  - Class 6: 0.8808\n"
          ]
        },
        {
          "metadata": {
            "tags": null
          },
          "name": "stderr",
          "output_type": "stream",
          "text": [
            "Epoch 121 Progress: 100%|██████████| 216/216 [01:58<00:00,  1.82it/s]\n"
          ]
        },
        {
          "metadata": {
            "tags": null
          },
          "name": "stdout",
          "output_type": "stream",
          "text": [
            "Epoch [121/300] Loss: 2.1455\n"
          ]
        },
        {
          "metadata": {
            "tags": null
          },
          "name": "stderr",
          "output_type": "stream",
          "text": [
            "Epoch 122 Progress: 100%|██████████| 216/216 [01:57<00:00,  1.83it/s]\n"
          ]
        },
        {
          "metadata": {
            "tags": null
          },
          "name": "stdout",
          "output_type": "stream",
          "text": [
            "Epoch [122/300] Loss: 2.1431\n"
          ]
        },
        {
          "metadata": {
            "tags": null
          },
          "name": "stderr",
          "output_type": "stream",
          "text": [
            "Epoch 123 Progress: 100%|██████████| 216/216 [01:58<00:00,  1.82it/s]\n"
          ]
        },
        {
          "metadata": {
            "tags": null
          },
          "name": "stdout",
          "output_type": "stream",
          "text": [
            "Epoch [123/300] Loss: 2.1408\n"
          ]
        },
        {
          "metadata": {
            "tags": null
          },
          "name": "stderr",
          "output_type": "stream",
          "text": [
            "Epoch 124 Progress: 100%|██████████| 216/216 [01:58<00:00,  1.83it/s]\n"
          ]
        },
        {
          "metadata": {
            "tags": null
          },
          "name": "stdout",
          "output_type": "stream",
          "text": [
            "Epoch [124/300] Loss: 2.1419\n"
          ]
        },
        {
          "metadata": {
            "tags": null
          },
          "name": "stderr",
          "output_type": "stream",
          "text": [
            "Epoch 125 Progress: 100%|██████████| 216/216 [01:58<00:00,  1.82it/s]\n"
          ]
        },
        {
          "metadata": {
            "tags": null
          },
          "name": "stdout",
          "output_type": "stream",
          "text": [
            "Epoch [125/300] Loss: 2.1398\n"
          ]
        },
        {
          "metadata": {
            "tags": null
          },
          "name": "stderr",
          "output_type": "stream",
          "text": [
            "Epoch 126 Progress: 100%|██████████| 216/216 [01:58<00:00,  1.82it/s]\n"
          ]
        },
        {
          "metadata": {
            "tags": null
          },
          "name": "stdout",
          "output_type": "stream",
          "text": [
            "Epoch [126/300] Loss: 2.1362\n"
          ]
        },
        {
          "metadata": {
            "tags": null
          },
          "name": "stderr",
          "output_type": "stream",
          "text": [
            "Epoch 127 Progress: 100%|██████████| 216/216 [01:58<00:00,  1.82it/s]\n"
          ]
        },
        {
          "metadata": {
            "tags": null
          },
          "name": "stdout",
          "output_type": "stream",
          "text": [
            "Epoch [127/300] Loss: 2.1319\n"
          ]
        },
        {
          "metadata": {
            "tags": null
          },
          "name": "stderr",
          "output_type": "stream",
          "text": [
            "Epoch 128 Progress: 100%|██████████| 216/216 [01:58<00:00,  1.82it/s]\n"
          ]
        },
        {
          "metadata": {
            "tags": null
          },
          "name": "stdout",
          "output_type": "stream",
          "text": [
            "Epoch [128/300] Loss: 2.1305\n"
          ]
        },
        {
          "metadata": {
            "tags": null
          },
          "name": "stderr",
          "output_type": "stream",
          "text": [
            "Epoch 129 Progress: 100%|██████████| 216/216 [01:58<00:00,  1.82it/s]\n"
          ]
        },
        {
          "metadata": {
            "tags": null
          },
          "name": "stdout",
          "output_type": "stream",
          "text": [
            "Epoch [129/300] Loss: 2.1276\n"
          ]
        },
        {
          "metadata": {
            "tags": null
          },
          "name": "stderr",
          "output_type": "stream",
          "text": [
            "Epoch 130 Progress: 100%|██████████| 216/216 [01:58<00:00,  1.82it/s]\n"
          ]
        },
        {
          "metadata": {
            "tags": null
          },
          "name": "stdout",
          "output_type": "stream",
          "text": [
            "Epoch [130/300] Loss: 2.1266\n"
          ]
        },
        {
          "metadata": {
            "tags": null
          },
          "name": "stderr",
          "output_type": "stream",
          "text": [
            "Epoch 131 Progress: 100%|██████████| 216/216 [01:58<00:00,  1.82it/s]\n"
          ]
        },
        {
          "metadata": {
            "tags": null
          },
          "name": "stdout",
          "output_type": "stream",
          "text": [
            "Epoch [131/300] Loss: 2.1258\n"
          ]
        },
        {
          "metadata": {
            "tags": null
          },
          "name": "stderr",
          "output_type": "stream",
          "text": [
            "Epoch 132 Progress: 100%|██████████| 216/216 [01:58<00:00,  1.82it/s]\n"
          ]
        },
        {
          "metadata": {
            "tags": null
          },
          "name": "stdout",
          "output_type": "stream",
          "text": [
            "Epoch [132/300] Loss: 2.1238\n"
          ]
        },
        {
          "metadata": {
            "tags": null
          },
          "name": "stderr",
          "output_type": "stream",
          "text": [
            "Epoch 133 Progress: 100%|██████████| 216/216 [01:58<00:00,  1.83it/s]\n"
          ]
        },
        {
          "metadata": {
            "tags": null
          },
          "name": "stdout",
          "output_type": "stream",
          "text": [
            "Epoch [133/300] Loss: 2.1210\n"
          ]
        },
        {
          "metadata": {
            "tags": null
          },
          "name": "stderr",
          "output_type": "stream",
          "text": [
            "Epoch 134 Progress: 100%|██████████| 216/216 [01:58<00:00,  1.82it/s]\n"
          ]
        },
        {
          "metadata": {
            "tags": null
          },
          "name": "stdout",
          "output_type": "stream",
          "text": [
            "Epoch [134/300] Loss: 2.1211\n"
          ]
        },
        {
          "metadata": {
            "tags": null
          },
          "name": "stderr",
          "output_type": "stream",
          "text": [
            "Epoch 135 Progress: 100%|██████████| 216/216 [01:58<00:00,  1.82it/s]\n"
          ]
        },
        {
          "metadata": {
            "tags": null
          },
          "name": "stdout",
          "output_type": "stream",
          "text": [
            "Epoch [135/300] Loss: 2.1175\n"
          ]
        },
        {
          "metadata": {
            "tags": null
          },
          "name": "stderr",
          "output_type": "stream",
          "text": [
            "Epoch 136 Progress: 100%|██████████| 216/216 [01:58<00:00,  1.83it/s]\n"
          ]
        },
        {
          "metadata": {
            "tags": null
          },
          "name": "stdout",
          "output_type": "stream",
          "text": [
            "Epoch [136/300] Loss: 2.1182\n"
          ]
        },
        {
          "metadata": {
            "tags": null
          },
          "name": "stderr",
          "output_type": "stream",
          "text": [
            "Epoch 137 Progress: 100%|██████████| 216/216 [01:58<00:00,  1.82it/s]\n"
          ]
        },
        {
          "metadata": {
            "tags": null
          },
          "name": "stdout",
          "output_type": "stream",
          "text": [
            "Epoch [137/300] Loss: 2.1166\n"
          ]
        },
        {
          "metadata": {
            "tags": null
          },
          "name": "stderr",
          "output_type": "stream",
          "text": [
            "Epoch 138 Progress: 100%|██████████| 216/216 [01:57<00:00,  1.83it/s]\n"
          ]
        },
        {
          "metadata": {
            "tags": null
          },
          "name": "stdout",
          "output_type": "stream",
          "text": [
            "Epoch [138/300] Loss: 2.1112\n"
          ]
        },
        {
          "metadata": {
            "tags": null
          },
          "name": "stderr",
          "output_type": "stream",
          "text": [
            "Epoch 139 Progress: 100%|██████████| 216/216 [01:59<00:00,  1.81it/s]\n"
          ]
        },
        {
          "metadata": {
            "tags": null
          },
          "name": "stdout",
          "output_type": "stream",
          "text": [
            "Epoch [139/300] Loss: 2.1129\n"
          ]
        },
        {
          "metadata": {
            "tags": null
          },
          "name": "stderr",
          "output_type": "stream",
          "text": [
            "Epoch 140 Progress: 100%|██████████| 216/216 [01:58<00:00,  1.82it/s]\n"
          ]
        },
        {
          "metadata": {
            "tags": null
          },
          "name": "stdout",
          "output_type": "stream",
          "text": [
            "Epoch [140/300] Loss: 2.1087\n",
            "Model saved to /content/drive/Shareddrives/cxraide/ssd300_vgg16/VERSION_3/EXPORT/model_v1/model_epoch_140.pth\n",
            "Loss Details for Epoch 140:\n",
            "  ● Classification Loss: 2.05554784\n",
            "  ● Localization Loss: 0.05313403\n",
            "  ● Total Loss: 2.10868187\n"
          ]
        },
        {
          "metadata": {
            "tags": null
          },
          "name": "stderr",
          "output_type": "stream",
          "text": [
            "Validation Epoch 140: 100%|██████████| 3515/3515 [01:49<00:00, 32.21it/s]\n"
          ]
        },
        {
          "metadata": {
            "tags": null
          },
          "name": "stdout",
          "output_type": "stream",
          "text": [
            "Average Precision (AP) for Epoch 140:\n",
            "  - mAP: 0.2888\n",
            "  - mAP@0.50: 0.3352\n",
            "  - mAP@0.75: 0.3139\n",
            "  - mAP (small): 0.3394\n",
            "  - mAP (medium): 0.3197\n",
            "  - mAP (large): 0.3339\n",
            "Average Recall (AR) for Epoch 140:\n",
            "  - AR@1: 0.8535\n",
            "  - AR@10: 0.8577\n",
            "  - AR@100: 0.8580\n",
            "  - AR (small): 0.8028\n",
            "  - AR (medium): 0.8816\n",
            "  - AR (large): 0.8986\n",
            "Per-Class mAP for Epoch 140:\n",
            "  - Class 1: 0.3476\n",
            "  - Class 2: 0.2904\n",
            "  - Class 3: 0.2874\n",
            "  - Class 4: 0.2798\n",
            "  - Class 5: 0.2317\n",
            "  - Class 6: 0.2956\n",
            "Per-Class AR (at 100 detections) for Epoch 140:\n",
            "  - Class 1: 0.9160\n",
            "  - Class 2: 0.8601\n",
            "  - Class 3: 0.8648\n",
            "  - Class 4: 0.8777\n",
            "  - Class 5: 0.7464\n",
            "  - Class 6: 0.8827\n"
          ]
        },
        {
          "metadata": {
            "tags": null
          },
          "name": "stderr",
          "output_type": "stream",
          "text": [
            "Epoch 141 Progress: 100%|██████████| 216/216 [01:58<00:00,  1.82it/s]\n"
          ]
        },
        {
          "metadata": {
            "tags": null
          },
          "name": "stdout",
          "output_type": "stream",
          "text": [
            "Epoch [141/300] Loss: 2.1099\n"
          ]
        },
        {
          "metadata": {
            "tags": null
          },
          "name": "stderr",
          "output_type": "stream",
          "text": [
            "Epoch 142 Progress: 100%|██████████| 216/216 [01:58<00:00,  1.82it/s]\n"
          ]
        },
        {
          "metadata": {
            "tags": null
          },
          "name": "stdout",
          "output_type": "stream",
          "text": [
            "Epoch [142/300] Loss: 2.1074\n"
          ]
        },
        {
          "metadata": {
            "tags": null
          },
          "name": "stderr",
          "output_type": "stream",
          "text": [
            "Epoch 143 Progress: 100%|██████████| 216/216 [01:58<00:00,  1.82it/s]\n"
          ]
        },
        {
          "metadata": {
            "tags": null
          },
          "name": "stdout",
          "output_type": "stream",
          "text": [
            "Epoch [143/300] Loss: 2.1066\n"
          ]
        },
        {
          "metadata": {
            "tags": null
          },
          "name": "stderr",
          "output_type": "stream",
          "text": [
            "Epoch 144 Progress: 100%|██████████| 216/216 [01:58<00:00,  1.82it/s]\n"
          ]
        },
        {
          "metadata": {
            "tags": null
          },
          "name": "stdout",
          "output_type": "stream",
          "text": [
            "Epoch [144/300] Loss: 2.1020\n"
          ]
        },
        {
          "metadata": {
            "tags": null
          },
          "name": "stderr",
          "output_type": "stream",
          "text": [
            "Epoch 145 Progress: 100%|██████████| 216/216 [01:58<00:00,  1.83it/s]\n"
          ]
        },
        {
          "metadata": {
            "tags": null
          },
          "name": "stdout",
          "output_type": "stream",
          "text": [
            "Epoch [145/300] Loss: 2.1041\n"
          ]
        },
        {
          "metadata": {
            "tags": null
          },
          "name": "stderr",
          "output_type": "stream",
          "text": [
            "Epoch 146 Progress: 100%|██████████| 216/216 [01:58<00:00,  1.82it/s]\n"
          ]
        },
        {
          "metadata": {
            "tags": null
          },
          "name": "stdout",
          "output_type": "stream",
          "text": [
            "Epoch [146/300] Loss: 2.1029\n"
          ]
        },
        {
          "metadata": {
            "tags": null
          },
          "name": "stderr",
          "output_type": "stream",
          "text": [
            "Epoch 147 Progress: 100%|██████████| 216/216 [01:58<00:00,  1.83it/s]\n"
          ]
        },
        {
          "metadata": {
            "tags": null
          },
          "name": "stdout",
          "output_type": "stream",
          "text": [
            "Epoch [147/300] Loss: 2.1003\n"
          ]
        },
        {
          "metadata": {
            "tags": null
          },
          "name": "stderr",
          "output_type": "stream",
          "text": [
            "Epoch 148 Progress: 100%|██████████| 216/216 [01:58<00:00,  1.82it/s]\n"
          ]
        },
        {
          "metadata": {
            "tags": null
          },
          "name": "stdout",
          "output_type": "stream",
          "text": [
            "Epoch [148/300] Loss: 2.0967\n"
          ]
        },
        {
          "metadata": {
            "tags": null
          },
          "name": "stderr",
          "output_type": "stream",
          "text": [
            "Epoch 149 Progress: 100%|██████████| 216/216 [01:59<00:00,  1.81it/s]\n"
          ]
        },
        {
          "metadata": {
            "tags": null
          },
          "name": "stdout",
          "output_type": "stream",
          "text": [
            "Epoch [149/300] Loss: 2.0980\n"
          ]
        },
        {
          "metadata": {
            "tags": null
          },
          "name": "stderr",
          "output_type": "stream",
          "text": [
            "Epoch 150 Progress: 100%|██████████| 216/216 [01:58<00:00,  1.82it/s]\n"
          ]
        },
        {
          "metadata": {
            "tags": null
          },
          "name": "stdout",
          "output_type": "stream",
          "text": [
            "Epoch [150/300] Loss: 2.0961\n"
          ]
        },
        {
          "metadata": {
            "tags": null
          },
          "name": "stderr",
          "output_type": "stream",
          "text": [
            "Epoch 151 Progress: 100%|██████████| 216/216 [01:58<00:00,  1.83it/s]\n"
          ]
        },
        {
          "metadata": {
            "tags": null
          },
          "name": "stdout",
          "output_type": "stream",
          "text": [
            "Epoch [151/300] Loss: 2.0927\n"
          ]
        },
        {
          "metadata": {
            "tags": null
          },
          "name": "stderr",
          "output_type": "stream",
          "text": [
            "Epoch 152 Progress: 100%|██████████| 216/216 [01:58<00:00,  1.82it/s]\n"
          ]
        },
        {
          "metadata": {
            "tags": null
          },
          "name": "stdout",
          "output_type": "stream",
          "text": [
            "Epoch [152/300] Loss: 2.0914\n"
          ]
        },
        {
          "metadata": {
            "tags": null
          },
          "name": "stderr",
          "output_type": "stream",
          "text": [
            "Epoch 153 Progress: 100%|██████████| 216/216 [01:58<00:00,  1.82it/s]\n"
          ]
        },
        {
          "metadata": {
            "tags": null
          },
          "name": "stdout",
          "output_type": "stream",
          "text": [
            "Epoch [153/300] Loss: 2.0927\n"
          ]
        },
        {
          "metadata": {
            "tags": null
          },
          "name": "stderr",
          "output_type": "stream",
          "text": [
            "Epoch 154 Progress: 100%|██████████| 216/216 [01:59<00:00,  1.81it/s]\n"
          ]
        },
        {
          "metadata": {
            "tags": null
          },
          "name": "stdout",
          "output_type": "stream",
          "text": [
            "Epoch [154/300] Loss: 2.0924\n"
          ]
        },
        {
          "metadata": {
            "tags": null
          },
          "name": "stderr",
          "output_type": "stream",
          "text": [
            "Epoch 155 Progress: 100%|██████████| 216/216 [01:58<00:00,  1.83it/s]\n"
          ]
        },
        {
          "metadata": {
            "tags": null
          },
          "name": "stdout",
          "output_type": "stream",
          "text": [
            "Epoch [155/300] Loss: 2.0887\n"
          ]
        },
        {
          "metadata": {
            "tags": null
          },
          "name": "stderr",
          "output_type": "stream",
          "text": [
            "Epoch 156 Progress: 100%|██████████| 216/216 [01:58<00:00,  1.82it/s]\n"
          ]
        },
        {
          "metadata": {
            "tags": null
          },
          "name": "stdout",
          "output_type": "stream",
          "text": [
            "Epoch [156/300] Loss: 2.0891\n"
          ]
        },
        {
          "metadata": {
            "tags": null
          },
          "name": "stderr",
          "output_type": "stream",
          "text": [
            "Epoch 157 Progress: 100%|██████████| 216/216 [01:58<00:00,  1.82it/s]\n"
          ]
        },
        {
          "metadata": {
            "tags": null
          },
          "name": "stdout",
          "output_type": "stream",
          "text": [
            "Epoch [157/300] Loss: 2.0857\n"
          ]
        },
        {
          "metadata": {
            "tags": null
          },
          "name": "stderr",
          "output_type": "stream",
          "text": [
            "Epoch 158 Progress: 100%|██████████| 216/216 [01:58<00:00,  1.82it/s]\n"
          ]
        },
        {
          "metadata": {
            "tags": null
          },
          "name": "stdout",
          "output_type": "stream",
          "text": [
            "Epoch [158/300] Loss: 2.0829\n"
          ]
        },
        {
          "metadata": {
            "tags": null
          },
          "name": "stderr",
          "output_type": "stream",
          "text": [
            "Epoch 159 Progress: 100%|██████████| 216/216 [01:58<00:00,  1.82it/s]\n"
          ]
        },
        {
          "metadata": {
            "tags": null
          },
          "name": "stdout",
          "output_type": "stream",
          "text": [
            "Epoch [159/300] Loss: 2.0853\n"
          ]
        },
        {
          "metadata": {
            "tags": null
          },
          "name": "stderr",
          "output_type": "stream",
          "text": [
            "Epoch 160 Progress: 100%|██████████| 216/216 [01:57<00:00,  1.83it/s]\n"
          ]
        },
        {
          "metadata": {
            "tags": null
          },
          "name": "stdout",
          "output_type": "stream",
          "text": [
            "Epoch [160/300] Loss: 2.0855\n",
            "Model saved to /content/drive/Shareddrives/cxraide/ssd300_vgg16/VERSION_3/EXPORT/model_v1/model_epoch_160.pth\n",
            "Loss Details for Epoch 160:\n",
            "  ● Classification Loss: 2.03386018\n",
            "  ● Localization Loss: 0.05165349\n",
            "  ● Total Loss: 2.08551366\n"
          ]
        },
        {
          "metadata": {
            "tags": null
          },
          "name": "stderr",
          "output_type": "stream",
          "text": [
            "Validation Epoch 160: 100%|██████████| 3515/3515 [01:49<00:00, 32.21it/s]\n"
          ]
        },
        {
          "metadata": {
            "tags": null
          },
          "name": "stdout",
          "output_type": "stream",
          "text": [
            "Average Precision (AP) for Epoch 160:\n",
            "  - mAP: 0.2924\n",
            "  - mAP@0.50: 0.3381\n",
            "  - mAP@0.75: 0.3192\n",
            "  - mAP (small): 0.3580\n",
            "  - mAP (medium): 0.3119\n",
            "  - mAP (large): 0.3370\n",
            "Average Recall (AR) for Epoch 160:\n",
            "  - AR@1: 0.8629\n",
            "  - AR@10: 0.8662\n",
            "  - AR@100: 0.8664\n",
            "  - AR (small): 0.8232\n",
            "  - AR (medium): 0.8840\n",
            "  - AR (large): 0.8961\n",
            "Per-Class mAP for Epoch 160:\n",
            "  - Class 1: 0.3352\n",
            "  - Class 2: 0.2967\n",
            "  - Class 3: 0.2930\n",
            "  - Class 4: 0.2857\n",
            "  - Class 5: 0.2448\n",
            "  - Class 6: 0.2989\n",
            "Per-Class AR (at 100 detections) for Epoch 160:\n",
            "  - Class 1: 0.9071\n",
            "  - Class 2: 0.8684\n",
            "  - Class 3: 0.8756\n",
            "  - Class 4: 0.8871\n",
            "  - Class 5: 0.7690\n",
            "  - Class 6: 0.8910\n"
          ]
        },
        {
          "metadata": {
            "tags": null
          },
          "name": "stderr",
          "output_type": "stream",
          "text": [
            "Epoch 161 Progress: 100%|██████████| 216/216 [01:57<00:00,  1.83it/s]\n"
          ]
        },
        {
          "metadata": {
            "tags": null
          },
          "name": "stdout",
          "output_type": "stream",
          "text": [
            "Epoch [161/300] Loss: 2.0804\n"
          ]
        },
        {
          "metadata": {
            "tags": null
          },
          "name": "stderr",
          "output_type": "stream",
          "text": [
            "Epoch 162 Progress: 100%|██████████| 216/216 [01:58<00:00,  1.83it/s]\n"
          ]
        },
        {
          "metadata": {
            "tags": null
          },
          "name": "stdout",
          "output_type": "stream",
          "text": [
            "Epoch [162/300] Loss: 2.0790\n"
          ]
        },
        {
          "metadata": {
            "tags": null
          },
          "name": "stderr",
          "output_type": "stream",
          "text": [
            "Epoch 163 Progress: 100%|██████████| 216/216 [01:58<00:00,  1.83it/s]\n"
          ]
        },
        {
          "metadata": {
            "tags": null
          },
          "name": "stdout",
          "output_type": "stream",
          "text": [
            "Epoch [163/300] Loss: 2.0783\n"
          ]
        },
        {
          "metadata": {
            "tags": null
          },
          "name": "stderr",
          "output_type": "stream",
          "text": [
            "Epoch 164 Progress: 100%|██████████| 216/216 [01:58<00:00,  1.83it/s]\n"
          ]
        },
        {
          "metadata": {
            "tags": null
          },
          "name": "stdout",
          "output_type": "stream",
          "text": [
            "Epoch [164/300] Loss: 2.0775\n"
          ]
        },
        {
          "metadata": {
            "tags": null
          },
          "name": "stderr",
          "output_type": "stream",
          "text": [
            "Epoch 165 Progress: 100%|██████████| 216/216 [01:58<00:00,  1.83it/s]\n"
          ]
        },
        {
          "metadata": {
            "tags": null
          },
          "name": "stdout",
          "output_type": "stream",
          "text": [
            "Epoch [165/300] Loss: 2.0783\n"
          ]
        },
        {
          "metadata": {
            "tags": null
          },
          "name": "stderr",
          "output_type": "stream",
          "text": [
            "Epoch 166 Progress: 100%|██████████| 216/216 [01:58<00:00,  1.83it/s]\n"
          ]
        },
        {
          "metadata": {
            "tags": null
          },
          "name": "stdout",
          "output_type": "stream",
          "text": [
            "Epoch [166/300] Loss: 2.0758\n"
          ]
        },
        {
          "metadata": {
            "tags": null
          },
          "name": "stderr",
          "output_type": "stream",
          "text": [
            "Epoch 167 Progress: 100%|██████████| 216/216 [01:57<00:00,  1.84it/s]\n"
          ]
        },
        {
          "metadata": {
            "tags": null
          },
          "name": "stdout",
          "output_type": "stream",
          "text": [
            "Epoch [167/300] Loss: 2.0731\n"
          ]
        },
        {
          "metadata": {
            "tags": null
          },
          "name": "stderr",
          "output_type": "stream",
          "text": [
            "Epoch 168 Progress: 100%|██████████| 216/216 [01:58<00:00,  1.82it/s]\n"
          ]
        },
        {
          "metadata": {
            "tags": null
          },
          "name": "stdout",
          "output_type": "stream",
          "text": [
            "Epoch [168/300] Loss: 2.0744\n"
          ]
        },
        {
          "metadata": {
            "tags": null
          },
          "name": "stderr",
          "output_type": "stream",
          "text": [
            "Epoch 169 Progress: 100%|██████████| 216/216 [01:58<00:00,  1.83it/s]\n"
          ]
        },
        {
          "metadata": {
            "tags": null
          },
          "name": "stdout",
          "output_type": "stream",
          "text": [
            "Epoch [169/300] Loss: 2.0732\n"
          ]
        },
        {
          "metadata": {
            "tags": null
          },
          "name": "stderr",
          "output_type": "stream",
          "text": [
            "Epoch 170 Progress: 100%|██████████| 216/216 [01:58<00:00,  1.83it/s]\n"
          ]
        },
        {
          "metadata": {
            "tags": null
          },
          "name": "stdout",
          "output_type": "stream",
          "text": [
            "Epoch [170/300] Loss: 2.0735\n"
          ]
        },
        {
          "metadata": {
            "tags": null
          },
          "name": "stderr",
          "output_type": "stream",
          "text": [
            "Epoch 171 Progress: 100%|██████████| 216/216 [02:01<00:00,  1.78it/s]\n"
          ]
        },
        {
          "metadata": {
            "tags": null
          },
          "name": "stdout",
          "output_type": "stream",
          "text": [
            "Epoch [171/300] Loss: 2.0699\n"
          ]
        },
        {
          "metadata": {
            "tags": null
          },
          "name": "stderr",
          "output_type": "stream",
          "text": [
            "Epoch 172 Progress: 100%|██████████| 216/216 [01:58<00:00,  1.82it/s]\n"
          ]
        },
        {
          "metadata": {
            "tags": null
          },
          "name": "stdout",
          "output_type": "stream",
          "text": [
            "Epoch [172/300] Loss: 2.0673\n"
          ]
        },
        {
          "metadata": {
            "tags": null
          },
          "name": "stderr",
          "output_type": "stream",
          "text": [
            "Epoch 173 Progress: 100%|██████████| 216/216 [01:58<00:00,  1.82it/s]\n"
          ]
        },
        {
          "metadata": {
            "tags": null
          },
          "name": "stdout",
          "output_type": "stream",
          "text": [
            "Epoch [173/300] Loss: 2.0688\n"
          ]
        },
        {
          "metadata": {
            "tags": null
          },
          "name": "stderr",
          "output_type": "stream",
          "text": [
            "Epoch 174 Progress: 100%|██████████| 216/216 [01:57<00:00,  1.84it/s]\n"
          ]
        },
        {
          "metadata": {
            "tags": null
          },
          "name": "stdout",
          "output_type": "stream",
          "text": [
            "Epoch [174/300] Loss: 2.0679\n"
          ]
        },
        {
          "metadata": {
            "tags": null
          },
          "name": "stderr",
          "output_type": "stream",
          "text": [
            "Epoch 175 Progress: 100%|██████████| 216/216 [01:58<00:00,  1.83it/s]\n"
          ]
        },
        {
          "metadata": {
            "tags": null
          },
          "name": "stdout",
          "output_type": "stream",
          "text": [
            "Epoch [175/300] Loss: 2.0671\n"
          ]
        },
        {
          "metadata": {
            "tags": null
          },
          "name": "stderr",
          "output_type": "stream",
          "text": [
            "Epoch 176 Progress: 100%|██████████| 216/216 [01:58<00:00,  1.83it/s]\n"
          ]
        },
        {
          "metadata": {
            "tags": null
          },
          "name": "stdout",
          "output_type": "stream",
          "text": [
            "Epoch [176/300] Loss: 2.0662\n"
          ]
        },
        {
          "metadata": {
            "tags": null
          },
          "name": "stderr",
          "output_type": "stream",
          "text": [
            "Epoch 177 Progress: 100%|██████████| 216/216 [01:57<00:00,  1.83it/s]\n"
          ]
        },
        {
          "metadata": {
            "tags": null
          },
          "name": "stdout",
          "output_type": "stream",
          "text": [
            "Epoch [177/300] Loss: 2.0639\n"
          ]
        },
        {
          "metadata": {
            "tags": null
          },
          "name": "stderr",
          "output_type": "stream",
          "text": [
            "Epoch 178 Progress: 100%|██████████| 216/216 [01:57<00:00,  1.83it/s]\n"
          ]
        },
        {
          "metadata": {
            "tags": null
          },
          "name": "stdout",
          "output_type": "stream",
          "text": [
            "Epoch [178/300] Loss: 2.0629\n"
          ]
        },
        {
          "metadata": {
            "tags": null
          },
          "name": "stderr",
          "output_type": "stream",
          "text": [
            "Epoch 179 Progress: 100%|██████████| 216/216 [01:58<00:00,  1.83it/s]\n"
          ]
        },
        {
          "metadata": {
            "tags": null
          },
          "name": "stdout",
          "output_type": "stream",
          "text": [
            "Epoch [179/300] Loss: 2.0622\n"
          ]
        },
        {
          "metadata": {
            "tags": null
          },
          "name": "stderr",
          "output_type": "stream",
          "text": [
            "Epoch 180 Progress: 100%|██████████| 216/216 [01:58<00:00,  1.83it/s]\n"
          ]
        },
        {
          "metadata": {
            "tags": null
          },
          "name": "stdout",
          "output_type": "stream",
          "text": [
            "Epoch [180/300] Loss: 2.0602\n",
            "Model saved to /content/drive/Shareddrives/cxraide/ssd300_vgg16/VERSION_3/EXPORT/model_v1/model_epoch_180.pth\n",
            "Loss Details for Epoch 180:\n",
            "  ● Classification Loss: 2.01140342\n",
            "  ● Localization Loss: 0.04883347\n",
            "  ● Total Loss: 2.06023689\n"
          ]
        },
        {
          "metadata": {
            "tags": null
          },
          "name": "stderr",
          "output_type": "stream",
          "text": [
            "Validation Epoch 180: 100%|██████████| 3515/3515 [01:49<00:00, 32.02it/s]\n"
          ]
        },
        {
          "metadata": {
            "tags": null
          },
          "name": "stdout",
          "output_type": "stream",
          "text": [
            "Average Precision (AP) for Epoch 180:\n",
            "  - mAP: 0.2996\n",
            "  - mAP@0.50: 0.3432\n",
            "  - mAP@0.75: 0.3232\n",
            "  - mAP (small): 0.3627\n",
            "  - mAP (medium): 0.3152\n",
            "  - mAP (large): 0.3427\n",
            "Average Recall (AR) for Epoch 180:\n",
            "  - AR@1: 0.8709\n",
            "  - AR@10: 0.8731\n",
            "  - AR@100: 0.8733\n",
            "  - AR (small): 0.8260\n",
            "  - AR (medium): 0.8889\n",
            "  - AR (large): 0.9054\n",
            "Per-Class mAP for Epoch 180:\n",
            "  - Class 1: 0.3585\n",
            "  - Class 2: 0.2998\n",
            "  - Class 3: 0.2938\n",
            "  - Class 4: 0.2961\n",
            "  - Class 5: 0.2483\n",
            "  - Class 6: 0.3014\n",
            "Per-Class AR (at 100 detections) for Epoch 180:\n",
            "  - Class 1: 0.9311\n",
            "  - Class 2: 0.8708\n",
            "  - Class 3: 0.8752\n",
            "  - Class 4: 0.8995\n",
            "  - Class 5: 0.7762\n",
            "  - Class 6: 0.8868\n"
          ]
        },
        {
          "metadata": {
            "tags": null
          },
          "name": "stderr",
          "output_type": "stream",
          "text": [
            "Epoch 181 Progress: 100%|██████████| 216/216 [01:58<00:00,  1.83it/s]\n"
          ]
        },
        {
          "metadata": {
            "tags": null
          },
          "name": "stdout",
          "output_type": "stream",
          "text": [
            "Epoch [181/300] Loss: 2.0593\n"
          ]
        },
        {
          "metadata": {
            "tags": null
          },
          "name": "stderr",
          "output_type": "stream",
          "text": [
            "Epoch 182 Progress: 100%|██████████| 216/216 [01:58<00:00,  1.82it/s]\n"
          ]
        },
        {
          "metadata": {
            "tags": null
          },
          "name": "stdout",
          "output_type": "stream",
          "text": [
            "Epoch [182/300] Loss: 2.0592\n"
          ]
        },
        {
          "metadata": {
            "tags": null
          },
          "name": "stderr",
          "output_type": "stream",
          "text": [
            "Epoch 183 Progress: 100%|██████████| 216/216 [01:58<00:00,  1.82it/s]\n"
          ]
        },
        {
          "metadata": {
            "tags": null
          },
          "name": "stdout",
          "output_type": "stream",
          "text": [
            "Epoch [183/300] Loss: 2.0596\n"
          ]
        },
        {
          "metadata": {
            "tags": null
          },
          "name": "stderr",
          "output_type": "stream",
          "text": [
            "Epoch 184 Progress: 100%|██████████| 216/216 [01:58<00:00,  1.82it/s]\n"
          ]
        },
        {
          "metadata": {
            "tags": null
          },
          "name": "stdout",
          "output_type": "stream",
          "text": [
            "Epoch [184/300] Loss: 2.0585\n"
          ]
        },
        {
          "metadata": {
            "tags": null
          },
          "name": "stderr",
          "output_type": "stream",
          "text": [
            "Epoch 185 Progress: 100%|██████████| 216/216 [01:57<00:00,  1.84it/s]\n"
          ]
        },
        {
          "metadata": {
            "tags": null
          },
          "name": "stdout",
          "output_type": "stream",
          "text": [
            "Epoch [185/300] Loss: 2.0567\n"
          ]
        },
        {
          "metadata": {
            "tags": null
          },
          "name": "stderr",
          "output_type": "stream",
          "text": [
            "Epoch 186 Progress: 100%|██████████| 216/216 [01:57<00:00,  1.83it/s]\n"
          ]
        },
        {
          "metadata": {
            "tags": null
          },
          "name": "stdout",
          "output_type": "stream",
          "text": [
            "Epoch [186/300] Loss: 2.0551\n"
          ]
        },
        {
          "metadata": {
            "tags": null
          },
          "name": "stderr",
          "output_type": "stream",
          "text": [
            "Epoch 187 Progress: 100%|██████████| 216/216 [01:57<00:00,  1.83it/s]\n"
          ]
        },
        {
          "metadata": {
            "tags": null
          },
          "name": "stdout",
          "output_type": "stream",
          "text": [
            "Epoch [187/300] Loss: 2.0531\n"
          ]
        },
        {
          "metadata": {
            "tags": null
          },
          "name": "stderr",
          "output_type": "stream",
          "text": [
            "Epoch 188 Progress: 100%|██████████| 216/216 [01:58<00:00,  1.82it/s]\n"
          ]
        },
        {
          "metadata": {
            "tags": null
          },
          "name": "stdout",
          "output_type": "stream",
          "text": [
            "Epoch [188/300] Loss: 2.0528\n"
          ]
        },
        {
          "metadata": {
            "tags": null
          },
          "name": "stderr",
          "output_type": "stream",
          "text": [
            "Epoch 189 Progress: 100%|██████████| 216/216 [01:58<00:00,  1.82it/s]\n"
          ]
        },
        {
          "metadata": {
            "tags": null
          },
          "name": "stdout",
          "output_type": "stream",
          "text": [
            "Epoch [189/300] Loss: 2.0527\n"
          ]
        },
        {
          "metadata": {
            "tags": null
          },
          "name": "stderr",
          "output_type": "stream",
          "text": [
            "Epoch 190 Progress: 100%|██████████| 216/216 [01:58<00:00,  1.82it/s]\n"
          ]
        },
        {
          "metadata": {
            "tags": null
          },
          "name": "stdout",
          "output_type": "stream",
          "text": [
            "Epoch [190/300] Loss: 2.0489\n"
          ]
        },
        {
          "metadata": {
            "tags": null
          },
          "name": "stderr",
          "output_type": "stream",
          "text": [
            "Epoch 191 Progress: 100%|██████████| 216/216 [01:59<00:00,  1.81it/s]\n"
          ]
        },
        {
          "metadata": {
            "tags": null
          },
          "name": "stdout",
          "output_type": "stream",
          "text": [
            "Epoch [191/300] Loss: 2.0524\n"
          ]
        },
        {
          "metadata": {
            "tags": null
          },
          "name": "stderr",
          "output_type": "stream",
          "text": [
            "Epoch 192 Progress: 100%|██████████| 216/216 [01:57<00:00,  1.83it/s]\n"
          ]
        },
        {
          "metadata": {
            "tags": null
          },
          "name": "stdout",
          "output_type": "stream",
          "text": [
            "Epoch [192/300] Loss: 2.0496\n"
          ]
        },
        {
          "metadata": {
            "tags": null
          },
          "name": "stderr",
          "output_type": "stream",
          "text": [
            "Epoch 193 Progress: 100%|██████████| 216/216 [01:58<00:00,  1.82it/s]\n"
          ]
        },
        {
          "metadata": {
            "tags": null
          },
          "name": "stdout",
          "output_type": "stream",
          "text": [
            "Epoch [193/300] Loss: 2.0515\n"
          ]
        },
        {
          "metadata": {
            "tags": null
          },
          "name": "stderr",
          "output_type": "stream",
          "text": [
            "Epoch 194 Progress: 100%|██████████| 216/216 [01:58<00:00,  1.83it/s]\n"
          ]
        },
        {
          "metadata": {
            "tags": null
          },
          "name": "stdout",
          "output_type": "stream",
          "text": [
            "Epoch [194/300] Loss: 2.0482\n"
          ]
        },
        {
          "metadata": {
            "tags": null
          },
          "name": "stderr",
          "output_type": "stream",
          "text": [
            "Epoch 195 Progress: 100%|██████████| 216/216 [01:58<00:00,  1.82it/s]\n"
          ]
        },
        {
          "metadata": {
            "tags": null
          },
          "name": "stdout",
          "output_type": "stream",
          "text": [
            "Epoch [195/300] Loss: 2.0465\n"
          ]
        },
        {
          "metadata": {
            "tags": null
          },
          "name": "stderr",
          "output_type": "stream",
          "text": [
            "Epoch 196 Progress: 100%|██████████| 216/216 [01:58<00:00,  1.83it/s]\n"
          ]
        },
        {
          "metadata": {
            "tags": null
          },
          "name": "stdout",
          "output_type": "stream",
          "text": [
            "Epoch [196/300] Loss: 2.0496\n"
          ]
        },
        {
          "metadata": {
            "tags": null
          },
          "name": "stderr",
          "output_type": "stream",
          "text": [
            "Epoch 197 Progress: 100%|██████████| 216/216 [01:58<00:00,  1.82it/s]\n"
          ]
        },
        {
          "metadata": {
            "tags": null
          },
          "name": "stdout",
          "output_type": "stream",
          "text": [
            "Epoch [197/300] Loss: 2.0468\n"
          ]
        },
        {
          "metadata": {
            "tags": null
          },
          "name": "stderr",
          "output_type": "stream",
          "text": [
            "Epoch 198 Progress: 100%|██████████| 216/216 [01:58<00:00,  1.83it/s]\n"
          ]
        },
        {
          "metadata": {
            "tags": null
          },
          "name": "stdout",
          "output_type": "stream",
          "text": [
            "Epoch [198/300] Loss: 2.0475\n"
          ]
        },
        {
          "metadata": {
            "tags": null
          },
          "name": "stderr",
          "output_type": "stream",
          "text": [
            "Epoch 199 Progress: 100%|██████████| 216/216 [01:58<00:00,  1.82it/s]\n"
          ]
        },
        {
          "metadata": {
            "tags": null
          },
          "name": "stdout",
          "output_type": "stream",
          "text": [
            "Epoch [199/300] Loss: 2.0475\n"
          ]
        },
        {
          "metadata": {
            "tags": null
          },
          "name": "stderr",
          "output_type": "stream",
          "text": [
            "Epoch 200 Progress: 100%|██████████| 216/216 [01:58<00:00,  1.83it/s]\n"
          ]
        },
        {
          "metadata": {
            "tags": null
          },
          "name": "stdout",
          "output_type": "stream",
          "text": [
            "Epoch [200/300] Loss: 2.0449\n",
            "Model saved to /content/drive/Shareddrives/cxraide/ssd300_vgg16/VERSION_3/EXPORT/model_v1/model_epoch_200.pth\n",
            "Loss Details for Epoch 200:\n",
            "  ● Classification Loss: 1.99724995\n",
            "  ● Localization Loss: 0.04766498\n",
            "  ● Total Loss: 2.04491492\n"
          ]
        },
        {
          "metadata": {
            "tags": null
          },
          "name": "stderr",
          "output_type": "stream",
          "text": [
            "Validation Epoch 200: 100%|██████████| 3515/3515 [01:49<00:00, 32.21it/s]\n"
          ]
        },
        {
          "metadata": {
            "tags": null
          },
          "name": "stdout",
          "output_type": "stream",
          "text": [
            "Average Precision (AP) for Epoch 200:\n",
            "  - mAP: 0.3057\n",
            "  - mAP@0.50: 0.3452\n",
            "  - mAP@0.75: 0.3280\n",
            "  - mAP (small): 0.3563\n",
            "  - mAP (medium): 0.3160\n",
            "  - mAP (large): 0.3507\n",
            "Average Recall (AR) for Epoch 200:\n",
            "  - AR@1: 0.8789\n",
            "  - AR@10: 0.8803\n",
            "  - AR@100: 0.8803\n",
            "  - AR (small): 0.8155\n",
            "  - AR (medium): 0.8926\n",
            "  - AR (large): 0.9104\n",
            "Per-Class mAP for Epoch 200:\n",
            "  - Class 1: 0.3613\n",
            "  - Class 2: 0.3159\n",
            "  - Class 3: 0.3009\n",
            "  - Class 4: 0.2964\n",
            "  - Class 5: 0.2527\n",
            "  - Class 6: 0.3069\n",
            "Per-Class AR (at 100 detections) for Epoch 200:\n",
            "  - Class 1: 0.9318\n",
            "  - Class 2: 0.8855\n",
            "  - Class 3: 0.8829\n",
            "  - Class 4: 0.8975\n",
            "  - Class 5: 0.7883\n",
            "  - Class 6: 0.8956\n"
          ]
        },
        {
          "metadata": {
            "tags": null
          },
          "name": "stderr",
          "output_type": "stream",
          "text": [
            "Epoch 201 Progress: 100%|██████████| 216/216 [01:58<00:00,  1.83it/s]\n"
          ]
        },
        {
          "metadata": {
            "tags": null
          },
          "name": "stdout",
          "output_type": "stream",
          "text": [
            "Epoch [201/300] Loss: 2.0431\n"
          ]
        },
        {
          "metadata": {
            "tags": null
          },
          "name": "stderr",
          "output_type": "stream",
          "text": [
            "Epoch 202 Progress: 100%|██████████| 216/216 [01:58<00:00,  1.82it/s]\n"
          ]
        },
        {
          "metadata": {
            "tags": null
          },
          "name": "stdout",
          "output_type": "stream",
          "text": [
            "Epoch [202/300] Loss: 2.0461\n"
          ]
        },
        {
          "metadata": {
            "tags": null
          },
          "name": "stderr",
          "output_type": "stream",
          "text": [
            "Epoch 203 Progress: 100%|██████████| 216/216 [01:58<00:00,  1.83it/s]\n"
          ]
        },
        {
          "metadata": {
            "tags": null
          },
          "name": "stdout",
          "output_type": "stream",
          "text": [
            "Epoch [203/300] Loss: 2.0431\n"
          ]
        },
        {
          "metadata": {
            "tags": null
          },
          "name": "stderr",
          "output_type": "stream",
          "text": [
            "Epoch 204 Progress: 100%|██████████| 216/216 [01:57<00:00,  1.83it/s]\n"
          ]
        },
        {
          "metadata": {
            "tags": null
          },
          "name": "stdout",
          "output_type": "stream",
          "text": [
            "Epoch [204/300] Loss: 2.0407\n"
          ]
        },
        {
          "metadata": {
            "tags": null
          },
          "name": "stderr",
          "output_type": "stream",
          "text": [
            "Epoch 205 Progress: 100%|██████████| 216/216 [01:58<00:00,  1.83it/s]\n"
          ]
        },
        {
          "metadata": {
            "tags": null
          },
          "name": "stdout",
          "output_type": "stream",
          "text": [
            "Epoch [205/300] Loss: 2.0406\n"
          ]
        },
        {
          "metadata": {
            "tags": null
          },
          "name": "stderr",
          "output_type": "stream",
          "text": [
            "Epoch 206 Progress: 100%|██████████| 216/216 [01:58<00:00,  1.82it/s]\n"
          ]
        },
        {
          "metadata": {
            "tags": null
          },
          "name": "stdout",
          "output_type": "stream",
          "text": [
            "Epoch [206/300] Loss: 2.0417\n"
          ]
        },
        {
          "metadata": {
            "tags": null
          },
          "name": "stderr",
          "output_type": "stream",
          "text": [
            "Epoch 207 Progress: 100%|██████████| 216/216 [01:58<00:00,  1.83it/s]\n"
          ]
        },
        {
          "metadata": {
            "tags": null
          },
          "name": "stdout",
          "output_type": "stream",
          "text": [
            "Epoch [207/300] Loss: 2.0402\n"
          ]
        },
        {
          "metadata": {
            "tags": null
          },
          "name": "stderr",
          "output_type": "stream",
          "text": [
            "Epoch 208 Progress: 100%|██████████| 216/216 [01:58<00:00,  1.83it/s]\n"
          ]
        },
        {
          "metadata": {
            "tags": null
          },
          "name": "stdout",
          "output_type": "stream",
          "text": [
            "Epoch [208/300] Loss: 2.0387\n"
          ]
        },
        {
          "metadata": {
            "tags": null
          },
          "name": "stderr",
          "output_type": "stream",
          "text": [
            "Epoch 209 Progress: 100%|██████████| 216/216 [01:58<00:00,  1.82it/s]\n"
          ]
        },
        {
          "metadata": {
            "tags": null
          },
          "name": "stdout",
          "output_type": "stream",
          "text": [
            "Epoch [209/300] Loss: 2.0387\n"
          ]
        },
        {
          "metadata": {
            "tags": null
          },
          "name": "stderr",
          "output_type": "stream",
          "text": [
            "Epoch 210 Progress: 100%|██████████| 216/216 [01:58<00:00,  1.82it/s]\n"
          ]
        },
        {
          "metadata": {
            "tags": null
          },
          "name": "stdout",
          "output_type": "stream",
          "text": [
            "Epoch [210/300] Loss: 2.0389\n"
          ]
        },
        {
          "metadata": {
            "tags": null
          },
          "name": "stderr",
          "output_type": "stream",
          "text": [
            "Epoch 211 Progress: 100%|██████████| 216/216 [01:58<00:00,  1.83it/s]\n"
          ]
        },
        {
          "metadata": {
            "tags": null
          },
          "name": "stdout",
          "output_type": "stream",
          "text": [
            "Epoch [211/300] Loss: 2.0344\n"
          ]
        },
        {
          "metadata": {
            "tags": null
          },
          "name": "stderr",
          "output_type": "stream",
          "text": [
            "Epoch 212 Progress: 100%|██████████| 216/216 [01:58<00:00,  1.82it/s]\n"
          ]
        },
        {
          "metadata": {
            "tags": null
          },
          "name": "stdout",
          "output_type": "stream",
          "text": [
            "Epoch [212/300] Loss: 2.0406\n"
          ]
        },
        {
          "metadata": {
            "tags": null
          },
          "name": "stderr",
          "output_type": "stream",
          "text": [
            "Epoch 213 Progress: 100%|██████████| 216/216 [01:58<00:00,  1.82it/s]\n"
          ]
        },
        {
          "metadata": {
            "tags": null
          },
          "name": "stdout",
          "output_type": "stream",
          "text": [
            "Epoch [213/300] Loss: 2.0345\n"
          ]
        },
        {
          "metadata": {
            "tags": null
          },
          "name": "stderr",
          "output_type": "stream",
          "text": [
            "Epoch 214 Progress: 100%|██████████| 216/216 [01:58<00:00,  1.83it/s]\n"
          ]
        },
        {
          "metadata": {
            "tags": null
          },
          "name": "stdout",
          "output_type": "stream",
          "text": [
            "Epoch [214/300] Loss: 2.0343\n"
          ]
        },
        {
          "metadata": {
            "tags": null
          },
          "name": "stderr",
          "output_type": "stream",
          "text": [
            "Epoch 215 Progress: 100%|██████████| 216/216 [01:58<00:00,  1.83it/s]\n"
          ]
        },
        {
          "metadata": {
            "tags": null
          },
          "name": "stdout",
          "output_type": "stream",
          "text": [
            "Epoch [215/300] Loss: 2.0338\n"
          ]
        },
        {
          "metadata": {
            "tags": null
          },
          "name": "stderr",
          "output_type": "stream",
          "text": [
            "Epoch 216 Progress: 100%|██████████| 216/216 [01:58<00:00,  1.83it/s]\n"
          ]
        },
        {
          "metadata": {
            "tags": null
          },
          "name": "stdout",
          "output_type": "stream",
          "text": [
            "Epoch [216/300] Loss: 2.0332\n"
          ]
        },
        {
          "metadata": {
            "tags": null
          },
          "name": "stderr",
          "output_type": "stream",
          "text": [
            "Epoch 217 Progress: 100%|██████████| 216/216 [01:57<00:00,  1.83it/s]\n"
          ]
        },
        {
          "metadata": {
            "tags": null
          },
          "name": "stdout",
          "output_type": "stream",
          "text": [
            "Epoch [217/300] Loss: 2.0300\n"
          ]
        },
        {
          "metadata": {
            "tags": null
          },
          "name": "stderr",
          "output_type": "stream",
          "text": [
            "Epoch 218 Progress: 100%|██████████| 216/216 [01:58<00:00,  1.83it/s]\n"
          ]
        },
        {
          "metadata": {
            "tags": null
          },
          "name": "stdout",
          "output_type": "stream",
          "text": [
            "Epoch [218/300] Loss: 2.0324\n"
          ]
        },
        {
          "metadata": {
            "tags": null
          },
          "name": "stderr",
          "output_type": "stream",
          "text": [
            "Epoch 219 Progress: 100%|██████████| 216/216 [01:59<00:00,  1.81it/s]\n"
          ]
        },
        {
          "metadata": {
            "tags": null
          },
          "name": "stdout",
          "output_type": "stream",
          "text": [
            "Epoch [219/300] Loss: 2.0313\n"
          ]
        },
        {
          "metadata": {
            "tags": null
          },
          "name": "stderr",
          "output_type": "stream",
          "text": [
            "Epoch 220 Progress: 100%|██████████| 216/216 [01:58<00:00,  1.82it/s]\n"
          ]
        },
        {
          "metadata": {
            "tags": null
          },
          "name": "stdout",
          "output_type": "stream",
          "text": [
            "Epoch [220/300] Loss: 2.0299\n",
            "Model saved to /content/drive/Shareddrives/cxraide/ssd300_vgg16/VERSION_3/EXPORT/model_v1/model_epoch_220.pth\n",
            "Loss Details for Epoch 220:\n",
            "  ● Classification Loss: 1.98334947\n",
            "  ● Localization Loss: 0.04653880\n",
            "  ● Total Loss: 2.02988827\n"
          ]
        },
        {
          "metadata": {
            "tags": null
          },
          "name": "stderr",
          "output_type": "stream",
          "text": [
            "Validation Epoch 220: 100%|██████████| 3515/3515 [01:51<00:00, 31.66it/s]\n"
          ]
        },
        {
          "metadata": {
            "tags": null
          },
          "name": "stdout",
          "output_type": "stream",
          "text": [
            "Average Precision (AP) for Epoch 220:\n",
            "  - mAP: 0.3049\n",
            "  - mAP@0.50: 0.3448\n",
            "  - mAP@0.75: 0.3262\n",
            "  - mAP (small): 0.3732\n",
            "  - mAP (medium): 0.3157\n",
            "  - mAP (large): 0.3474\n",
            "Average Recall (AR) for Epoch 220:\n",
            "  - AR@1: 0.8768\n",
            "  - AR@10: 0.8786\n",
            "  - AR@100: 0.8786\n",
            "  - AR (small): 0.8273\n",
            "  - AR (medium): 0.8948\n",
            "  - AR (large): 0.9078\n",
            "Per-Class mAP for Epoch 220:\n",
            "  - Class 1: 0.3601\n",
            "  - Class 2: 0.3136\n",
            "  - Class 3: 0.3022\n",
            "  - Class 4: 0.2913\n",
            "  - Class 5: 0.2531\n",
            "  - Class 6: 0.3092\n",
            "Per-Class AR (at 100 detections) for Epoch 220:\n",
            "  - Class 1: 0.9345\n",
            "  - Class 2: 0.8808\n",
            "  - Class 3: 0.8863\n",
            "  - Class 4: 0.8904\n",
            "  - Class 5: 0.7810\n",
            "  - Class 6: 0.8984\n"
          ]
        },
        {
          "metadata": {
            "tags": null
          },
          "name": "stderr",
          "output_type": "stream",
          "text": [
            "Epoch 221 Progress: 100%|██████████| 216/216 [01:58<00:00,  1.83it/s]\n"
          ]
        },
        {
          "metadata": {
            "tags": null
          },
          "name": "stdout",
          "output_type": "stream",
          "text": [
            "Epoch [221/300] Loss: 2.0312\n"
          ]
        },
        {
          "metadata": {
            "tags": null
          },
          "name": "stderr",
          "output_type": "stream",
          "text": [
            "Epoch 222 Progress: 100%|██████████| 216/216 [01:58<00:00,  1.82it/s]\n"
          ]
        },
        {
          "metadata": {
            "tags": null
          },
          "name": "stdout",
          "output_type": "stream",
          "text": [
            "Epoch [222/300] Loss: 2.0306\n"
          ]
        },
        {
          "metadata": {
            "tags": null
          },
          "name": "stderr",
          "output_type": "stream",
          "text": [
            "Epoch 223 Progress: 100%|██████████| 216/216 [01:59<00:00,  1.81it/s]\n"
          ]
        },
        {
          "metadata": {
            "tags": null
          },
          "name": "stdout",
          "output_type": "stream",
          "text": [
            "Epoch [223/300] Loss: 2.0282\n"
          ]
        },
        {
          "metadata": {
            "tags": null
          },
          "name": "stderr",
          "output_type": "stream",
          "text": [
            "Epoch 224 Progress: 100%|██████████| 216/216 [01:59<00:00,  1.81it/s]\n"
          ]
        },
        {
          "metadata": {
            "tags": null
          },
          "name": "stdout",
          "output_type": "stream",
          "text": [
            "Epoch [224/300] Loss: 2.0278\n"
          ]
        },
        {
          "metadata": {
            "tags": null
          },
          "name": "stderr",
          "output_type": "stream",
          "text": [
            "Epoch 225 Progress: 100%|██████████| 216/216 [01:58<00:00,  1.82it/s]\n"
          ]
        },
        {
          "metadata": {
            "tags": null
          },
          "name": "stdout",
          "output_type": "stream",
          "text": [
            "Epoch [225/300] Loss: 2.0273\n"
          ]
        },
        {
          "metadata": {
            "tags": null
          },
          "name": "stderr",
          "output_type": "stream",
          "text": [
            "Epoch 226 Progress: 100%|██████████| 216/216 [01:58<00:00,  1.82it/s]\n"
          ]
        },
        {
          "metadata": {
            "tags": null
          },
          "name": "stdout",
          "output_type": "stream",
          "text": [
            "Epoch [226/300] Loss: 2.0293\n"
          ]
        },
        {
          "metadata": {
            "tags": null
          },
          "name": "stderr",
          "output_type": "stream",
          "text": [
            "Epoch 227 Progress: 100%|██████████| 216/216 [01:58<00:00,  1.83it/s]\n"
          ]
        },
        {
          "metadata": {
            "tags": null
          },
          "name": "stdout",
          "output_type": "stream",
          "text": [
            "Epoch [227/300] Loss: 2.0274\n"
          ]
        },
        {
          "metadata": {
            "tags": null
          },
          "name": "stderr",
          "output_type": "stream",
          "text": [
            "Epoch 228 Progress: 100%|██████████| 216/216 [01:59<00:00,  1.81it/s]\n"
          ]
        },
        {
          "metadata": {
            "tags": null
          },
          "name": "stdout",
          "output_type": "stream",
          "text": [
            "Epoch [228/300] Loss: 2.0230\n"
          ]
        },
        {
          "metadata": {
            "tags": null
          },
          "name": "stderr",
          "output_type": "stream",
          "text": [
            "Epoch 229 Progress: 100%|██████████| 216/216 [01:58<00:00,  1.83it/s]\n"
          ]
        },
        {
          "metadata": {
            "tags": null
          },
          "name": "stdout",
          "output_type": "stream",
          "text": [
            "Epoch [229/300] Loss: 2.0279\n"
          ]
        },
        {
          "metadata": {
            "tags": null
          },
          "name": "stderr",
          "output_type": "stream",
          "text": [
            "Epoch 230 Progress: 100%|██████████| 216/216 [01:59<00:00,  1.81it/s]\n"
          ]
        },
        {
          "metadata": {
            "tags": null
          },
          "name": "stdout",
          "output_type": "stream",
          "text": [
            "Epoch [230/300] Loss: 2.0245\n"
          ]
        },
        {
          "metadata": {
            "tags": null
          },
          "name": "stderr",
          "output_type": "stream",
          "text": [
            "Epoch 231 Progress: 100%|██████████| 216/216 [01:58<00:00,  1.82it/s]\n"
          ]
        },
        {
          "metadata": {
            "tags": null
          },
          "name": "stdout",
          "output_type": "stream",
          "text": [
            "Epoch [231/300] Loss: 2.0254\n"
          ]
        },
        {
          "metadata": {
            "tags": null
          },
          "name": "stderr",
          "output_type": "stream",
          "text": [
            "Epoch 232 Progress: 100%|██████████| 216/216 [01:59<00:00,  1.81it/s]\n"
          ]
        },
        {
          "metadata": {
            "tags": null
          },
          "name": "stdout",
          "output_type": "stream",
          "text": [
            "Epoch [232/300] Loss: 2.0247\n"
          ]
        },
        {
          "metadata": {
            "tags": null
          },
          "name": "stderr",
          "output_type": "stream",
          "text": [
            "Epoch 233 Progress: 100%|██████████| 216/216 [01:58<00:00,  1.82it/s]\n"
          ]
        },
        {
          "metadata": {
            "tags": null
          },
          "name": "stdout",
          "output_type": "stream",
          "text": [
            "Epoch [233/300] Loss: 2.0235\n"
          ]
        },
        {
          "metadata": {
            "tags": null
          },
          "name": "stderr",
          "output_type": "stream",
          "text": [
            "Epoch 234 Progress: 100%|██████████| 216/216 [01:59<00:00,  1.81it/s]\n"
          ]
        },
        {
          "metadata": {
            "tags": null
          },
          "name": "stdout",
          "output_type": "stream",
          "text": [
            "Epoch [234/300] Loss: 2.0228\n"
          ]
        },
        {
          "metadata": {
            "tags": null
          },
          "name": "stderr",
          "output_type": "stream",
          "text": [
            "Epoch 235 Progress: 100%|██████████| 216/216 [01:58<00:00,  1.82it/s]\n"
          ]
        },
        {
          "metadata": {
            "tags": null
          },
          "name": "stdout",
          "output_type": "stream",
          "text": [
            "Epoch [235/300] Loss: 2.0237\n"
          ]
        },
        {
          "metadata": {
            "tags": null
          },
          "name": "stderr",
          "output_type": "stream",
          "text": [
            "Epoch 236 Progress: 100%|██████████| 216/216 [01:58<00:00,  1.82it/s]\n"
          ]
        },
        {
          "metadata": {
            "tags": null
          },
          "name": "stdout",
          "output_type": "stream",
          "text": [
            "Epoch [236/300] Loss: 2.0208\n"
          ]
        },
        {
          "metadata": {
            "tags": null
          },
          "name": "stderr",
          "output_type": "stream",
          "text": [
            "Epoch 237 Progress: 100%|██████████| 216/216 [01:59<00:00,  1.81it/s]\n"
          ]
        },
        {
          "metadata": {
            "tags": null
          },
          "name": "stdout",
          "output_type": "stream",
          "text": [
            "Epoch [237/300] Loss: 2.0217\n"
          ]
        },
        {
          "metadata": {
            "tags": null
          },
          "name": "stderr",
          "output_type": "stream",
          "text": [
            "Epoch 238 Progress: 100%|██████████| 216/216 [01:58<00:00,  1.82it/s]\n"
          ]
        },
        {
          "metadata": {
            "tags": null
          },
          "name": "stdout",
          "output_type": "stream",
          "text": [
            "Epoch [238/300] Loss: 2.0201\n"
          ]
        },
        {
          "metadata": {
            "tags": null
          },
          "name": "stderr",
          "output_type": "stream",
          "text": [
            "Epoch 239 Progress: 100%|██████████| 216/216 [01:58<00:00,  1.82it/s]\n"
          ]
        },
        {
          "metadata": {
            "tags": null
          },
          "name": "stdout",
          "output_type": "stream",
          "text": [
            "Epoch [239/300] Loss: 2.0220\n"
          ]
        },
        {
          "metadata": {
            "tags": null
          },
          "name": "stderr",
          "output_type": "stream",
          "text": [
            "Epoch 240 Progress: 100%|██████████| 216/216 [01:58<00:00,  1.82it/s]\n"
          ]
        },
        {
          "metadata": {
            "tags": null
          },
          "name": "stdout",
          "output_type": "stream",
          "text": [
            "Epoch [240/300] Loss: 2.0220\n",
            "Model saved to /content/drive/Shareddrives/cxraide/ssd300_vgg16/VERSION_3/EXPORT/model_v1/model_epoch_240.pth\n",
            "Loss Details for Epoch 240:\n",
            "  ● Classification Loss: 1.97566971\n",
            "  ● Localization Loss: 0.04635625\n",
            "  ● Total Loss: 2.02202595\n"
          ]
        },
        {
          "metadata": {
            "tags": null
          },
          "name": "stderr",
          "output_type": "stream",
          "text": [
            "Validation Epoch 240: 100%|██████████| 3515/3515 [01:49<00:00, 31.98it/s]\n"
          ]
        },
        {
          "metadata": {
            "tags": null
          },
          "name": "stdout",
          "output_type": "stream",
          "text": [
            "Average Precision (AP) for Epoch 240:\n",
            "  - mAP: 0.3064\n",
            "  - mAP@0.50: 0.3468\n",
            "  - mAP@0.75: 0.3276\n",
            "  - mAP (small): 0.3773\n",
            "  - mAP (medium): 0.3281\n",
            "  - mAP (large): 0.3483\n",
            "Average Recall (AR) for Epoch 240:\n",
            "  - AR@1: 0.8766\n",
            "  - AR@10: 0.8784\n",
            "  - AR@100: 0.8784\n",
            "  - AR (small): 0.8364\n",
            "  - AR (medium): 0.8948\n",
            "  - AR (large): 0.9125\n",
            "Per-Class mAP for Epoch 240:\n",
            "  - Class 1: 0.3584\n",
            "  - Class 2: 0.3072\n",
            "  - Class 3: 0.3027\n",
            "  - Class 4: 0.2960\n",
            "  - Class 5: 0.2633\n",
            "  - Class 6: 0.3106\n",
            "Per-Class AR (at 100 detections) for Epoch 240:\n",
            "  - Class 1: 0.9294\n",
            "  - Class 2: 0.8693\n",
            "  - Class 3: 0.8829\n",
            "  - Class 4: 0.9000\n",
            "  - Class 5: 0.7883\n",
            "  - Class 6: 0.9003\n"
          ]
        },
        {
          "metadata": {
            "tags": null
          },
          "name": "stderr",
          "output_type": "stream",
          "text": [
            "Epoch 241 Progress: 100%|██████████| 216/216 [01:57<00:00,  1.83it/s]\n"
          ]
        },
        {
          "metadata": {
            "tags": null
          },
          "name": "stdout",
          "output_type": "stream",
          "text": [
            "Epoch [241/300] Loss: 2.0195\n"
          ]
        },
        {
          "metadata": {
            "tags": null
          },
          "name": "stderr",
          "output_type": "stream",
          "text": [
            "Epoch 242 Progress: 100%|██████████| 216/216 [01:58<00:00,  1.82it/s]\n"
          ]
        },
        {
          "metadata": {
            "tags": null
          },
          "name": "stdout",
          "output_type": "stream",
          "text": [
            "Epoch [242/300] Loss: 2.0189\n"
          ]
        },
        {
          "metadata": {
            "tags": null
          },
          "name": "stderr",
          "output_type": "stream",
          "text": [
            "Epoch 243 Progress: 100%|██████████| 216/216 [01:58<00:00,  1.82it/s]\n"
          ]
        },
        {
          "metadata": {
            "tags": null
          },
          "name": "stdout",
          "output_type": "stream",
          "text": [
            "Epoch [243/300] Loss: 2.0193\n"
          ]
        },
        {
          "metadata": {
            "tags": null
          },
          "name": "stderr",
          "output_type": "stream",
          "text": [
            "Epoch 244 Progress: 100%|██████████| 216/216 [01:58<00:00,  1.82it/s]\n"
          ]
        },
        {
          "metadata": {
            "tags": null
          },
          "name": "stdout",
          "output_type": "stream",
          "text": [
            "Epoch [244/300] Loss: 2.0179\n"
          ]
        },
        {
          "metadata": {
            "tags": null
          },
          "name": "stderr",
          "output_type": "stream",
          "text": [
            "Epoch 245 Progress: 100%|██████████| 216/216 [01:58<00:00,  1.82it/s]\n"
          ]
        },
        {
          "metadata": {
            "tags": null
          },
          "name": "stdout",
          "output_type": "stream",
          "text": [
            "Epoch [245/300] Loss: 2.0191\n"
          ]
        },
        {
          "output_type": "stream",
          "name": "stderr",
          "text": [
            "Epoch 246 Progress: 100%|██████████| 216/216 [01:58<00:00,  1.82it/s]\n"
          ]
        },
        {
          "output_type": "stream",
          "name": "stdout",
          "text": [
            "Epoch [246/300] Loss: 2.0185\n"
          ]
        },
        {
          "output_type": "stream",
          "name": "stderr",
          "text": [
            "Epoch 247 Progress: 100%|██████████| 216/216 [01:59<00:00,  1.81it/s]\n"
          ]
        },
        {
          "output_type": "stream",
          "name": "stdout",
          "text": [
            "Epoch [247/300] Loss: 2.0175\n"
          ]
        },
        {
          "output_type": "stream",
          "name": "stderr",
          "text": [
            "Epoch 248 Progress: 100%|██████████| 216/216 [01:59<00:00,  1.81it/s]\n"
          ]
        },
        {
          "output_type": "stream",
          "name": "stdout",
          "text": [
            "Epoch [248/300] Loss: 2.0171\n"
          ]
        },
        {
          "output_type": "stream",
          "name": "stderr",
          "text": [
            "Epoch 249 Progress: 100%|██████████| 216/216 [01:59<00:00,  1.81it/s]\n"
          ]
        },
        {
          "output_type": "stream",
          "name": "stdout",
          "text": [
            "Epoch [249/300] Loss: 2.0152\n"
          ]
        },
        {
          "output_type": "stream",
          "name": "stderr",
          "text": [
            "Epoch 250 Progress: 100%|██████████| 216/216 [01:57<00:00,  1.83it/s]\n"
          ]
        },
        {
          "output_type": "stream",
          "name": "stdout",
          "text": [
            "Epoch [250/300] Loss: 2.0127\n"
          ]
        },
        {
          "output_type": "stream",
          "name": "stderr",
          "text": [
            "Epoch 251 Progress: 100%|██████████| 216/216 [01:59<00:00,  1.81it/s]\n"
          ]
        },
        {
          "output_type": "stream",
          "name": "stdout",
          "text": [
            "Epoch [251/300] Loss: 2.0150\n"
          ]
        },
        {
          "output_type": "stream",
          "name": "stderr",
          "text": [
            "Epoch 252 Progress: 100%|██████████| 216/216 [01:59<00:00,  1.81it/s]\n"
          ]
        },
        {
          "output_type": "stream",
          "name": "stdout",
          "text": [
            "Epoch [252/300] Loss: 2.0134\n"
          ]
        },
        {
          "output_type": "stream",
          "name": "stderr",
          "text": [
            "Epoch 253 Progress: 100%|██████████| 216/216 [01:58<00:00,  1.82it/s]\n"
          ]
        },
        {
          "output_type": "stream",
          "name": "stdout",
          "text": [
            "Epoch [253/300] Loss: 2.0140\n"
          ]
        },
        {
          "output_type": "stream",
          "name": "stderr",
          "text": [
            "Epoch 254 Progress: 100%|██████████| 216/216 [01:58<00:00,  1.82it/s]\n"
          ]
        },
        {
          "output_type": "stream",
          "name": "stdout",
          "text": [
            "Epoch [254/300] Loss: 2.0130\n"
          ]
        },
        {
          "output_type": "stream",
          "name": "stderr",
          "text": [
            "Epoch 255 Progress: 100%|██████████| 216/216 [01:58<00:00,  1.82it/s]\n"
          ]
        },
        {
          "output_type": "stream",
          "name": "stdout",
          "text": [
            "Epoch [255/300] Loss: 2.0144\n"
          ]
        },
        {
          "output_type": "stream",
          "name": "stderr",
          "text": [
            "Epoch 256 Progress: 100%|██████████| 216/216 [01:59<00:00,  1.81it/s]\n"
          ]
        },
        {
          "output_type": "stream",
          "name": "stdout",
          "text": [
            "Epoch [256/300] Loss: 2.0118\n"
          ]
        },
        {
          "output_type": "stream",
          "name": "stderr",
          "text": [
            "Epoch 257 Progress: 100%|██████████| 216/216 [01:58<00:00,  1.82it/s]\n"
          ]
        },
        {
          "output_type": "stream",
          "name": "stdout",
          "text": [
            "Epoch [257/300] Loss: 2.0128\n"
          ]
        },
        {
          "output_type": "stream",
          "name": "stderr",
          "text": [
            "Epoch 258 Progress: 100%|██████████| 216/216 [01:58<00:00,  1.82it/s]\n"
          ]
        },
        {
          "output_type": "stream",
          "name": "stdout",
          "text": [
            "Epoch [258/300] Loss: 2.0122\n"
          ]
        },
        {
          "output_type": "stream",
          "name": "stderr",
          "text": [
            "Epoch 259 Progress: 100%|██████████| 216/216 [01:58<00:00,  1.82it/s]\n"
          ]
        },
        {
          "output_type": "stream",
          "name": "stdout",
          "text": [
            "Epoch [259/300] Loss: 2.0130\n"
          ]
        },
        {
          "output_type": "stream",
          "name": "stderr",
          "text": [
            "Epoch 260 Progress: 100%|██████████| 216/216 [01:58<00:00,  1.82it/s]\n"
          ]
        },
        {
          "output_type": "stream",
          "name": "stdout",
          "text": [
            "Epoch [260/300] Loss: 2.0084\n",
            "Model saved to /content/drive/Shareddrives/cxraide/ssd300_vgg16/VERSION_3/EXPORT/model_v1/model_epoch_260.pth\n",
            "Loss Details for Epoch 260:\n",
            "  ● Classification Loss: 1.96356409\n",
            "  ● Localization Loss: 0.04485741\n",
            "  ● Total Loss: 2.00842150\n"
          ]
        },
        {
          "output_type": "stream",
          "name": "stderr",
          "text": [
            "Validation Epoch 260: 100%|██████████| 3515/3515 [01:50<00:00, 31.77it/s]\n"
          ]
        },
        {
          "output_type": "stream",
          "name": "stdout",
          "text": [
            "Average Precision (AP) for Epoch 260:\n",
            "  - mAP: 0.3102\n",
            "  - mAP@0.50: 0.3456\n",
            "  - mAP@0.75: 0.3309\n",
            "  - mAP (small): 0.3791\n",
            "  - mAP (medium): 0.3251\n",
            "  - mAP (large): 0.3477\n",
            "Average Recall (AR) for Epoch 260:\n",
            "  - AR@1: 0.8855\n",
            "  - AR@10: 0.8866\n",
            "  - AR@100: 0.8866\n",
            "  - AR (small): 0.8358\n",
            "  - AR (medium): 0.9031\n",
            "  - AR (large): 0.9141\n",
            "Per-Class mAP for Epoch 260:\n",
            "  - Class 1: 0.3546\n",
            "  - Class 2: 0.3149\n",
            "  - Class 3: 0.3097\n",
            "  - Class 4: 0.3026\n",
            "  - Class 5: 0.2666\n",
            "  - Class 6: 0.3129\n",
            "Per-Class AR (at 100 detections) for Epoch 260:\n",
            "  - Class 1: 0.9344\n",
            "  - Class 2: 0.8852\n",
            "  - Class 3: 0.8947\n",
            "  - Class 4: 0.9018\n",
            "  - Class 5: 0.7962\n",
            "  - Class 6: 0.9077\n"
          ]
        },
        {
          "output_type": "stream",
          "name": "stderr",
          "text": [
            "Epoch 261 Progress: 100%|██████████| 216/216 [01:58<00:00,  1.82it/s]\n"
          ]
        },
        {
          "output_type": "stream",
          "name": "stdout",
          "text": [
            "Epoch [261/300] Loss: 2.0093\n"
          ]
        },
        {
          "output_type": "stream",
          "name": "stderr",
          "text": [
            "Epoch 262 Progress: 100%|██████████| 216/216 [01:58<00:00,  1.82it/s]\n"
          ]
        },
        {
          "output_type": "stream",
          "name": "stdout",
          "text": [
            "Epoch [262/300] Loss: 2.0087\n"
          ]
        },
        {
          "output_type": "stream",
          "name": "stderr",
          "text": [
            "Epoch 263 Progress: 100%|██████████| 216/216 [01:58<00:00,  1.82it/s]\n"
          ]
        },
        {
          "output_type": "stream",
          "name": "stdout",
          "text": [
            "Epoch [263/300] Loss: 2.0098\n"
          ]
        },
        {
          "output_type": "stream",
          "name": "stderr",
          "text": [
            "Epoch 264 Progress: 100%|██████████| 216/216 [01:58<00:00,  1.82it/s]\n"
          ]
        },
        {
          "output_type": "stream",
          "name": "stdout",
          "text": [
            "Epoch [264/300] Loss: 2.0098\n"
          ]
        },
        {
          "output_type": "stream",
          "name": "stderr",
          "text": [
            "Epoch 265 Progress: 100%|██████████| 216/216 [01:58<00:00,  1.82it/s]\n"
          ]
        },
        {
          "output_type": "stream",
          "name": "stdout",
          "text": [
            "Epoch [265/300] Loss: 2.0083\n"
          ]
        },
        {
          "output_type": "stream",
          "name": "stderr",
          "text": [
            "Epoch 266 Progress: 100%|██████████| 216/216 [01:58<00:00,  1.82it/s]\n"
          ]
        },
        {
          "output_type": "stream",
          "name": "stdout",
          "text": [
            "Epoch [266/300] Loss: 2.0078\n"
          ]
        },
        {
          "output_type": "stream",
          "name": "stderr",
          "text": [
            "Epoch 267 Progress: 100%|██████████| 216/216 [01:58<00:00,  1.82it/s]\n"
          ]
        },
        {
          "output_type": "stream",
          "name": "stdout",
          "text": [
            "Epoch [267/300] Loss: 2.0083\n"
          ]
        },
        {
          "output_type": "stream",
          "name": "stderr",
          "text": [
            "Epoch 268 Progress:  53%|█████▎    | 115/216 [01:04<00:54,  1.87it/s]"
          ]
        }
      ]
    },
    {
      "cell_type": "code",
      "source": [
        "import torch\n",
        "import numpy as np\n",
        "import pandas as pd\n",
        "from PIL import Image\n",
        "from sklearn.metrics import roc_curve, auc\n",
        "import matplotlib.pyplot as plt\n",
        "\n",
        "\n",
        "\n",
        "# Define the model architecture\n",
        "model = ssd300_vgg16(pretrained=False)\n",
        "model.load_state_dict(torch.load('/content/drive/Shareddrives/cxraide/ssd300_vgg16/VERSION_3/EXPORT/model_v1/model_epoch_300.pth'))\n",
        "model.eval()\n",
        "\n",
        "# Function to read and preprocess an image\n",
        "def load_image_into_numpy_array(image_path):\n",
        "    image = Image.open(image_path).convert(\"RGB\")\n",
        "    return np.array(image).astype(np.float32) / 255.0\n",
        "\n",
        "# Function to run predictions on an image and return output\n",
        "def get_model_predictions(model, image_path):\n",
        "    image_np = load_image_into_numpy_array(image_path)\n",
        "    input_tensor = torch.tensor([image_np]).permute(0, 3, 1, 2)  # Add batch dimension and change to (N, C, H, W)\n",
        "    with torch.no_grad():\n",
        "        predictions = model(input_tensor)\n",
        "    return predictions\n",
        "\n",
        "# Extract probabilities for a specific class from predictions\n",
        "def extract_predicted_probabilities(predictions, class_index):\n",
        "    detection_classes = predictions[0]['labels'].numpy()\n",
        "    detection_scores = predictions[0]['scores'].numpy()\n",
        "    class_scores = detection_scores[detection_classes == class_index]\n",
        "    return np.max(class_scores) if len(class_scores) > 0 else 0\n",
        "\n",
        "# Load your validation data\n",
        "val_df = pd.read_csv('/content/drive/Shareddrives/cxraide/ssd300_vgg16/VERSION_2/VALtrans.csv')\n",
        "\n",
        "# Define your classes and their corresponding indices\n",
        "classes = {\n",
        "    'Cardiomegaly': 1,\n",
        "    'Pleural thickening': 2,\n",
        "    'Pulmonary fibrosis': 3,\n",
        "    'Pleural effusion': 4,\n",
        "    'Nodule/Mass': 5,\n",
        "    'Infiltration': 6,\n",
        "    'Consolidation': 7,\n",
        "    'Atelectasis': 8,\n",
        "    'Pneumothorax': 9\n",
        "}\n",
        "\n",
        "# Path to the directory containing images\n",
        "image_directory = '/content/drive/Shareddrives/cxraide/ssd300_vgg16/VERSION_2/VALIDATION/'\n",
        "\n",
        "# Iterate over the validation dataset, run predictions, and extract probabilities\n",
        "predicted_probabilities = {class_name: [] for class_name in classes}\n",
        "\n",
        "for image_id in val_df['image_id']:\n",
        "    image_path = f\"{image_directory}{image_id}.png\"\n",
        "    predictions = get_model_predictions(model, image_path)\n",
        "    for class_name, class_index in classes.items():\n",
        "        prob = extract_predicted_probabilities(predictions, class_index)\n",
        "        predicted_probabilities[class_name].append(prob)\n",
        "\n",
        "# Compute AUC for each class\n",
        "plt.figure()\n",
        "for class_name, class_index in classes.items():\n",
        "    y_true = val_df[class_name].values\n",
        "    y_scores = predicted_probabilities[class_name]\n",
        "\n",
        "    # Compute ROC curve and AUC\n",
        "    fpr, tpr, _ = roc_curve(y_true, y_scores)\n",
        "    roc_auc = auc(fpr, tpr)\n",
        "\n",
        "    # Plot ROC curve for each class\n",
        "    plt.plot(fpr, tpr, label=f'{class_name} (AUC = {roc_auc:.2f})')\n",
        "\n",
        "# Add labels and legend\n",
        "plt.xlabel('False Positive Rate')\n",
        "plt.ylabel('True Positive Rate')\n",
        "plt.title('ROC Curve for Abnormalities')\n",
        "plt.legend(loc='lower right', fontsize=7)\n",
        "plt.show()"
      ],
      "metadata": {
        "colab": {
          "base_uri": "https://localhost:8080/",
          "height": 498
        },
        "id": "qsKrFbJ4v52U",
        "outputId": "8b2077e0-a50c-4a66-b6d9-90908cbabf49"
      },
      "execution_count": null,
      "outputs": [
        {
          "output_type": "stream",
          "name": "stderr",
          "text": [
            "/usr/local/lib/python3.11/dist-packages/torchvision/models/_utils.py:208: UserWarning: The parameter 'pretrained' is deprecated since 0.13 and may be removed in the future, please use 'weights' instead.\n",
            "  warnings.warn(\n",
            "/usr/local/lib/python3.11/dist-packages/torchvision/models/_utils.py:223: UserWarning: Arguments other than a weight enum or `None` for 'weights' are deprecated since 0.13 and may be removed in the future. The current behavior is equivalent to passing `weights=None`.\n",
            "  warnings.warn(msg)\n",
            "Downloading: \"https://download.pytorch.org/models/vgg16_features-amdegroot-88682ab5.pth\" to /root/.cache/torch/hub/checkpoints/vgg16_features-amdegroot-88682ab5.pth\n",
            "100%|██████████| 528M/528M [00:05<00:00, 105MB/s]\n"
          ]
        },
        {
          "output_type": "error",
          "ename": "RuntimeError",
          "evalue": "Attempting to deserialize object on a CUDA device but torch.cuda.is_available() is False. If you are running on a CPU-only machine, please use torch.load with map_location=torch.device('cpu') to map your storages to the CPU.",
          "traceback": [
            "\u001b[0;31m---------------------------------------------------------------------------\u001b[0m",
            "\u001b[0;31mRuntimeError\u001b[0m                              Traceback (most recent call last)",
            "\u001b[0;32m<ipython-input-9-7c4867a61bc4>\u001b[0m in \u001b[0;36m<cell line: 0>\u001b[0;34m()\u001b[0m\n\u001b[1;32m     10\u001b[0m \u001b[0;31m# Define the model architecture\u001b[0m\u001b[0;34m\u001b[0m\u001b[0;34m\u001b[0m\u001b[0m\n\u001b[1;32m     11\u001b[0m \u001b[0mmodel\u001b[0m \u001b[0;34m=\u001b[0m \u001b[0mssd300_vgg16\u001b[0m\u001b[0;34m(\u001b[0m\u001b[0mpretrained\u001b[0m\u001b[0;34m=\u001b[0m\u001b[0;32mFalse\u001b[0m\u001b[0;34m)\u001b[0m\u001b[0;34m\u001b[0m\u001b[0;34m\u001b[0m\u001b[0m\n\u001b[0;32m---> 12\u001b[0;31m \u001b[0mmodel\u001b[0m\u001b[0;34m.\u001b[0m\u001b[0mload_state_dict\u001b[0m\u001b[0;34m(\u001b[0m\u001b[0mtorch\u001b[0m\u001b[0;34m.\u001b[0m\u001b[0mload\u001b[0m\u001b[0;34m(\u001b[0m\u001b[0;34m'/content/drive/Shareddrives/cxraide/ssd300_vgg16/VERSION_3/EXPORT/model_v1/model_epoch_300.pth'\u001b[0m\u001b[0;34m)\u001b[0m\u001b[0;34m)\u001b[0m\u001b[0;34m\u001b[0m\u001b[0;34m\u001b[0m\u001b[0m\n\u001b[0m\u001b[1;32m     13\u001b[0m \u001b[0mmodel\u001b[0m\u001b[0;34m.\u001b[0m\u001b[0meval\u001b[0m\u001b[0;34m(\u001b[0m\u001b[0;34m)\u001b[0m\u001b[0;34m\u001b[0m\u001b[0;34m\u001b[0m\u001b[0m\n\u001b[1;32m     14\u001b[0m \u001b[0;34m\u001b[0m\u001b[0m\n",
            "\u001b[0;32m/usr/local/lib/python3.11/dist-packages/torch/serialization.py\u001b[0m in \u001b[0;36mload\u001b[0;34m(f, map_location, pickle_module, weights_only, mmap, **pickle_load_args)\u001b[0m\n\u001b[1;32m   1460\u001b[0m                 \u001b[0;32mif\u001b[0m \u001b[0mweights_only\u001b[0m\u001b[0;34m:\u001b[0m\u001b[0;34m\u001b[0m\u001b[0;34m\u001b[0m\u001b[0m\n\u001b[1;32m   1461\u001b[0m                     \u001b[0;32mtry\u001b[0m\u001b[0;34m:\u001b[0m\u001b[0;34m\u001b[0m\u001b[0;34m\u001b[0m\u001b[0m\n\u001b[0;32m-> 1462\u001b[0;31m                         return _load(\n\u001b[0m\u001b[1;32m   1463\u001b[0m                             \u001b[0mopened_zipfile\u001b[0m\u001b[0;34m,\u001b[0m\u001b[0;34m\u001b[0m\u001b[0;34m\u001b[0m\u001b[0m\n\u001b[1;32m   1464\u001b[0m                             \u001b[0mmap_location\u001b[0m\u001b[0;34m,\u001b[0m\u001b[0;34m\u001b[0m\u001b[0;34m\u001b[0m\u001b[0m\n",
            "\u001b[0;32m/usr/local/lib/python3.11/dist-packages/torch/serialization.py\u001b[0m in \u001b[0;36m_load\u001b[0;34m(zip_file, map_location, pickle_module, pickle_file, overall_storage, **pickle_load_args)\u001b[0m\n\u001b[1;32m   1962\u001b[0m     \u001b[0;32mglobal\u001b[0m \u001b[0m_serialization_tls\u001b[0m\u001b[0;34m\u001b[0m\u001b[0;34m\u001b[0m\u001b[0m\n\u001b[1;32m   1963\u001b[0m     \u001b[0m_serialization_tls\u001b[0m\u001b[0;34m.\u001b[0m\u001b[0mmap_location\u001b[0m \u001b[0;34m=\u001b[0m \u001b[0mmap_location\u001b[0m\u001b[0;34m\u001b[0m\u001b[0;34m\u001b[0m\u001b[0m\n\u001b[0;32m-> 1964\u001b[0;31m     \u001b[0mresult\u001b[0m \u001b[0;34m=\u001b[0m \u001b[0munpickler\u001b[0m\u001b[0;34m.\u001b[0m\u001b[0mload\u001b[0m\u001b[0;34m(\u001b[0m\u001b[0;34m)\u001b[0m\u001b[0;34m\u001b[0m\u001b[0;34m\u001b[0m\u001b[0m\n\u001b[0m\u001b[1;32m   1965\u001b[0m     \u001b[0m_serialization_tls\u001b[0m\u001b[0;34m.\u001b[0m\u001b[0mmap_location\u001b[0m \u001b[0;34m=\u001b[0m \u001b[0;32mNone\u001b[0m\u001b[0;34m\u001b[0m\u001b[0;34m\u001b[0m\u001b[0m\n\u001b[1;32m   1966\u001b[0m \u001b[0;34m\u001b[0m\u001b[0m\n",
            "\u001b[0;32m/usr/local/lib/python3.11/dist-packages/torch/_weights_only_unpickler.py\u001b[0m in \u001b[0;36mload\u001b[0;34m(self)\u001b[0m\n\u001b[1;32m    510\u001b[0m                         \u001b[0;34mf\"Only persistent_load of storage is allowed, but got {pid[0]}\"\u001b[0m\u001b[0;34m\u001b[0m\u001b[0;34m\u001b[0m\u001b[0m\n\u001b[1;32m    511\u001b[0m                     )\n\u001b[0;32m--> 512\u001b[0;31m                 \u001b[0mself\u001b[0m\u001b[0;34m.\u001b[0m\u001b[0mappend\u001b[0m\u001b[0;34m(\u001b[0m\u001b[0mself\u001b[0m\u001b[0;34m.\u001b[0m\u001b[0mpersistent_load\u001b[0m\u001b[0;34m(\u001b[0m\u001b[0mpid\u001b[0m\u001b[0;34m)\u001b[0m\u001b[0;34m)\u001b[0m\u001b[0;34m\u001b[0m\u001b[0;34m\u001b[0m\u001b[0m\n\u001b[0m\u001b[1;32m    513\u001b[0m             \u001b[0;32melif\u001b[0m \u001b[0mkey\u001b[0m\u001b[0;34m[\u001b[0m\u001b[0;36m0\u001b[0m\u001b[0;34m]\u001b[0m \u001b[0;32min\u001b[0m \u001b[0;34m[\u001b[0m\u001b[0mBINGET\u001b[0m\u001b[0;34m[\u001b[0m\u001b[0;36m0\u001b[0m\u001b[0;34m]\u001b[0m\u001b[0;34m,\u001b[0m \u001b[0mLONG_BINGET\u001b[0m\u001b[0;34m[\u001b[0m\u001b[0;36m0\u001b[0m\u001b[0;34m]\u001b[0m\u001b[0;34m]\u001b[0m\u001b[0;34m:\u001b[0m\u001b[0;34m\u001b[0m\u001b[0;34m\u001b[0m\u001b[0m\n\u001b[1;32m    514\u001b[0m                 \u001b[0midx\u001b[0m \u001b[0;34m=\u001b[0m \u001b[0;34m(\u001b[0m\u001b[0mread\u001b[0m\u001b[0;34m(\u001b[0m\u001b[0;36m1\u001b[0m\u001b[0;34m)\u001b[0m \u001b[0;32mif\u001b[0m \u001b[0mkey\u001b[0m\u001b[0;34m[\u001b[0m\u001b[0;36m0\u001b[0m\u001b[0;34m]\u001b[0m \u001b[0;34m==\u001b[0m \u001b[0mBINGET\u001b[0m\u001b[0;34m[\u001b[0m\u001b[0;36m0\u001b[0m\u001b[0;34m]\u001b[0m \u001b[0;32melse\u001b[0m \u001b[0munpack\u001b[0m\u001b[0;34m(\u001b[0m\u001b[0;34m\"<I\"\u001b[0m\u001b[0;34m,\u001b[0m \u001b[0mread\u001b[0m\u001b[0;34m(\u001b[0m\u001b[0;36m4\u001b[0m\u001b[0;34m)\u001b[0m\u001b[0;34m)\u001b[0m\u001b[0;34m)\u001b[0m\u001b[0;34m[\u001b[0m\u001b[0;36m0\u001b[0m\u001b[0;34m]\u001b[0m\u001b[0;34m\u001b[0m\u001b[0;34m\u001b[0m\u001b[0m\n",
            "\u001b[0;32m/usr/local/lib/python3.11/dist-packages/torch/serialization.py\u001b[0m in \u001b[0;36mpersistent_load\u001b[0;34m(saved_id)\u001b[0m\n\u001b[1;32m   1926\u001b[0m         \u001b[0;32melse\u001b[0m\u001b[0;34m:\u001b[0m\u001b[0;34m\u001b[0m\u001b[0;34m\u001b[0m\u001b[0m\n\u001b[1;32m   1927\u001b[0m             \u001b[0mnbytes\u001b[0m \u001b[0;34m=\u001b[0m \u001b[0mnumel\u001b[0m \u001b[0;34m*\u001b[0m \u001b[0mtorch\u001b[0m\u001b[0;34m.\u001b[0m\u001b[0m_utils\u001b[0m\u001b[0;34m.\u001b[0m\u001b[0m_element_size\u001b[0m\u001b[0;34m(\u001b[0m\u001b[0mdtype\u001b[0m\u001b[0;34m)\u001b[0m\u001b[0;34m\u001b[0m\u001b[0;34m\u001b[0m\u001b[0m\n\u001b[0;32m-> 1928\u001b[0;31m             typed_storage = load_tensor(\n\u001b[0m\u001b[1;32m   1929\u001b[0m                 \u001b[0mdtype\u001b[0m\u001b[0;34m,\u001b[0m \u001b[0mnbytes\u001b[0m\u001b[0;34m,\u001b[0m \u001b[0mkey\u001b[0m\u001b[0;34m,\u001b[0m \u001b[0m_maybe_decode_ascii\u001b[0m\u001b[0;34m(\u001b[0m\u001b[0mlocation\u001b[0m\u001b[0;34m)\u001b[0m\u001b[0;34m\u001b[0m\u001b[0;34m\u001b[0m\u001b[0m\n\u001b[1;32m   1930\u001b[0m             )\n",
            "\u001b[0;32m/usr/local/lib/python3.11/dist-packages/torch/serialization.py\u001b[0m in \u001b[0;36mload_tensor\u001b[0;34m(dtype, numel, key, location)\u001b[0m\n\u001b[1;32m   1898\u001b[0m         \u001b[0;31m# stop wrapping with TypedStorage\u001b[0m\u001b[0;34m\u001b[0m\u001b[0;34m\u001b[0m\u001b[0m\n\u001b[1;32m   1899\u001b[0m         typed_storage = torch.storage.TypedStorage(\n\u001b[0;32m-> 1900\u001b[0;31m             \u001b[0mwrap_storage\u001b[0m\u001b[0;34m=\u001b[0m\u001b[0mrestore_location\u001b[0m\u001b[0;34m(\u001b[0m\u001b[0mstorage\u001b[0m\u001b[0;34m,\u001b[0m \u001b[0mlocation\u001b[0m\u001b[0;34m)\u001b[0m\u001b[0;34m,\u001b[0m\u001b[0;34m\u001b[0m\u001b[0;34m\u001b[0m\u001b[0m\n\u001b[0m\u001b[1;32m   1901\u001b[0m             \u001b[0mdtype\u001b[0m\u001b[0;34m=\u001b[0m\u001b[0mdtype\u001b[0m\u001b[0;34m,\u001b[0m\u001b[0;34m\u001b[0m\u001b[0;34m\u001b[0m\u001b[0m\n\u001b[1;32m   1902\u001b[0m             \u001b[0m_internal\u001b[0m\u001b[0;34m=\u001b[0m\u001b[0;32mTrue\u001b[0m\u001b[0;34m,\u001b[0m\u001b[0;34m\u001b[0m\u001b[0;34m\u001b[0m\u001b[0m\n",
            "\u001b[0;32m/usr/local/lib/python3.11/dist-packages/torch/serialization.py\u001b[0m in \u001b[0;36mdefault_restore_location\u001b[0;34m(storage, location)\u001b[0m\n\u001b[1;32m    691\u001b[0m     \"\"\"\n\u001b[1;32m    692\u001b[0m     \u001b[0;32mfor\u001b[0m \u001b[0m_\u001b[0m\u001b[0;34m,\u001b[0m \u001b[0m_\u001b[0m\u001b[0;34m,\u001b[0m \u001b[0mfn\u001b[0m \u001b[0;32min\u001b[0m \u001b[0m_package_registry\u001b[0m\u001b[0;34m:\u001b[0m\u001b[0;34m\u001b[0m\u001b[0;34m\u001b[0m\u001b[0m\n\u001b[0;32m--> 693\u001b[0;31m         \u001b[0mresult\u001b[0m \u001b[0;34m=\u001b[0m \u001b[0mfn\u001b[0m\u001b[0;34m(\u001b[0m\u001b[0mstorage\u001b[0m\u001b[0;34m,\u001b[0m \u001b[0mlocation\u001b[0m\u001b[0;34m)\u001b[0m\u001b[0;34m\u001b[0m\u001b[0;34m\u001b[0m\u001b[0m\n\u001b[0m\u001b[1;32m    694\u001b[0m         \u001b[0;32mif\u001b[0m \u001b[0mresult\u001b[0m \u001b[0;32mis\u001b[0m \u001b[0;32mnot\u001b[0m \u001b[0;32mNone\u001b[0m\u001b[0;34m:\u001b[0m\u001b[0;34m\u001b[0m\u001b[0;34m\u001b[0m\u001b[0m\n\u001b[1;32m    695\u001b[0m             \u001b[0;32mreturn\u001b[0m \u001b[0mresult\u001b[0m\u001b[0;34m\u001b[0m\u001b[0;34m\u001b[0m\u001b[0m\n",
            "\u001b[0;32m/usr/local/lib/python3.11/dist-packages/torch/serialization.py\u001b[0m in \u001b[0;36m_deserialize\u001b[0;34m(backend_name, obj, location)\u001b[0m\n\u001b[1;32m    629\u001b[0m         \u001b[0mbackend_name\u001b[0m \u001b[0;34m=\u001b[0m \u001b[0mtorch\u001b[0m\u001b[0;34m.\u001b[0m\u001b[0m_C\u001b[0m\u001b[0;34m.\u001b[0m\u001b[0m_get_privateuse1_backend_name\u001b[0m\u001b[0;34m(\u001b[0m\u001b[0;34m)\u001b[0m\u001b[0;34m\u001b[0m\u001b[0;34m\u001b[0m\u001b[0m\n\u001b[1;32m    630\u001b[0m     \u001b[0;32mif\u001b[0m \u001b[0mlocation\u001b[0m\u001b[0;34m.\u001b[0m\u001b[0mstartswith\u001b[0m\u001b[0;34m(\u001b[0m\u001b[0mbackend_name\u001b[0m\u001b[0;34m)\u001b[0m\u001b[0;34m:\u001b[0m\u001b[0;34m\u001b[0m\u001b[0;34m\u001b[0m\u001b[0m\n\u001b[0;32m--> 631\u001b[0;31m         \u001b[0mdevice\u001b[0m \u001b[0;34m=\u001b[0m \u001b[0m_validate_device\u001b[0m\u001b[0;34m(\u001b[0m\u001b[0mlocation\u001b[0m\u001b[0;34m,\u001b[0m \u001b[0mbackend_name\u001b[0m\u001b[0;34m)\u001b[0m\u001b[0;34m\u001b[0m\u001b[0;34m\u001b[0m\u001b[0m\n\u001b[0m\u001b[1;32m    632\u001b[0m         \u001b[0;32mreturn\u001b[0m \u001b[0mobj\u001b[0m\u001b[0;34m.\u001b[0m\u001b[0mto\u001b[0m\u001b[0;34m(\u001b[0m\u001b[0mdevice\u001b[0m\u001b[0;34m=\u001b[0m\u001b[0mdevice\u001b[0m\u001b[0;34m)\u001b[0m\u001b[0;34m\u001b[0m\u001b[0;34m\u001b[0m\u001b[0m\n\u001b[1;32m    633\u001b[0m \u001b[0;34m\u001b[0m\u001b[0m\n",
            "\u001b[0;32m/usr/local/lib/python3.11/dist-packages/torch/serialization.py\u001b[0m in \u001b[0;36m_validate_device\u001b[0;34m(location, backend_name)\u001b[0m\n\u001b[1;32m    598\u001b[0m         \u001b[0mdevice_index\u001b[0m \u001b[0;34m=\u001b[0m \u001b[0mdevice\u001b[0m\u001b[0;34m.\u001b[0m\u001b[0mindex\u001b[0m \u001b[0;32mif\u001b[0m \u001b[0mdevice\u001b[0m\u001b[0;34m.\u001b[0m\u001b[0mindex\u001b[0m \u001b[0;32melse\u001b[0m \u001b[0;36m0\u001b[0m\u001b[0;34m\u001b[0m\u001b[0;34m\u001b[0m\u001b[0m\n\u001b[1;32m    599\u001b[0m     \u001b[0;32mif\u001b[0m \u001b[0mhasattr\u001b[0m\u001b[0;34m(\u001b[0m\u001b[0mdevice_module\u001b[0m\u001b[0;34m,\u001b[0m \u001b[0;34m\"is_available\"\u001b[0m\u001b[0;34m)\u001b[0m \u001b[0;32mand\u001b[0m \u001b[0;32mnot\u001b[0m \u001b[0mdevice_module\u001b[0m\u001b[0;34m.\u001b[0m\u001b[0mis_available\u001b[0m\u001b[0;34m(\u001b[0m\u001b[0;34m)\u001b[0m\u001b[0;34m:\u001b[0m\u001b[0;34m\u001b[0m\u001b[0;34m\u001b[0m\u001b[0m\n\u001b[0;32m--> 600\u001b[0;31m         raise RuntimeError(\n\u001b[0m\u001b[1;32m    601\u001b[0m             \u001b[0;34mf\"Attempting to deserialize object on a {backend_name.upper()} \"\u001b[0m\u001b[0;34m\u001b[0m\u001b[0;34m\u001b[0m\u001b[0m\n\u001b[1;32m    602\u001b[0m             \u001b[0;34mf\"device but torch.{backend_name}.is_available() is False. \"\u001b[0m\u001b[0;34m\u001b[0m\u001b[0;34m\u001b[0m\u001b[0m\n",
            "\u001b[0;31mRuntimeError\u001b[0m: Attempting to deserialize object on a CUDA device but torch.cuda.is_available() is False. If you are running on a CPU-only machine, please use torch.load with map_location=torch.device('cpu') to map your storages to the CPU."
          ]
        }
      ]
    },
    {
      "cell_type": "code",
      "source": [
        "from torchvision.models.detection import ssd300_vgg16\n",
        "model = ssd300_vgg16(weights=\"DEFAULT\")  # Instead of pretrained=True"
      ],
      "metadata": {
        "colab": {
          "base_uri": "https://localhost:8080/"
        },
        "id": "9U0LsxR4r0Dk",
        "outputId": "9ff3a67e-6d60-41ad-c631-a419662d9433"
      },
      "execution_count": null,
      "outputs": [
        {
          "output_type": "stream",
          "name": "stderr",
          "text": [
            "Downloading: \"https://download.pytorch.org/models/ssd300_vgg16_coco-b556d3b4.pth\" to /root/.cache/torch/hub/checkpoints/ssd300_vgg16_coco-b556d3b4.pth\n",
            "100%|██████████| 136M/136M [00:01<00:00, 142MB/s]\n"
          ]
        }
      ]
    },
    {
      "cell_type": "code",
      "source": [
        "# Import necessary libraries\n",
        "import matplotlib.pyplot as plt\n",
        "\n",
        "# Updated data for the new line graph\n",
        "steps_new = [20, 40, 60, 80, 100, 120, 140, 160,180,200,220,240,260]\n",
        "total_loss_new = [\n",
        "    2.81377706, 2.52794697, 2.37385826, 2.26888668, 2.19622535,\n",
        "    2.14789317, 2.10868187, 2.08551366, 2.06023689, 2.04491492,\n",
        "    2.02988827, 2.02202595, 2.00842150,\n",
        "\n",
        "]\n",
        "\n",
        "# Create the updated plot\n",
        "plt.figure(figsize=(10, 5))\n",
        "plt.plot(steps_new, total_loss_new, marker='o', linestyle='-', color='blue')\n",
        "\n",
        "# Add titles and labels\n",
        "plt.title('Total Loss Over Epochs', fontsize=14)\n",
        "plt.xlabel('Epochs', fontsize=12)\n",
        "plt.ylabel('Total Loss', fontsize=12)\n",
        "\n",
        "# Set x-axis ticks to display every 500th step\n",
        "plt.xticks(range(20, 280, 20), fontsize=10)\n",
        "\n",
        "# Add grid for better readability\n",
        "plt.grid(True)\n",
        "\n",
        "# Display the plot\n",
        "plt.show()"
      ],
      "metadata": {
        "colab": {
          "base_uri": "https://localhost:8080/",
          "height": 492
        },
        "id": "FYZVjnVzr2o4",
        "outputId": "af002634-951d-4be5-f1c1-fdbb2c5c9233"
      },
      "execution_count": null,
      "outputs": [
        {
          "output_type": "display_data",
          "data": {
            "text/plain": [
              "<Figure size 1000x500 with 1 Axes>"
            ],
            "image/png": "[encoded data removed]"
          },
          "metadata": {}
        }
      ]
    }
  ]
}